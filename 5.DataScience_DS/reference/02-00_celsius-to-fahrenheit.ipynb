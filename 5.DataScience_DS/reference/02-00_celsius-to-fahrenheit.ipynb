{
 "cells": [
  {
   "cell_type": "code",
   "execution_count": 2,
   "metadata": {
    "collapsed": true
   },
   "outputs": [],
   "source": [
    "%matplotlib inline\n",
    "import numpy as np\n",
    "import pandas as pd\n",
    "import matplotlib.pyplot as plt"
   ]
  },
  {
   "cell_type": "markdown",
   "metadata": {},
   "source": [
    "## Generate Dataset"
   ]
  },
  {
   "cell_type": "code",
   "execution_count": 3,
   "metadata": {},
   "outputs": [
    {
     "name": "stdout",
     "output_type": "stream",
     "text": [
      "(100,)\n"
     ]
    },
    {
     "data": {
      "text/plain": [
       "array([67, 23, 18, 13, 91, 73, 27, 55, 94, 29])"
      ]
     },
     "execution_count": 3,
     "metadata": {},
     "output_type": "execute_result"
    }
   ],
   "source": [
    "C = np.random.randint(low=0, high=100, size=100)\n",
    "\n",
    "print(C.shape)\n",
    "C[:10]"
   ]
  },
  {
   "cell_type": "markdown",
   "metadata": {},
   "source": [
    "** How to convert Celsius(C) to Fahrenheit(F)? ** \n",
    "  * C x 1.8 + 32 = F"
   ]
  },
  {
   "cell_type": "code",
   "execution_count": 4,
   "metadata": {},
   "outputs": [
    {
     "name": "stdout",
     "output_type": "stream",
     "text": [
      "(100,)\n"
     ]
    },
    {
     "data": {
      "text/plain": [
       "array([ 152.6,   73.4,   64.4,   55.4,  195.8,  163.4,   80.6,  131. ,\n",
       "        201.2,   84.2])"
      ]
     },
     "execution_count": 4,
     "metadata": {},
     "output_type": "execute_result"
    }
   ],
   "source": [
    "F = C * 1.8 + 32\n",
    "\n",
    "print(F.shape)\n",
    "F[:10]"
   ]
  },
  {
   "cell_type": "markdown",
   "metadata": {},
   "source": [
    "** Plot ** "
   ]
  },
  {
   "cell_type": "code",
   "execution_count": 5,
   "metadata": {},
   "outputs": [
    {
     "data": {
      "text/plain": [
       "<matplotlib.collections.PathCollection at 0x11e5245f8>"
      ]
     },
     "execution_count": 5,
     "metadata": {},
     "output_type": "execute_result"
    },
    {
     "data": {
      "image/png": "[encoded data removed]",
      "text/plain": [
       "<matplotlib.figure.Figure at 0x115f21908>"
      ]
     },
     "metadata": {},
     "output_type": "display_data"
    }
   ],
   "source": [
    "plt.scatter(C, F)"
   ]
  },
  {
   "cell_type": "markdown",
   "metadata": {},
   "source": [
    "### Gradient Descent"
   ]
  },
  {
   "cell_type": "code",
   "execution_count": 6,
   "metadata": {},
   "outputs": [
    {
     "name": "stdout",
     "output_type": "stream",
     "text": [
      "    0 w = 2.697057, b = 0.410431, error = 170.642947\n",
      "10000 w = 2.025280, b = 16.119126, error = 6.355201\n",
      "20000 w = 1.913231, b = 24.017892, error = 3.194276\n",
      "30000 w = 1.856913, b = 27.988001, error = 1.605520\n",
      "40000 w = 1.828606, b = 29.983473, error = 0.806973\n",
      "----------------------------------------\n",
      "46959 w = 1.817725, b = 30.750521, error = 0.499982\n"
     ]
    }
   ],
   "source": [
    "num_epoch = 100000\n",
    "learning_rate = 0.0003\n",
    "\n",
    "X = C\n",
    "y = F\n",
    "\n",
    "w = np.random.uniform(low=-1.0, high=1.0)\n",
    "b = np.random.uniform(low=-1.0, high=1.0)\n",
    "\n",
    "for epoch in range(num_epoch):\n",
    "    y_predict = w * C + b\n",
    "    \n",
    "    error = np.abs(y_predict - y).mean()\n",
    "    \n",
    "    if error < 0.5:\n",
    "        break\n",
    "\n",
    "    w = w - learning_rate * ((y_predict - y) * X).mean()\n",
    "    b = b - learning_rate * (y_predict - y).mean()\n",
    "\n",
    "    if epoch % 10000 == 0:\n",
    "        print(f\"{epoch:5} w = {w:.6f}, b = {b:.6f}, error = {error:.6f}\")\n",
    "\n",
    "print(\"----\" * 10)\n",
    "print(f\"{epoch:5} w = {w:.6f}, b = {b:.6f}, error = {error:.6f}\")"
   ]
  },
  {
   "cell_type": "markdown",
   "metadata": {
    "collapsed": true
   },
   "source": [
    "## Predict"
   ]
  },
  {
   "cell_type": "code",
   "execution_count": 10,
   "metadata": {},
   "outputs": [
    {
     "data": {
      "text/plain": [
       "array([ 152.53806968,   72.558187  ,   63.46956397,   54.38094094,\n",
       "        196.16346023])"
      ]
     },
     "execution_count": 10,
     "metadata": {},
     "output_type": "execute_result"
    }
   ],
   "source": [
    "y_predict = w * C + b\n",
    "y_predict[0:5]"
   ]
  },
  {
   "cell_type": "code",
   "execution_count": 13,
   "metadata": {},
   "outputs": [
    {
     "name": "stdout",
     "output_type": "stream",
     "text": [
      "(100, 3)\n"
     ]
    },
    {
     "data": {
      "text/html": [
       "<div>\n",
       "<style>\n",
       "    .dataframe thead tr:only-child th {\n",
       "        text-align: right;\n",
       "    }\n",
       "\n",
       "    .dataframe thead th {\n",
       "        text-align: left;\n",
       "    }\n",
       "\n",
       "    .dataframe tbody tr th {\n",
       "        vertical-align: top;\n",
       "    }\n",
       "</style>\n",
       "<table border=\"1\" class=\"dataframe\">\n",
       "  <thead>\n",
       "    <tr style=\"text-align: right;\">\n",
       "      <th></th>\n",
       "      <th>C</th>\n",
       "      <th>F</th>\n",
       "      <th>F(predict)</th>\n",
       "    </tr>\n",
       "  </thead>\n",
       "  <tbody>\n",
       "    <tr>\n",
       "      <th>0</th>\n",
       "      <td>67</td>\n",
       "      <td>152.6</td>\n",
       "      <td>152.538070</td>\n",
       "    </tr>\n",
       "    <tr>\n",
       "      <th>1</th>\n",
       "      <td>23</td>\n",
       "      <td>73.4</td>\n",
       "      <td>72.558187</td>\n",
       "    </tr>\n",
       "    <tr>\n",
       "      <th>2</th>\n",
       "      <td>18</td>\n",
       "      <td>64.4</td>\n",
       "      <td>63.469564</td>\n",
       "    </tr>\n",
       "    <tr>\n",
       "      <th>3</th>\n",
       "      <td>13</td>\n",
       "      <td>55.4</td>\n",
       "      <td>54.380941</td>\n",
       "    </tr>\n",
       "    <tr>\n",
       "      <th>4</th>\n",
       "      <td>91</td>\n",
       "      <td>195.8</td>\n",
       "      <td>196.163460</td>\n",
       "    </tr>\n",
       "    <tr>\n",
       "      <th>5</th>\n",
       "      <td>73</td>\n",
       "      <td>163.4</td>\n",
       "      <td>163.444417</td>\n",
       "    </tr>\n",
       "    <tr>\n",
       "      <th>6</th>\n",
       "      <td>27</td>\n",
       "      <td>80.6</td>\n",
       "      <td>79.829085</td>\n",
       "    </tr>\n",
       "    <tr>\n",
       "      <th>7</th>\n",
       "      <td>55</td>\n",
       "      <td>131.0</td>\n",
       "      <td>130.725374</td>\n",
       "    </tr>\n",
       "    <tr>\n",
       "      <th>8</th>\n",
       "      <td>94</td>\n",
       "      <td>201.2</td>\n",
       "      <td>201.616634</td>\n",
       "    </tr>\n",
       "    <tr>\n",
       "      <th>9</th>\n",
       "      <td>29</td>\n",
       "      <td>84.2</td>\n",
       "      <td>83.464535</td>\n",
       "    </tr>\n",
       "  </tbody>\n",
       "</table>\n",
       "</div>"
      ],
      "text/plain": [
       "    C      F  F(predict)\n",
       "0  67  152.6  152.538070\n",
       "1  23   73.4   72.558187\n",
       "2  18   64.4   63.469564\n",
       "3  13   55.4   54.380941\n",
       "4  91  195.8  196.163460\n",
       "5  73  163.4  163.444417\n",
       "6  27   80.6   79.829085\n",
       "7  55  131.0  130.725374\n",
       "8  94  201.2  201.616634\n",
       "9  29   84.2   83.464535"
      ]
     },
     "execution_count": 13,
     "metadata": {},
     "output_type": "execute_result"
    }
   ],
   "source": [
    "result = pd.DataFrame({\"C\": C, \"F\": F, \"F(predict)\": y_predict})\n",
    "\n",
    "print(result.shape)\n",
    "result.head(10)"
   ]
  },
  {
   "cell_type": "code",
   "execution_count": null,
   "metadata": {
    "collapsed": true
   },
   "outputs": [],
   "source": []
  }
 ],
 "metadata": {
  "kernelspec": {
   "display_name": "Python 3",
   "language": "python",
   "name": "python3"
  },
  "language_info": {
   "codemirror_mode": {
    "name": "ipython",
    "version": 3
   },
   "file_extension": ".py",
   "mimetype": "text/x-python",
   "name": "python",
   "nbconvert_exporter": "python",
   "pygments_lexer": "ipython3",
   "version": "3.6.3"
  }
 },
 "nbformat": 4,
 "nbformat_minor": 1
}
