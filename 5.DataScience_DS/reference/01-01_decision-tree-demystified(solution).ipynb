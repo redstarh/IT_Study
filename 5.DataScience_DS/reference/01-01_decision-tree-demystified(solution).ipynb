{
 "cells": [
  {
   "cell_type": "code",
   "execution_count": 2,
   "metadata": {
    "collapsed": true
   },
   "outputs": [],
   "source": [
    "import pandas as pd"
   ]
  },
  {
   "cell_type": "markdown",
   "metadata": {},
   "source": [
    "## Load Dataset"
   ]
  },
  {
   "cell_type": "code",
   "execution_count": 246,
   "metadata": {},
   "outputs": [
    {
     "name": "stdout",
     "output_type": "stream",
     "text": [
      "(5, 5)\n"
     ]
    },
    {
     "data": {
      "text/html": [
       "<div>\n",
       "<style>\n",
       "    .dataframe thead tr:only-child th {\n",
       "        text-align: right;\n",
       "    }\n",
       "\n",
       "    .dataframe thead th {\n",
       "        text-align: left;\n",
       "    }\n",
       "\n",
       "    .dataframe tbody tr th {\n",
       "        vertical-align: top;\n",
       "    }\n",
       "</style>\n",
       "<table border=\"1\" class=\"dataframe\">\n",
       "  <thead>\n",
       "    <tr style=\"text-align: right;\">\n",
       "      <th></th>\n",
       "      <th>follower</th>\n",
       "      <th>like</th>\n",
       "      <th>셀스타그램</th>\n",
       "      <th>우산</th>\n",
       "      <th>짱절미</th>\n",
       "    </tr>\n",
       "    <tr>\n",
       "      <th>name</th>\n",
       "      <th></th>\n",
       "      <th></th>\n",
       "      <th></th>\n",
       "      <th></th>\n",
       "      <th></th>\n",
       "    </tr>\n",
       "  </thead>\n",
       "  <tbody>\n",
       "    <tr>\n",
       "      <th>Kang</th>\n",
       "      <td>0</td>\n",
       "      <td>True</td>\n",
       "      <td>False</td>\n",
       "      <td>False</td>\n",
       "      <td>True</td>\n",
       "    </tr>\n",
       "    <tr>\n",
       "      <th>Kim</th>\n",
       "      <td>0</td>\n",
       "      <td>False</td>\n",
       "      <td>False</td>\n",
       "      <td>False</td>\n",
       "      <td>False</td>\n",
       "    </tr>\n",
       "    <tr>\n",
       "      <th>Choi</th>\n",
       "      <td>100</td>\n",
       "      <td>True</td>\n",
       "      <td>True</td>\n",
       "      <td>False</td>\n",
       "      <td>False</td>\n",
       "    </tr>\n",
       "    <tr>\n",
       "      <th>Park</th>\n",
       "      <td>210</td>\n",
       "      <td>True</td>\n",
       "      <td>False</td>\n",
       "      <td>False</td>\n",
       "      <td>False</td>\n",
       "    </tr>\n",
       "    <tr>\n",
       "      <th>Yoon</th>\n",
       "      <td>0</td>\n",
       "      <td>False</td>\n",
       "      <td>False</td>\n",
       "      <td>False</td>\n",
       "      <td>False</td>\n",
       "    </tr>\n",
       "  </tbody>\n",
       "</table>\n",
       "</div>"
      ],
      "text/plain": [
       "      follower   like  셀스타그램     우산    짱절미\n",
       "name                                      \n",
       "Kang         0   True  False  False   True\n",
       "Kim          0  False  False  False  False\n",
       "Choi       100   True   True  False  False\n",
       "Park       210   True  False  False  False\n",
       "Yoon         0  False  False  False  False"
      ]
     },
     "execution_count": 246,
     "metadata": {},
     "output_type": "execute_result"
    }
   ],
   "source": [
    "data = {\n",
    "    'name': [\"Kang\", \"Kim\", \"Choi\", \"Park\", \"Yoon\"],\n",
    "    '짱절미': [True, False, False, False, False],\n",
    "    '셀스타그램': [False, False, True, False, False],\n",
    "    '우산': [False, False, False, False, False],\n",
    "    'follower': [0, 0, 100, 210, 0],\n",
    "    'like': [True, False, True, True, False]\n",
    "}\n",
    "\n",
    "data = pd.DataFrame(data)\n",
    "data = data.set_index(\"name\")\n",
    "\n",
    "print(data.shape)\n",
    "data.head()"
   ]
  },
  {
   "cell_type": "markdown",
   "metadata": {},
   "source": [
    "## Preprocessing"
   ]
  },
  {
   "cell_type": "code",
   "execution_count": 247,
   "metadata": {},
   "outputs": [
    {
     "data": {
      "text/plain": [
       "'like'"
      ]
     },
     "execution_count": 247,
     "metadata": {},
     "output_type": "execute_result"
    }
   ],
   "source": [
    "label_name = \"like\"\n",
    "label_name"
   ]
  },
  {
   "cell_type": "code",
   "execution_count": 248,
   "metadata": {},
   "outputs": [
    {
     "data": {
      "text/plain": [
       "Index(['follower', '셀스타그램', '우산', '짱절미'], dtype='object')"
      ]
     },
     "execution_count": 248,
     "metadata": {},
     "output_type": "execute_result"
    }
   ],
   "source": [
    "feature_names = data.columns.difference([label_name])\n",
    "feature_names"
   ]
  },
  {
   "cell_type": "markdown",
   "metadata": {},
   "source": [
    "## Prerequisites"
   ]
  },
  {
   "cell_type": "markdown",
   "metadata": {},
   "source": [
    "### Visualize Tree"
   ]
  },
  {
   "cell_type": "code",
   "execution_count": 249,
   "metadata": {
    "collapsed": true
   },
   "outputs": [],
   "source": [
    "import graphviz\n",
    "from graphviz import Digraph\n",
    "\n",
    "def display_node(dot, key, node):\n",
    "    if node[\"leaf\"] == True:\n",
    "        probability = node['probability']\n",
    "        probability = round(probability, 4)\n",
    "        probability = str(probability)\n",
    "        \n",
    "        dot.node(key, probability)\n",
    "    else:\n",
    "        description = node['description']\n",
    "        dot.node(key, description)\n",
    "        \n",
    "        if \"left\" in node:\n",
    "            left_key = key + \"L\"\n",
    "            display_node(dot, left_key, node['left'])\n",
    "            dot.edge(key, left_key)\n",
    "\n",
    "        if \"right\" in node:\n",
    "            right_key = key + \"R\"\n",
    "            display_node(dot, right_key, node['right'])\n",
    "            dot.edge(key, right_key)\n",
    "\n",
    "def display_tree(tree):\n",
    "    dot = Digraph(comment='Decision Tree')\n",
    "\n",
    "    display_node(dot, \"Root\", tree)\n",
    "\n",
    "    return graphviz.Source(dot.source)"
   ]
  },
  {
   "cell_type": "markdown",
   "metadata": {},
   "source": [
    "### Predict"
   ]
  },
  {
   "cell_type": "code",
   "execution_count": 250,
   "metadata": {
    "collapsed": true
   },
   "outputs": [],
   "source": [
    "def predict(data, node):\n",
    "    if node['leaf'] == True:\n",
    "        probability = node[\"probability\"]\n",
    "        result = dict(zip(data.index, len(data) * [probability]))\n",
    "    else:\n",
    "        condition = node['condition']\n",
    "        \n",
    "        left_data = data[condition(data)]\n",
    "        left_result = predict(left_data, node['left'])\n",
    "        \n",
    "        right_data = data[~condition(data)]\n",
    "        right_result = predict(right_data, node['right'])    \n",
    "    \n",
    "        return {**left_result, **right_result}\n",
    "\n",
    "    return result"
   ]
  },
  {
   "cell_type": "markdown",
   "metadata": {
    "collapsed": true
   },
   "source": [
    "## Prior Knowledge"
   ]
  },
  {
   "cell_type": "markdown",
   "metadata": {},
   "source": [
    "### Dictionary"
   ]
  },
  {
   "cell_type": "code",
   "execution_count": 251,
   "metadata": {},
   "outputs": [
    {
     "data": {
      "text/plain": [
       "{'apple': {'ja': 'ringo', 'ko': '바나나'},\n",
       " 'banana': {'ja': 'banana', 'ko': '바나나'}}"
      ]
     },
     "execution_count": 251,
     "metadata": {},
     "output_type": "execute_result"
    }
   ],
   "source": [
    "vocabulary = {\n",
    "    'apple': {\n",
    "        'ko': '바나나',\n",
    "        'ja': 'ringo'\n",
    "    },\n",
    "    'banana': {\n",
    "        'ko': '바나나',\n",
    "        'ja': 'banana'\n",
    "    }\n",
    "}\n",
    "\n",
    "vocabulary"
   ]
  },
  {
   "cell_type": "code",
   "execution_count": 252,
   "metadata": {},
   "outputs": [
    {
     "data": {
      "text/plain": [
       "'ringo'"
      ]
     },
     "execution_count": 252,
     "metadata": {},
     "output_type": "execute_result"
    }
   ],
   "source": [
    "vocabulary[\"apple\"]['ja']"
   ]
  },
  {
   "cell_type": "code",
   "execution_count": 253,
   "metadata": {},
   "outputs": [
    {
     "data": {
      "text/plain": [
       "'바나나'"
      ]
     },
     "execution_count": 253,
     "metadata": {},
     "output_type": "execute_result"
    }
   ],
   "source": [
    "vocabulary[\"banana\"]['ko']"
   ]
  },
  {
   "cell_type": "code",
   "execution_count": 254,
   "metadata": {},
   "outputs": [
    {
     "data": {
      "text/plain": [
       "('apple', {'ja': 'ringo', 'ko': '바나나'})"
      ]
     },
     "execution_count": 254,
     "metadata": {},
     "output_type": "execute_result"
    }
   ],
   "source": [
    "first_key = list(vocabulary.keys())[0]\n",
    "first_key, vocabulary[first_key]"
   ]
  },
  {
   "cell_type": "markdown",
   "metadata": {},
   "source": [
    "### Recursive Function"
   ]
  },
  {
   "cell_type": "code",
   "execution_count": 257,
   "metadata": {
    "collapsed": true
   },
   "outputs": [],
   "source": [
    "# 3n + 1\n",
    "# 홀수면 3 * n + 1\n",
    "# 짝수면 n / 2\n",
    "# n이 1이면 종료"
   ]
  },
  {
   "cell_type": "code",
   "execution_count": 258,
   "metadata": {},
   "outputs": [
    {
     "name": "stdout",
     "output_type": "stream",
     "text": [
      "True\n",
      "True\n",
      "True\n",
      "True\n",
      "True\n"
     ]
    }
   ],
   "source": [
    "# def cycle(n):\n",
    "#     result = [n]\n",
    "    \n",
    "#     while True:\n",
    "#         if n == 1:\n",
    "#             break\n",
    "\n",
    "#         if n % 2 == 0:\n",
    "#             n = n / 2\n",
    "#         else:\n",
    "#             n = 3 * n + 1\n",
    "        \n",
    "#         result = result + [n]\n",
    "\n",
    "#     return result\n",
    "\n",
    "def cycle(n):\n",
    "    if n == 1:\n",
    "        return [n]\n",
    "    \n",
    "    if n % 2 == 0:\n",
    "        return [n] + cycle(n / 2)\n",
    "    else:\n",
    "        return [n] + cycle(3 * n + 1)\n",
    "\n",
    "print(cycle(1) == [1])\n",
    "print(cycle(2) == [2, 1])\n",
    "print(cycle(3) == [3, 10, 5, 16, 8, 4, 2, 1])\n",
    "print(cycle(4) == [4, 2, 1])\n",
    "print(cycle(5) == [5, 16, 8, 4, 2, 1])"
   ]
  },
  {
   "cell_type": "markdown",
   "metadata": {},
   "source": [
    "### Function + Lambda Function"
   ]
  },
  {
   "cell_type": "code",
   "execution_count": 259,
   "metadata": {},
   "outputs": [
    {
     "data": {
      "text/plain": [
       "12"
      ]
     },
     "execution_count": 259,
     "metadata": {},
     "output_type": "execute_result"
    }
   ],
   "source": [
    "def multiply(a, b):\n",
    "    return a * b\n",
    "    \n",
    "multiply(3, 4)"
   ]
  },
  {
   "cell_type": "code",
   "execution_count": 260,
   "metadata": {},
   "outputs": [
    {
     "data": {
      "text/plain": [
       "12"
      ]
     },
     "execution_count": 260,
     "metadata": {},
     "output_type": "execute_result"
    }
   ],
   "source": [
    "multiply = lambda a, b: a * b\n",
    "\n",
    "multiply(3, 4)"
   ]
  },
  {
   "cell_type": "markdown",
   "metadata": {},
   "source": [
    "### Closure"
   ]
  },
  {
   "cell_type": "code",
   "execution_count": 261,
   "metadata": {
    "collapsed": true
   },
   "outputs": [],
   "source": [
    "def profile_generator(company):\n",
    "    def user_geneartor(name):\n",
    "        print(f\"Name = {name}, Company = {company}\")\n",
    "        \n",
    "    return user_geneartor"
   ]
  },
  {
   "cell_type": "code",
   "execution_count": 262,
   "metadata": {},
   "outputs": [
    {
     "name": "stdout",
     "output_type": "stream",
     "text": [
      "Name = 강성희, Company = DS School\n"
     ]
    }
   ],
   "source": [
    "generator = profile_generator(\"DS School\")\n",
    "\n",
    "generator(\"강성희\")"
   ]
  },
  {
   "cell_type": "markdown",
   "metadata": {},
   "source": [
    "## Implement a Decision Tree"
   ]
  },
  {
   "cell_type": "markdown",
   "metadata": {},
   "source": [
    "### Make Conditions"
   ]
  },
  {
   "cell_type": "code",
   "execution_count": 286,
   "metadata": {},
   "outputs": [],
   "source": [
    "def binary_condition(data, feature_name, value):\n",
    "    return data[feature_name] == value\n",
    "\n",
    "def continuous_condition(data, feature_name, value):\n",
    "    return data[feature_name] < value\n",
    "\n",
    "def make_condition(method, feature_name, value):\n",
    "    def call_condition(data):\n",
    "        return method(data, feature_name, value)\n",
    "    \n",
    "    return call_condition"
   ]
  },
  {
   "cell_type": "code",
   "execution_count": 289,
   "metadata": {},
   "outputs": [],
   "source": [
    "condition = make_condition(binary_condition, \"짱절미\", True)\n",
    "data[condition(data)]"
   ]
  },
  {
   "cell_type": "code",
   "execution_count": 290,
   "metadata": {},
   "outputs": [
    {
     "data": {
      "text/html": [
       "<div>\n",
       "<style>\n",
       "    .dataframe thead tr:only-child th {\n",
       "        text-align: right;\n",
       "    }\n",
       "\n",
       "    .dataframe thead th {\n",
       "        text-align: left;\n",
       "    }\n",
       "\n",
       "    .dataframe tbody tr th {\n",
       "        vertical-align: top;\n",
       "    }\n",
       "</style>\n",
       "<table border=\"1\" class=\"dataframe\">\n",
       "  <thead>\n",
       "    <tr style=\"text-align: right;\">\n",
       "      <th></th>\n",
       "      <th>follower</th>\n",
       "      <th>like</th>\n",
       "      <th>셀스타그램</th>\n",
       "      <th>우산</th>\n",
       "      <th>짱절미</th>\n",
       "    </tr>\n",
       "    <tr>\n",
       "      <th>name</th>\n",
       "      <th></th>\n",
       "      <th></th>\n",
       "      <th></th>\n",
       "      <th></th>\n",
       "      <th></th>\n",
       "    </tr>\n",
       "  </thead>\n",
       "  <tbody>\n",
       "    <tr>\n",
       "      <th>Kang</th>\n",
       "      <td>0</td>\n",
       "      <td>True</td>\n",
       "      <td>False</td>\n",
       "      <td>False</td>\n",
       "      <td>True</td>\n",
       "    </tr>\n",
       "    <tr>\n",
       "      <th>Kim</th>\n",
       "      <td>0</td>\n",
       "      <td>False</td>\n",
       "      <td>False</td>\n",
       "      <td>False</td>\n",
       "      <td>False</td>\n",
       "    </tr>\n",
       "    <tr>\n",
       "      <th>Choi</th>\n",
       "      <td>100</td>\n",
       "      <td>True</td>\n",
       "      <td>True</td>\n",
       "      <td>False</td>\n",
       "      <td>False</td>\n",
       "    </tr>\n",
       "    <tr>\n",
       "      <th>Yoon</th>\n",
       "      <td>0</td>\n",
       "      <td>False</td>\n",
       "      <td>False</td>\n",
       "      <td>False</td>\n",
       "      <td>False</td>\n",
       "    </tr>\n",
       "  </tbody>\n",
       "</table>\n",
       "</div>"
      ],
      "text/plain": [
       "      follower   like  셀스타그램     우산    짱절미\n",
       "name                                      \n",
       "Kang         0   True  False  False   True\n",
       "Kim          0  False  False  False  False\n",
       "Choi       100   True   True  False  False\n",
       "Yoon         0  False  False  False  False"
      ]
     },
     "execution_count": 290,
     "metadata": {},
     "output_type": "execute_result"
    }
   ],
   "source": [
    "condition = make_condition(continuous_condition, \"follower\", 150)\n",
    "data[condition(data)]"
   ]
  },
  {
   "cell_type": "code",
   "execution_count": 301,
   "metadata": {},
   "outputs": [],
   "source": [
    "def make_condition_list(data, feature_names):\n",
    "    condition_list = {}\n",
    "\n",
    "    for feature_name in feature_names:\n",
    "        if data[feature_name].dtype == \"bool\":\n",
    "            description = f\"{feature_name} == True\"\n",
    "            condition = make_condition(binary_condition, feature_name, True)\n",
    "\n",
    "            condition_list[description] = condition\n",
    "        else:\n",
    "            values = data[feature_name].unique()\n",
    "            values = values[1:-1]\n",
    "\n",
    "            for value in values:\n",
    "                description = f\"{feature_name} < {value}\"\n",
    "                condition = make_condition(continuous_condition, feature_name, value)\n",
    "\n",
    "                condition_list[description] = condition\n",
    "\n",
    "    return condition_list"
   ]
  },
  {
   "cell_type": "code",
   "execution_count": 302,
   "metadata": {},
   "outputs": [
    {
     "data": {
      "text/plain": [
       "{'follower < 100': <function __main__.make_condition.<locals>.call_condition>,\n",
       " '셀스타그램 == True': <function __main__.make_condition.<locals>.call_condition>,\n",
       " '우산 == True': <function __main__.make_condition.<locals>.call_condition>,\n",
       " '짱절미 == True': <function __main__.make_condition.<locals>.call_condition>}"
      ]
     },
     "execution_count": 302,
     "metadata": {},
     "output_type": "execute_result"
    }
   ],
   "source": [
    "condition_list = make_condition_list(data, feature_names)\n",
    "condition_list"
   ]
  },
  {
   "cell_type": "markdown",
   "metadata": {},
   "source": [
    "### Evaluate Gini Impurity\n",
    "\n",
    "$$\n",
    "{\\displaystyle I_{G}(p)=\\sum _{i=1}^{J}p_{i}(1-p_{i})=p_{t}(1-p_{t}) + p_{f}(1-p_{f})}\n",
    "$$"
   ]
  },
  {
   "cell_type": "code",
   "execution_count": 303,
   "metadata": {},
   "outputs": [],
   "source": [
    "def evaluate_gini_impurity(data, label_name):\n",
    "    if len(data) == 0:\n",
    "        return 0\n",
    "\n",
    "    true_probability = data[label_name].mean()\n",
    "    false_probability = 1 - true_probability\n",
    "\n",
    "    true_gini_impurity = true_probability * (1 - true_probability)\n",
    "    false_gini_impurity = false_probability * (1 - false_probability)\n",
    "\n",
    "    gini_impurity = true_gini_impurity + false_gini_impurity\n",
    "\n",
    "    return gini_impurity"
   ]
  },
  {
   "cell_type": "code",
   "execution_count": 304,
   "metadata": {},
   "outputs": [
    {
     "data": {
      "text/plain": [
       "0.47999999999999998"
      ]
     },
     "execution_count": 304,
     "metadata": {},
     "output_type": "execute_result"
    }
   ],
   "source": [
    "evaluate_gini_impurity(data, label_name)"
   ]
  },
  {
   "cell_type": "code",
   "execution_count": 305,
   "metadata": {},
   "outputs": [
    {
     "data": {
      "text/plain": [
       "0"
      ]
     },
     "execution_count": 305,
     "metadata": {},
     "output_type": "execute_result"
    }
   ],
   "source": [
    "evaluate_gini_impurity([], label_name)"
   ]
  },
  {
   "cell_type": "code",
   "execution_count": 306,
   "metadata": {},
   "outputs": [],
   "source": [
    "def evaluate_average_gini_impurity(data, condition, label_name):\n",
    "    true_data = data[condition(data)]\n",
    "    false_data = data[~condition(data)]\n",
    "\n",
    "    true_impurity = evaluate_gini_impurity(true_data, label_name)\n",
    "    false_impurity = evaluate_gini_impurity(false_data, label_name)\n",
    "\n",
    "    gini_impurity = (len(true_data) * true_impurity + len(false_data) * false_impurity)\n",
    "    gini_impurity = gini_impurity / len(data)\n",
    "\n",
    "    return gini_impurity"
   ]
  },
  {
   "cell_type": "code",
   "execution_count": 307,
   "metadata": {},
   "outputs": [
    {
     "data": {
      "text/plain": [
       "0.40000000000000002"
      ]
     },
     "execution_count": 307,
     "metadata": {},
     "output_type": "execute_result"
    }
   ],
   "source": [
    "condition = make_condition(binary_condition, \"짱절미\", True)\n",
    "evaluate_average_gini_impurity(data, condition, label_name)"
   ]
  },
  {
   "cell_type": "code",
   "execution_count": 308,
   "metadata": {},
   "outputs": [
    {
     "data": {
      "text/plain": [
       "0.40000000000000002"
      ]
     },
     "execution_count": 308,
     "metadata": {},
     "output_type": "execute_result"
    }
   ],
   "source": [
    "condition = make_condition(binary_condition, \"셀스타그램\", True)\n",
    "evaluate_average_gini_impurity(data, condition, label_name)"
   ]
  },
  {
   "cell_type": "code",
   "execution_count": 309,
   "metadata": {},
   "outputs": [
    {
     "data": {
      "text/plain": [
       "0.47999999999999998"
      ]
     },
     "execution_count": 309,
     "metadata": {},
     "output_type": "execute_result"
    }
   ],
   "source": [
    "condition = make_condition(binary_condition, \"우산\", True)\n",
    "evaluate_average_gini_impurity(data, condition, label_name)"
   ]
  },
  {
   "cell_type": "code",
   "execution_count": 310,
   "metadata": {},
   "outputs": [],
   "source": [
    "def find_best_condition(data, condition_list, label_name):\n",
    "    best_gini_impurity = 0.51\n",
    "    best_condition = None\n",
    "    best_description = None\n",
    "\n",
    "    for description, condition in condition_list.items():\n",
    "        gini_impurity = evaluate_average_gini_impurity(data, condition, label_name)\n",
    "\n",
    "        if gini_impurity < best_gini_impurity:\n",
    "            best_gini_impurity = gini_impurity\n",
    "            best_condition = condition\n",
    "            best_description = description\n",
    "\n",
    "    return best_condition, best_description, best_gini_impurity"
   ]
  },
  {
   "cell_type": "code",
   "execution_count": 311,
   "metadata": {},
   "outputs": [
    {
     "data": {
      "text/plain": [
       "(<function __main__.make_condition.<locals>.call_condition>,\n",
       " '짱절미 == True',\n",
       " 0.40000000000000002)"
      ]
     },
     "execution_count": 311,
     "metadata": {},
     "output_type": "execute_result"
    }
   ],
   "source": [
    "condition1 = make_condition(binary_condition, \"짱절미\", True)\n",
    "condition2 = make_condition(binary_condition, \"셀스타그램\", True)\n",
    "condition3 = make_condition(binary_condition, \"우산\", True)\n",
    "\n",
    "condition_list = {\n",
    "    \"짱절미 == True\": condition1,\n",
    "    \"셀스타그램 == True\": condition2,\n",
    "    \"우산 == True\": condition3,\n",
    "}\n",
    "\n",
    "find_best_condition(data, condition_list, label_name)"
   ]
  },
  {
   "cell_type": "markdown",
   "metadata": {},
   "source": [
    "### Make a Tree"
   ]
  },
  {
   "cell_type": "code",
   "execution_count": 312,
   "metadata": {},
   "outputs": [
    {
     "data": {
      "image/svg+xml": [
       "<?xml version=\"1.0\" encoding=\"UTF-8\" standalone=\"no\"?>\n",
       "<!DOCTYPE svg PUBLIC \"-//W3C//DTD SVG 1.1//EN\"\n",
       " \"http://www.w3.org/Graphics/SVG/1.1/DTD/svg11.dtd\">\n",
       "<!-- Generated by graphviz version 2.38.0 (20140413.2041)\n",
       " -->\n",
       "<!-- Title: %3 Pages: 1 -->\n",
       "<svg width=\"356pt\" height=\"188pt\"\n",
       " viewBox=\"0.00 0.00 356.08 188.00\" xmlns=\"http://www.w3.org/2000/svg\" xmlns:xlink=\"http://www.w3.org/1999/xlink\">\n",
       "<g id=\"graph0\" class=\"graph\" transform=\"scale(1 1) rotate(0) translate(4 184)\">\n",
       "<title>%3</title>\n",
       "<polygon fill=\"white\" stroke=\"none\" points=\"-4,4 -4,-184 352.084,-184 352.084,4 -4,4\"/>\n",
       "<!-- Root -->\n",
       "<g id=\"node1\" class=\"node\"><title>Root</title>\n",
       "<ellipse fill=\"none\" stroke=\"black\" cx=\"163.956\" cy=\"-162\" rx=\"62.9812\" ry=\"18\"/>\n",
       "<text text-anchor=\"middle\" x=\"163.956\" y=\"-157.8\" font-family=\"Times,serif\" font-size=\"14.00\">follower &lt; 100</text>\n",
       "</g>\n",
       "<!-- RootL -->\n",
       "<g id=\"node2\" class=\"node\"><title>RootL</title>\n",
       "<ellipse fill=\"none\" stroke=\"black\" cx=\"72.9561\" cy=\"-90\" rx=\"72.9123\" ry=\"18\"/>\n",
       "<text text-anchor=\"middle\" x=\"72.9561\" y=\"-87.1112\" font-family=\"Times,serif\" font-size=\"14.00\">짱절미 == True</text>\n",
       "</g>\n",
       "<!-- Root&#45;&gt;RootL -->\n",
       "<g id=\"edge3\" class=\"edge\"><title>Root&#45;&gt;RootL</title>\n",
       "<path fill=\"none\" stroke=\"black\" d=\"M142.85,-144.765C130.877,-135.554 115.703,-123.882 102.556,-113.769\"/>\n",
       "<polygon fill=\"black\" stroke=\"black\" points=\"104.323,-110.713 94.2629,-107.39 100.055,-116.261 104.323,-110.713\"/>\n",
       "</g>\n",
       "<!-- RootR -->\n",
       "<g id=\"node5\" class=\"node\"><title>RootR</title>\n",
       "<ellipse fill=\"none\" stroke=\"black\" cx=\"255.956\" cy=\"-90\" rx=\"92.2563\" ry=\"18\"/>\n",
       "<text text-anchor=\"middle\" x=\"255.956\" y=\"-87.1112\" font-family=\"Times,serif\" font-size=\"14.00\">셀스타그램 == True</text>\n",
       "</g>\n",
       "<!-- Root&#45;&gt;RootR -->\n",
       "<g id=\"edge6\" class=\"edge\"><title>Root&#45;&gt;RootR</title>\n",
       "<path fill=\"none\" stroke=\"black\" d=\"M185.294,-144.765C197.426,-135.533 212.809,-123.83 226.121,-113.701\"/>\n",
       "<polygon fill=\"black\" stroke=\"black\" points=\"228.256,-116.474 234.095,-107.633 224.017,-110.903 228.256,-116.474\"/>\n",
       "</g>\n",
       "<!-- RootLL -->\n",
       "<g id=\"node3\" class=\"node\"><title>RootLL</title>\n",
       "<ellipse fill=\"none\" stroke=\"black\" cx=\"56.9561\" cy=\"-18\" rx=\"27\" ry=\"18\"/>\n",
       "<text text-anchor=\"middle\" x=\"56.9561\" y=\"-13.8\" font-family=\"Times,serif\" font-size=\"14.00\">1.0</text>\n",
       "</g>\n",
       "<!-- RootL&#45;&gt;RootLL -->\n",
       "<g id=\"edge1\" class=\"edge\"><title>RootL&#45;&gt;RootLL</title>\n",
       "<path fill=\"none\" stroke=\"black\" d=\"M69.0011,-71.6966C67.2379,-63.9827 65.119,-54.7125 63.1533,-46.1124\"/>\n",
       "<polygon fill=\"black\" stroke=\"black\" points=\"66.506,-45.073 60.8657,-36.1043 59.682,-46.6328 66.506,-45.073\"/>\n",
       "</g>\n",
       "<!-- RootLR -->\n",
       "<g id=\"node4\" class=\"node\"><title>RootLR</title>\n",
       "<ellipse fill=\"none\" stroke=\"black\" cx=\"128.956\" cy=\"-18\" rx=\"27\" ry=\"18\"/>\n",
       "<text text-anchor=\"middle\" x=\"128.956\" y=\"-13.8\" font-family=\"Times,serif\" font-size=\"14.00\">0.0</text>\n",
       "</g>\n",
       "<!-- RootL&#45;&gt;RootLR -->\n",
       "<g id=\"edge2\" class=\"edge\"><title>RootL&#45;&gt;RootLR</title>\n",
       "<path fill=\"none\" stroke=\"black\" d=\"M86.5122,-72.055C93.6224,-63.1672 102.444,-52.1404 110.2,-42.4457\"/>\n",
       "<polygon fill=\"black\" stroke=\"black\" points=\"113.157,-44.3515 116.671,-34.3564 107.691,-39.9787 113.157,-44.3515\"/>\n",
       "</g>\n",
       "<!-- RootRL -->\n",
       "<g id=\"node6\" class=\"node\"><title>RootRL</title>\n",
       "<ellipse fill=\"none\" stroke=\"black\" cx=\"227.956\" cy=\"-18\" rx=\"27\" ry=\"18\"/>\n",
       "<text text-anchor=\"middle\" x=\"227.956\" y=\"-13.8\" font-family=\"Times,serif\" font-size=\"14.00\">1.0</text>\n",
       "</g>\n",
       "<!-- RootR&#45;&gt;RootRL -->\n",
       "<g id=\"edge4\" class=\"edge\"><title>RootR&#45;&gt;RootRL</title>\n",
       "<path fill=\"none\" stroke=\"black\" d=\"M249.035,-71.6966C245.834,-63.6955 241.964,-54.02 238.418,-45.1548\"/>\n",
       "<polygon fill=\"black\" stroke=\"black\" points=\"241.569,-43.6072 234.605,-35.6223 235.069,-46.207 241.569,-43.6072\"/>\n",
       "</g>\n",
       "<!-- RootRR -->\n",
       "<g id=\"node7\" class=\"node\"><title>RootRR</title>\n",
       "<ellipse fill=\"none\" stroke=\"black\" cx=\"299.956\" cy=\"-18\" rx=\"27\" ry=\"18\"/>\n",
       "<text text-anchor=\"middle\" x=\"299.956\" y=\"-13.8\" font-family=\"Times,serif\" font-size=\"14.00\">1.0</text>\n",
       "</g>\n",
       "<!-- RootR&#45;&gt;RootRR -->\n",
       "<g id=\"edge5\" class=\"edge\"><title>RootR&#45;&gt;RootRR</title>\n",
       "<path fill=\"none\" stroke=\"black\" d=\"M266.607,-72.055C272.004,-63.4694 278.655,-52.8877 284.594,-43.4391\"/>\n",
       "<polygon fill=\"black\" stroke=\"black\" points=\"287.648,-45.1584 290.006,-34.8294 281.721,-41.4332 287.648,-45.1584\"/>\n",
       "</g>\n",
       "</g>\n",
       "</svg>\n"
      ],
      "text/plain": [
       "<graphviz.files.Source at 0x110b4a550>"
      ]
     },
     "execution_count": 312,
     "metadata": {},
     "output_type": "execute_result"
    }
   ],
   "source": [
    "max_depth = None\n",
    "min_sample_split = 2\n",
    "\n",
    "def make_node(data, condition_list, current_gini, current_depth):\n",
    "    condition = (len(condition_list) != 0)\n",
    "    sample = (len(data) >= min_sample_split)\n",
    "    depth = (max_depth == None) or (current_depth < max_depth)\n",
    "    \n",
    "    if condition and sample and depth:\n",
    "        condition, description, gini = \\\n",
    "            find_best_condition(data, condition_list, label_name)\n",
    "\n",
    "        left_data = data[condition(data)]\n",
    "        right_data = data[~condition(data)]\n",
    "        \n",
    "        if gini < current_gini and len(left_data) != 0 and len(right_data) != 0:\n",
    "            node = {'leaf': False, 'description': description, 'condition': condition}\n",
    "\n",
    "            del condition_list[description]\n",
    "\n",
    "            node['left'] = make_node(left_data, condition_list.copy(), gini, current_depth + 1)\n",
    "            node['right'] = make_node(right_data, condition_list.copy(), gini, current_depth + 1)\n",
    "\n",
    "            return node\n",
    "\n",
    "    probability = data[label_name].mean()\n",
    "    node = {'leaf': True, 'probability': probability}\n",
    "\n",
    "    return node\n",
    "\n",
    "    \n",
    "def make_tree(data):\n",
    "    condition_list = make_condition_list(data, feature_names)\n",
    "\n",
    "    tree = make_node(data, condition_list, current_gini = 0.51, current_depth=0)\n",
    "\n",
    "    return tree\n",
    "\n",
    "tree = make_tree(data)\n",
    "display_tree(tree)"
   ]
  },
  {
   "cell_type": "code",
   "execution_count": 317,
   "metadata": {},
   "outputs": [
    {
     "data": {
      "text/html": [
       "<div>\n",
       "<style>\n",
       "    .dataframe thead tr:only-child th {\n",
       "        text-align: right;\n",
       "    }\n",
       "\n",
       "    .dataframe thead th {\n",
       "        text-align: left;\n",
       "    }\n",
       "\n",
       "    .dataframe tbody tr th {\n",
       "        vertical-align: top;\n",
       "    }\n",
       "</style>\n",
       "<table border=\"1\" class=\"dataframe\">\n",
       "  <thead>\n",
       "    <tr style=\"text-align: right;\">\n",
       "      <th></th>\n",
       "      <th>follower</th>\n",
       "      <th>like</th>\n",
       "      <th>셀스타그램</th>\n",
       "      <th>우산</th>\n",
       "      <th>짱절미</th>\n",
       "      <th>like(predict)</th>\n",
       "    </tr>\n",
       "    <tr>\n",
       "      <th>name</th>\n",
       "      <th></th>\n",
       "      <th></th>\n",
       "      <th></th>\n",
       "      <th></th>\n",
       "      <th></th>\n",
       "      <th></th>\n",
       "    </tr>\n",
       "  </thead>\n",
       "  <tbody>\n",
       "    <tr>\n",
       "      <th>Kang</th>\n",
       "      <td>0</td>\n",
       "      <td>True</td>\n",
       "      <td>False</td>\n",
       "      <td>False</td>\n",
       "      <td>True</td>\n",
       "      <td>1.0</td>\n",
       "    </tr>\n",
       "    <tr>\n",
       "      <th>Kim</th>\n",
       "      <td>0</td>\n",
       "      <td>False</td>\n",
       "      <td>False</td>\n",
       "      <td>False</td>\n",
       "      <td>False</td>\n",
       "      <td>0.0</td>\n",
       "    </tr>\n",
       "    <tr>\n",
       "      <th>Choi</th>\n",
       "      <td>100</td>\n",
       "      <td>True</td>\n",
       "      <td>True</td>\n",
       "      <td>False</td>\n",
       "      <td>False</td>\n",
       "      <td>1.0</td>\n",
       "    </tr>\n",
       "    <tr>\n",
       "      <th>Park</th>\n",
       "      <td>210</td>\n",
       "      <td>True</td>\n",
       "      <td>False</td>\n",
       "      <td>False</td>\n",
       "      <td>False</td>\n",
       "      <td>1.0</td>\n",
       "    </tr>\n",
       "    <tr>\n",
       "      <th>Yoon</th>\n",
       "      <td>0</td>\n",
       "      <td>False</td>\n",
       "      <td>False</td>\n",
       "      <td>False</td>\n",
       "      <td>False</td>\n",
       "      <td>0.0</td>\n",
       "    </tr>\n",
       "  </tbody>\n",
       "</table>\n",
       "</div>"
      ],
      "text/plain": [
       "      follower   like  셀스타그램     우산    짱절미  like(predict)\n",
       "name                                                     \n",
       "Kang         0   True  False  False   True            1.0\n",
       "Kim          0  False  False  False  False            0.0\n",
       "Choi       100   True   True  False  False            1.0\n",
       "Park       210   True  False  False  False            1.0\n",
       "Yoon         0  False  False  False  False            0.0"
      ]
     },
     "execution_count": 317,
     "metadata": {},
     "output_type": "execute_result"
    }
   ],
   "source": [
    "predictions = predict(data, tree)\n",
    "predictions = pd.Series(predictions)\n",
    "\n",
    "result = data.copy()\n",
    "result[\"like(predict)\"] = predictions\n",
    "\n",
    "result"
   ]
  },
  {
   "cell_type": "code",
   "execution_count": null,
   "metadata": {
    "collapsed": true
   },
   "outputs": [],
   "source": []
  },
  {
   "cell_type": "code",
   "execution_count": null,
   "metadata": {
    "collapsed": true
   },
   "outputs": [],
   "source": []
  }
 ],
 "metadata": {
  "kernelspec": {
   "display_name": "Python 3",
   "language": "python",
   "name": "python3"
  },
  "language_info": {
   "codemirror_mode": {
    "name": "ipython",
    "version": 3
   },
   "file_extension": ".py",
   "mimetype": "text/x-python",
   "name": "python",
   "nbconvert_exporter": "python",
   "pygments_lexer": "ipython3",
   "version": "3.6.3"
  }
 },
 "nbformat": 4,
 "nbformat_minor": 2
}
