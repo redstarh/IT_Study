{
 "cells": [
  {
   "cell_type": "code",
   "execution_count": null,
   "metadata": {
    "collapsed": true
   },
   "outputs": [],
   "source": [
    "import pandas as pd"
   ]
  },
  {
   "cell_type": "markdown",
   "metadata": {},
   "source": [
    "## Load Dataset"
   ]
  },
  {
   "cell_type": "code",
   "execution_count": null,
   "metadata": {},
   "outputs": [],
   "source": [
    "data = {\n",
    "    'name': [\"Kang\", \"Kim\", \"Choi\", \"Park\", \"Yoon\"],\n",
    "    '짱절미': [True, False, False, False, False],\n",
    "    '셀스타그램': [False, False, True, False, False],\n",
    "    '우산': [False, False, False, False, False],\n",
    "#    'follower': [0, 0, 100, 210, 0],\n",
    "    'like': [True, False, True, True, False]\n",
    "}\n",
    "\n",
    "data = pd.DataFrame(data)\n",
    "data = data.set_index(\"name\")\n",
    "\n",
    "print(data.shape)\n",
    "data.head()"
   ]
  },
  {
   "cell_type": "markdown",
   "metadata": {},
   "source": [
    "## Preprocessing"
   ]
  },
  {
   "cell_type": "code",
   "execution_count": null,
   "metadata": {},
   "outputs": [],
   "source": [
    "label_name = \"like\"\n",
    "label_name"
   ]
  },
  {
   "cell_type": "code",
   "execution_count": null,
   "metadata": {},
   "outputs": [],
   "source": [
    "feature_names = data.columns.difference([label_name])\n",
    "feature_names"
   ]
  },
  {
   "cell_type": "markdown",
   "metadata": {},
   "source": [
    "## Prerequisites"
   ]
  },
  {
   "cell_type": "markdown",
   "metadata": {},
   "source": [
    "### Visualize Tree"
   ]
  },
  {
   "cell_type": "code",
   "execution_count": null,
   "metadata": {},
   "outputs": [],
   "source": [
    "import graphviz\n",
    "from graphviz import Digraph\n",
    "\n",
    "def display_node(dot, key, node):\n",
    "    if node[\"leaf\"] == True:\n",
    "        probability = node['probability']\n",
    "        probability = round(probability, 4)\n",
    "        probability = str(probability)\n",
    "        \n",
    "        dot.node(key, probability)\n",
    "    else:\n",
    "        description = node['description']\n",
    "        dot.node(key, description)\n",
    "        \n",
    "        if \"left\" in node:\n",
    "            left_key = key + \"L\"\n",
    "            display_node(dot, left_key, node['left'])\n",
    "            dot.edge(key, left_key)\n",
    "\n",
    "        if \"right\" in node:\n",
    "            right_key = key + \"R\"\n",
    "            display_node(dot, right_key, node['right'])\n",
    "            dot.edge(key, right_key)\n",
    "\n",
    "def display_tree(tree):\n",
    "    dot = Digraph(comment='Decision Tree')\n",
    "\n",
    "    display_node(dot, \"Root\", tree)\n",
    "\n",
    "    return graphviz.Source(dot.source)"
   ]
  },
  {
   "cell_type": "markdown",
   "metadata": {},
   "source": [
    "### Predict"
   ]
  },
  {
   "cell_type": "code",
   "execution_count": null,
   "metadata": {},
   "outputs": [],
   "source": [
    "def predict(data, node):\n",
    "    if node['leaf'] == True:\n",
    "        probability = node[\"probability\"]\n",
    "        result = dict(zip(data.index, len(data) * [probability]))\n",
    "    else:\n",
    "        condition = node['condition']\n",
    "        \n",
    "        left_data = data[condition(data)]\n",
    "        left_result = predict(left_data, node['left'])\n",
    "        \n",
    "        right_data = data[~condition(data)]\n",
    "        right_result = predict(right_data, node['right'])    \n",
    "    \n",
    "        return {**left_result, **right_result}\n",
    "\n",
    "    return result"
   ]
  },
  {
   "cell_type": "markdown",
   "metadata": {},
   "source": [
    "## Prior Knowledge"
   ]
  },
  {
   "cell_type": "markdown",
   "metadata": {},
   "source": [
    "### Dictionary"
   ]
  },
  {
   "cell_type": "markdown",
   "metadata": {},
   "source": [
    "### Key 를 기준으로 value를 가져올때 사용하는 자료 구조"
   ]
  },
  {
   "cell_type": "code",
   "execution_count": null,
   "metadata": {},
   "outputs": [],
   "source": [
    "vocabulary ={'apple':'사과','banana':'바나나'}\n",
    "vocabulary"
   ]
  },
  {
   "cell_type": "code",
   "execution_count": null,
   "metadata": {},
   "outputs": [],
   "source": [
    "vocabulary['apple']"
   ]
  },
  {
   "cell_type": "code",
   "execution_count": null,
   "metadata": {},
   "outputs": [],
   "source": [
    "vocabulary['banana']"
   ]
  },
  {
   "cell_type": "code",
   "execution_count": null,
   "metadata": {},
   "outputs": [],
   "source": [
    "vocabulary = {\n",
    "    'apple' : {\n",
    "        'ko':'사과',\n",
    "        'ja':'ringo'\n",
    "    },\n",
    "    'banana' : {\n",
    "        'ko':'바나나',\n",
    "        'ja':'banana'\n",
    "    }\n",
    "}\n",
    "\n",
    "vocabulary"
   ]
  },
  {
   "cell_type": "code",
   "execution_count": null,
   "metadata": {},
   "outputs": [],
   "source": [
    "vocabulary['apple']['ja']"
   ]
  },
  {
   "cell_type": "code",
   "execution_count": null,
   "metadata": {},
   "outputs": [],
   "source": [
    "vocabulary['banana']['ko']"
   ]
  },
  {
   "cell_type": "markdown",
   "metadata": {},
   "source": [
    "### 함수 + 익명함수((lambda))"
   ]
  },
  {
   "cell_type": "code",
   "execution_count": null,
   "metadata": {},
   "outputs": [],
   "source": [
    "def multiply(a, b):\n",
    "    return a * b"
   ]
  },
  {
   "cell_type": "code",
   "execution_count": null,
   "metadata": {},
   "outputs": [],
   "source": [
    "multiply(3,4)"
   ]
  },
  {
   "cell_type": "code",
   "execution_count": null,
   "metadata": {},
   "outputs": [],
   "source": [
    "multiply(4,8)"
   ]
  },
  {
   "cell_type": "code",
   "execution_count": null,
   "metadata": {},
   "outputs": [],
   "source": [
    "multiply = lambda a, b, c: a*b*c"
   ]
  },
  {
   "cell_type": "code",
   "execution_count": null,
   "metadata": {},
   "outputs": [],
   "source": [
    "multiply(3,4,2)"
   ]
  },
  {
   "cell_type": "code",
   "execution_count": null,
   "metadata": {},
   "outputs": [],
   "source": [
    "multiply(4,8,2)"
   ]
  },
  {
   "cell_type": "markdown",
   "metadata": {},
   "source": [
    "### 재귀 함수"
   ]
  },
  {
   "cell_type": "code",
   "execution_count": null,
   "metadata": {},
   "outputs": [],
   "source": [
    "def cycle(n):\n",
    "    if n == 1:\n",
    "        return [n]\n",
    "    if n % 2 == 0:\n",
    "        return [n] + cycle(n/2)\n",
    "    else:\n",
    "        return [n] + cycle(3*n + 1)"
   ]
  },
  {
   "cell_type": "code",
   "execution_count": null,
   "metadata": {},
   "outputs": [],
   "source": [
    "print(cycle(1) == [1])\n",
    "print(cycle(2) == [2, 1])\n",
    "print(cycle(3) == [3, 10, 5, 16, 8, 4, 2, 1])\n",
    "print(cycle(4) == [4, 2, 1])\n",
    "print(cycle(5) == [5, 16, 8, 4, 2, 1])"
   ]
  },
  {
   "cell_type": "markdown",
   "metadata": {},
   "source": [
    "### Closure"
   ]
  },
  {
   "cell_type": "code",
   "execution_count": null,
   "metadata": {},
   "outputs": [],
   "source": [
    "def profile_generator(company):\n",
    "    def user_generator(name):\n",
    "        print(f\"Name ={name}, Company = {company}\")\n",
    "    return user_generator"
   ]
  },
  {
   "cell_type": "code",
   "execution_count": null,
   "metadata": {},
   "outputs": [],
   "source": [
    "generator = profile_generator('DS School')\n",
    "generator"
   ]
  },
  {
   "cell_type": "code",
   "execution_count": null,
   "metadata": {},
   "outputs": [],
   "source": [
    "generator('김지훈')"
   ]
  },
  {
   "cell_type": "code",
   "execution_count": null,
   "metadata": {},
   "outputs": [],
   "source": [
    "generator('강성희')"
   ]
  },
  {
   "cell_type": "code",
   "execution_count": null,
   "metadata": {},
   "outputs": [],
   "source": []
  },
  {
   "cell_type": "markdown",
   "metadata": {},
   "source": [
    "## Implement a Decision Tree"
   ]
  },
  {
   "cell_type": "markdown",
   "metadata": {},
   "source": [
    "### Make Conditions"
   ]
  },
  {
   "cell_type": "code",
   "execution_count": null,
   "metadata": {
    "collapsed": true
   },
   "outputs": [],
   "source": [
    "# Write your code here!"
   ]
  },
  {
   "cell_type": "markdown",
   "metadata": {},
   "source": [
    "### Evaluate Gini Impurity\n",
    "\n",
    "$$\n",
    "{\\displaystyle I_{G}(p)=\\sum _{i=1}^{J}p_{i}(1-p_{i})=p_{t}(1-p_{t}) + p_{f}(1-p_{f})}\n",
    "$$"
   ]
  },
  {
   "cell_type": "code",
   "execution_count": null,
   "metadata": {
    "collapsed": true
   },
   "outputs": [],
   "source": [
    "def evaluate_gini_impurity(data):\n",
    "    if len(data) == 0:\n",
    "        return 0\n",
    "    \n",
    "    true_probability = data[\"like\"].mean()\n",
    "    false_probability = 1 - true_probability\n",
    "    \n",
    "    true_gini_impurity = true_probability * (1 - true_probability)\n",
    "    false_gini_impurity = false_probability * (1 - false_probability)\n",
    "    \n",
    "    gini_impurity = true_gini_impurity + false_gini_impurity\n",
    "    \n",
    "    return gini_impurity\n",
    "\n",
    "evaluate_gini_impurity(data)"
   ]
  },
  {
   "cell_type": "code",
   "execution_count": null,
   "metadata": {},
   "outputs": [],
   "source": [
    "def evaluate_average_gini_impurity(data, condition):\n",
    "    left_data = data[condition(data)]\n",
    "    right_data = data[~condition(data)]\n",
    "    \n",
    "    true_impurity = evaluate_gini_impurity(left_data)\n",
    "    false_impurity = evaluate_gini_impurity(right_data)\n",
    "    \n",
    "    gini_impurity = len(left_data) * true_impurity + len(right_data) * false_impurity\n",
    "    gini_impurity = gini_impurity / len(data)\n",
    "    \n",
    "    return gini_impurity"
   ]
  },
  {
   "cell_type": "code",
   "execution_count": null,
   "metadata": {},
   "outputs": [],
   "source": [
    "condition = make_condition(binary_condition, \"짱절미\", True)\n",
    "evaluate_average_gini_impurity(data, condition)"
   ]
  },
  {
   "cell_type": "code",
   "execution_count": null,
   "metadata": {},
   "outputs": [],
   "source": [
    "condition = make_condition(binary_condition, \"셀스타그램\", True)\n",
    "evaluate_average_gini_impurity(data, condition)"
   ]
  },
  {
   "cell_type": "code",
   "execution_count": null,
   "metadata": {},
   "outputs": [],
   "source": [
    "condition = make_condition(binary_condition, \"우산\", True)\n",
    "evaluate_average_gini_impurity(data, condition)"
   ]
  },
  {
   "cell_type": "code",
   "execution_count": 101,
   "metadata": {},
   "outputs": [],
   "source": [
    "def find_best_condition(data, condition_list):\n",
    "    best_gini_impurity = 9999\n",
    "    best_condition = None\n",
    "    best_description = None\n",
    "    \n",
    "    for description, condition in condition_list.items():\n",
    "        gini_impurity = evaluate_average_gini_impurity(data, condition)\n",
    "        \n",
    "        if gini_impurity < best_gini_impurity:\n",
    "            best_gini_impurity = gini_impurity\n",
    "            best_condition = condition\n",
    "            best_description = description\n",
    "    return best_condition, best_description, best_gini_impurity"
   ]
  },
  {
   "cell_type": "code",
   "execution_count": 102,
   "metadata": {},
   "outputs": [
    {
     "data": {
      "text/plain": [
       "(<function __main__.make_condition.<locals>.call_condition(data)>,\n",
       " '짱절미 == True',\n",
       " 0.4)"
      ]
     },
     "execution_count": 102,
     "metadata": {},
     "output_type": "execute_result"
    }
   ],
   "source": [
    "condition1 = make_condition(binary_condition, \"짱절미\", True)\n",
    "condition2 = make_condition(binary_condition, \"셀스타그램\", True)\n",
    "condition3 = make_condition(binary_condition, \"우산\", True)\n",
    "    \n",
    "condition_list = {\n",
    "    \"짱절미 == True\": condition1,\n",
    "    \"셀스타그램 == True\": condition2,\n",
    "    \"우산 == True\": condition3\n",
    "}\n",
    "\n",
    "find_best_condition(data, condition_list)"
   ]
  },
  {
   "cell_type": "markdown",
   "metadata": {},
   "source": [
    "### Make a Tree"
   ]
  },
  {
   "cell_type": "code",
   "execution_count": null,
   "metadata": {
    "collapsed": true
   },
   "outputs": [],
   "source": [
    "def binary_condition(data, feature_name, value):\n",
    "    return data[feature_name] == value\n",
    "\n",
    "def make_condition(method, feature_name, value):\n",
    "    def call_condition(data):\n",
    "        return method(data, feature_name, value)\n",
    "    return call_condition\n",
    "\n",
    "condition = make_condition(binary_condition, \"짱절미\", True)\n",
    "#condition = make_condition(binary_condition, \"셀스타그램\", True)\n",
    "#condition = make_condition(binary_condition, \"우산\", False)\n",
    "\n",
    "data[condition(data)]"
   ]
  },
  {
   "cell_type": "code",
   "execution_count": 103,
   "metadata": {},
   "outputs": [
    {
     "data": {
      "image/svg+xml": [
       "<?xml version=\"1.0\" encoding=\"UTF-8\" standalone=\"no\"?>\n",
       "<!DOCTYPE svg PUBLIC \"-//W3C//DTD SVG 1.1//EN\"\n",
       " \"http://www.w3.org/Graphics/SVG/1.1/DTD/svg11.dtd\">\n",
       "<!-- Generated by graphviz version 2.40.1 (20161225.0304)\n",
       " -->\n",
       "<!-- Title: %3 Pages: 1 -->\n",
       "<svg width=\"256pt\" height=\"188pt\"\n",
       " viewBox=\"0.00 0.00 256.39 188.00\" xmlns=\"http://www.w3.org/2000/svg\" xmlns:xlink=\"http://www.w3.org/1999/xlink\">\n",
       "<g id=\"graph0\" class=\"graph\" transform=\"scale(1 1) rotate(0) translate(4 184)\">\n",
       "<title>%3</title>\n",
       "<polygon fill=\"#ffffff\" stroke=\"transparent\" points=\"-4,4 -4,-184 252.3922,-184 252.3922,4 -4,4\"/>\n",
       "<!-- Root -->\n",
       "<g id=\"node1\" class=\"node\">\n",
       "<title>Root</title>\n",
       "<ellipse fill=\"none\" stroke=\"#000000\" cx=\"93\" cy=\"-162\" rx=\"70.3881\" ry=\"18\"/>\n",
       "<text text-anchor=\"middle\" x=\"93\" y=\"-158.3\" font-family=\"Times,serif\" font-size=\"14.00\" fill=\"#000000\">짱절미 == True</text>\n",
       "</g>\n",
       "<!-- RootL -->\n",
       "<g id=\"node2\" class=\"node\">\n",
       "<title>RootL</title>\n",
       "<ellipse fill=\"none\" stroke=\"#000000\" cx=\"27\" cy=\"-90\" rx=\"27\" ry=\"18\"/>\n",
       "<text text-anchor=\"middle\" x=\"27\" y=\"-86.3\" font-family=\"Times,serif\" font-size=\"14.00\" fill=\"#000000\">1.0</text>\n",
       "</g>\n",
       "<!-- Root&#45;&gt;RootL -->\n",
       "<g id=\"edge1\" class=\"edge\">\n",
       "<title>Root&#45;&gt;RootL</title>\n",
       "<path fill=\"none\" stroke=\"#000000\" d=\"M76.6854,-144.2022C68.1311,-134.8703 57.5469,-123.3239 48.3484,-113.2892\"/>\n",
       "<polygon fill=\"#000000\" stroke=\"#000000\" points=\"50.6711,-110.6433 41.3337,-105.6368 45.511,-115.3734 50.6711,-110.6433\"/>\n",
       "</g>\n",
       "<!-- RootR -->\n",
       "<g id=\"node3\" class=\"node\">\n",
       "<title>RootR</title>\n",
       "<ellipse fill=\"none\" stroke=\"#000000\" cx=\"160\" cy=\"-90\" rx=\"88.2844\" ry=\"18\"/>\n",
       "<text text-anchor=\"middle\" x=\"160\" y=\"-86.3\" font-family=\"Times,serif\" font-size=\"14.00\" fill=\"#000000\">셀스타그램 == True</text>\n",
       "</g>\n",
       "<!-- Root&#45;&gt;RootR -->\n",
       "<g id=\"edge4\" class=\"edge\">\n",
       "<title>Root&#45;&gt;RootR</title>\n",
       "<path fill=\"none\" stroke=\"#000000\" d=\"M109.5618,-144.2022C117.6953,-135.4617 127.6366,-124.7786 136.5366,-115.2144\"/>\n",
       "<polygon fill=\"#000000\" stroke=\"#000000\" points=\"139.1464,-117.5476 143.3965,-107.8425 134.0219,-112.7789 139.1464,-117.5476\"/>\n",
       "</g>\n",
       "<!-- RootRL -->\n",
       "<g id=\"node4\" class=\"node\">\n",
       "<title>RootRL</title>\n",
       "<ellipse fill=\"none\" stroke=\"#000000\" cx=\"119\" cy=\"-18\" rx=\"27\" ry=\"18\"/>\n",
       "<text text-anchor=\"middle\" x=\"119\" y=\"-14.3\" font-family=\"Times,serif\" font-size=\"14.00\" fill=\"#000000\">1.0</text>\n",
       "</g>\n",
       "<!-- RootR&#45;&gt;RootRL -->\n",
       "<g id=\"edge2\" class=\"edge\">\n",
       "<title>RootR&#45;&gt;RootRL</title>\n",
       "<path fill=\"none\" stroke=\"#000000\" d=\"M149.654,-71.8314C144.8146,-63.3329 138.9652,-53.0608 133.6789,-43.7776\"/>\n",
       "<polygon fill=\"#000000\" stroke=\"#000000\" points=\"136.6285,-41.8842 128.6386,-34.9263 130.5456,-45.3481 136.6285,-41.8842\"/>\n",
       "</g>\n",
       "<!-- RootRR -->\n",
       "<g id=\"node5\" class=\"node\">\n",
       "<title>RootRR</title>\n",
       "<ellipse fill=\"none\" stroke=\"#000000\" cx=\"200\" cy=\"-18\" rx=\"35.9954\" ry=\"18\"/>\n",
       "<text text-anchor=\"middle\" x=\"200\" y=\"-14.3\" font-family=\"Times,serif\" font-size=\"14.00\" fill=\"#000000\">0.3333</text>\n",
       "</g>\n",
       "<!-- RootR&#45;&gt;RootRR -->\n",
       "<g id=\"edge3\" class=\"edge\">\n",
       "<title>RootR&#45;&gt;RootRR</title>\n",
       "<path fill=\"none\" stroke=\"#000000\" d=\"M170.0937,-71.8314C174.7456,-63.4579 180.3541,-53.3626 185.4512,-44.1878\"/>\n",
       "<polygon fill=\"#000000\" stroke=\"#000000\" points=\"188.5266,-45.8591 190.3235,-35.4177 182.4075,-42.4595 188.5266,-45.8591\"/>\n",
       "</g>\n",
       "</g>\n",
       "</svg>\n"
      ],
      "text/plain": [
       "<graphviz.files.Source at 0x11702ab38>"
      ]
     },
     "execution_count": 103,
     "metadata": {},
     "output_type": "execute_result"
    }
   ],
   "source": [
    "min_sample_split = 3\n",
    "max_depth = 2\n",
    "\n",
    "def make_node(data, condition_list, current_depth):\n",
    "    condition_exists = len(condition_list) != 0\n",
    "    data_exists = len(data) >= min_sample_split\n",
    "    full_depth = (max_depth == None) or (current_depth < max_depth)\n",
    "    \n",
    "    if condition_exists and data_exists and full_depth:\n",
    "        current_gini_impurity = evaluate_gini_impurity(data)\n",
    "        \n",
    "        condition, description, gini_impurity = \\\n",
    "            find_best_condition(data, condition_list)\n",
    "        #description = list(condition_list.keys())[0]\n",
    "        #condition = condition_list[description]\n",
    "        \n",
    "        left_data = data[condition(data)]\n",
    "        right_data = data[~condition(data)]\n",
    "        \n",
    "        if gini_impurity < current_gini_impurity and len(left_data) != 0 and len(right_data) != 0:\n",
    "            node = {'leaf': False, 'description': description, 'condition':condition}\n",
    "\n",
    "            del condition_list[description]\n",
    "            node['left'] =make_node(left_data, condition_list.copy(), current_depth+1)\n",
    "            node['right'] =make_node(right_data, condition_list.copy(), current_depth+1)\n",
    "            \n",
    "            return node\n",
    "\n",
    "    probability = data['like'].mean()\n",
    "    node = {'leaf':True, 'probability':probability}\n",
    "        \n",
    "    return node\n",
    "\n",
    "def make_tree(data):\n",
    "    tree = {}\n",
    "    \n",
    "    condition1 = make_condition(binary_condition, \"짱절미\", True)\n",
    "    condition2 = make_condition(binary_condition, \"셀스타그램\", True)\n",
    "    condition3 = make_condition(binary_condition, \"우산\", True)\n",
    "    \n",
    "    condition_list = {\n",
    "        \"짱절미 == True\": condition1,\n",
    "        \"셀스타그램 == True\": condition2,\n",
    "        \"우산 == True\": condition3\n",
    "    }\n",
    "    \n",
    "    tree = make_node(data, condition_list, current_depth=0)\n",
    "    \n",
    "    return tree\n",
    "tree = make_tree(data)\n",
    "\n",
    "display_tree(tree)"
   ]
  },
  {
   "cell_type": "markdown",
   "metadata": {},
   "source": []
  },
  {
   "cell_type": "code",
   "execution_count": null,
   "metadata": {},
   "outputs": [],
   "source": []
  },
  {
   "cell_type": "code",
   "execution_count": null,
   "metadata": {},
   "outputs": [],
   "source": []
  },
  {
   "cell_type": "code",
   "execution_count": null,
   "metadata": {
    "collapsed": true
   },
   "outputs": [],
   "source": [
    "left_data = data[data[\"짱절미\"] == True]\n",
    "left_probability = left_data['like'].mean()\n",
    "right_data = data[data[\"짱절미\"] == False]\n",
    "right_probability = right_data['like'].mean()\n",
    "\n",
    "left_probability, right_probability"
   ]
  },
  {
   "cell_type": "code",
   "execution_count": null,
   "metadata": {
    "collapsed": true
   },
   "outputs": [],
   "source": []
  },
  {
   "cell_type": "code",
   "execution_count": null,
   "metadata": {},
   "outputs": [],
   "source": []
  },
  {
   "cell_type": "code",
   "execution_count": null,
   "metadata": {},
   "outputs": [],
   "source": []
  },
  {
   "cell_type": "code",
   "execution_count": null,
   "metadata": {},
   "outputs": [],
   "source": []
  },
  {
   "cell_type": "code",
   "execution_count": null,
   "metadata": {},
   "outputs": [],
   "source": []
  },
  {
   "cell_type": "code",
   "execution_count": null,
   "metadata": {},
   "outputs": [],
   "source": []
  },
  {
   "cell_type": "code",
   "execution_count": null,
   "metadata": {},
   "outputs": [],
   "source": []
  },
  {
   "cell_type": "code",
   "execution_count": null,
   "metadata": {},
   "outputs": [],
   "source": []
  },
  {
   "cell_type": "code",
   "execution_count": null,
   "metadata": {},
   "outputs": [],
   "source": []
  },
  {
   "cell_type": "code",
   "execution_count": null,
   "metadata": {},
   "outputs": [],
   "source": []
  }
 ],
 "metadata": {
  "kernelspec": {
   "display_name": "Python 3",
   "language": "python",
   "name": "python3"
  },
  "language_info": {
   "codemirror_mode": {
    "name": "ipython",
    "version": 3
   },
   "file_extension": ".py",
   "mimetype": "text/x-python",
   "name": "python",
   "nbconvert_exporter": "python",
   "pygments_lexer": "ipython3",
   "version": "3.6.4"
  }
 },
 "nbformat": 4,
 "nbformat_minor": 2
}
