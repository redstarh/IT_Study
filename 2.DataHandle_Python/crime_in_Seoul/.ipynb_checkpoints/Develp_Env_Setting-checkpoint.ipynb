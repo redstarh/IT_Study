{
 "cells": [
  {
   "cell_type": "markdown",
   "metadata": {},
   "source": [
    "# Data Science\n",
    "## Data Science\n",
    "### Data Science\n",
    "#### Data Science"
   ]
  },
  {
   "cell_type": "markdown",
   "metadata": {},
   "source": [
    "## 1. Jupyter notebook Browser Settin\n",
    "\n",
    "jupyter notebook --generate-config\n",
    "\n",
    "#On a Mac\n",
    "c.NotebookApp.browser = u'/Applications/Gooogle\\ Chrome.app %s'\n",
    "\n",
    "#Windows\n",
    "import webbrowser\n",
    "webbrowser.register('chrome', None, webbrowser.GenericBrowser(u'C:\\\\Program Files (x86)\\\\Google\\\\Chrome\\\\Application\\\\chrome.exe'))\n",
    "c.NotebookApp.browser = 'chrome'"
   ]
  },
  {
   "cell_type": "markdown",
   "metadata": {},
   "source": [
    "## 2. Git bash 간단 사용법\n",
    "        http://duzi077.tistory.com/m/127\n",
    "\n",
    "1. https://git-scm.com/downloads\n",
    "    ==> Mac은 터미널에 연결해서 바로 사용하면 됨\n",
    "2. git bash 실행\n",
    "   git --version\n",
    "3.  git config --global user.name \"restarh\"\n",
    "    git config --global user.email \"red7368@gmail.com\"\n",
    "4. git config --list\n",
    "5. Local scource Directory로 이동\n",
    "6. git init\n",
    "7. git commit -m 'initial commit'\n",
    "8. git remote add DataScience https://github.com/redstarh/DataScience.git\n",
    "9. git push DataScience master\n",
    "\n",
    "==================================\n",
    "\n",
    "10. git add .(Directory All File)\n",
    "11. git commit -m 'modify file' \n",
    "12. git push DataScience master\n",
    "\n",
    "==================================\n",
    "\n",
    "다른 PC에 git 연결\n",
    "\n",
    "13. git init\n",
    "14. git remote DataScience https://github.com/redstarh/DataScience.git\n",
    "15. git pull DataScience master"
   ]
  },
  {
   "cell_type": "code",
   "execution_count": null,
   "metadata": {},
   "outputs": [],
   "source": []
  }
 ],
 "metadata": {
  "kernelspec": {
   "display_name": "Python 3",
   "language": "python",
   "name": "python3"
  },
  "language_info": {
   "codemirror_mode": {
    "name": "ipython",
    "version": 3
   },
   "file_extension": ".py",
   "mimetype": "text/x-python",
   "name": "python",
   "nbconvert_exporter": "python",
   "pygments_lexer": "ipython3",
   "version": "3.6.4"
  }
 },
 "nbformat": 4,
 "nbformat_minor": 2
}
