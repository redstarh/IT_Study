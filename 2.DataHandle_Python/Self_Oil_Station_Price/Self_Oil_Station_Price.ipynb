{
 "cells": [
  {
   "cell_type": "code",
   "execution_count": 9,
   "metadata": {},
   "outputs": [],
   "source": [
    "from selenium import webdriver"
   ]
  },
  {
   "cell_type": "code",
   "execution_count": 10,
   "metadata": {},
   "outputs": [],
   "source": [
    "import platform\n",
    "path=\"c:/Windows/Fonts/malgun.ttf\"\n",
    "from matplotlib import font_manager, rc\n",
    "from selenium import webdriver\n",
    "from selenium.webdriver.chrome.options import Options\n",
    "\n",
    "if platform.system() == \"Darwin\":\n",
    "    rc('font', family='AppleGothic')\n",
    "    driver = webdriver.Chrome('./driver/chromedriver')\n",
    "elif platform.system() == \"Windows\":\n",
    "    font_name = font_manager.FontProperties(fname=path).get_name()\n",
    "    \n",
    "    rc('font', family=font_name)\n",
    "    options = Options()\n",
    "    options.add_argument('--no-sandbox')    \n",
    "    #driver = webdriver.Chrome('./driver/chromedriver.exe')\n",
    "    driver = webdriver.Chrome(chrome_options=options, executable_path=r\"./driver/chromedriver.exe\")\n",
    " \n",
    "else:\n",
    "    print('Unknown system... sorry')"
   ]
  },
  {
   "cell_type": "code",
   "execution_count": 11,
   "metadata": {},
   "outputs": [],
   "source": [
    "driver.get(\"http://naver.com\")"
   ]
  },
  {
   "cell_type": "code",
   "execution_count": 12,
   "metadata": {},
   "outputs": [
    {
     "data": {
      "text/plain": [
       "True"
      ]
     },
     "execution_count": 12,
     "metadata": {},
     "output_type": "execute_result"
    }
   ],
   "source": [
    "driver.save_screenshot('./images/001.png')"
   ]
  },
  {
   "cell_type": "code",
   "execution_count": 13,
   "metadata": {},
   "outputs": [],
   "source": [
    "login_xpath = \"\"\"//*[@id=\"account\"]/div/a/i\"\"\" #www.naver.com\n",
    "#login_xpath = \"\"\"//*[@id=\"container\"]/div/div[2]/div[1]/div/a/span/i\"\"\" #mail.naver.com\n",
    "driver.find_element_by_xpath(login_xpath).click()"
   ]
  },
  {
   "cell_type": "code",
   "execution_count": 14,
   "metadata": {},
   "outputs": [],
   "source": [
    "elem_login = driver.find_element_by_id(\"id\")\n",
    "elem_login.clear()\n",
    "elem_login.send_keys(\"red7368\")\n",
    "\n",
    "elem_login = driver.find_element_by_id(\"pw\")\n",
    "elem_login.clear()\n",
    "elem_login.send_keys(\"@mrkim177\")"
   ]
  },
  {
   "cell_type": "code",
   "execution_count": 15,
   "metadata": {},
   "outputs": [],
   "source": [
    "xpath = \"\"\"//*[@id=\"frmNIDLogin\"]/fieldset/input\"\"\"\n",
    "driver.find_element_by_xpath(xpath).click()"
   ]
  },
  {
   "cell_type": "code",
   "execution_count": 20,
   "metadata": {},
   "outputs": [],
   "source": [
    "driver.get(\"http://mail.naver.com\")"
   ]
  },
  {
   "cell_type": "code",
   "execution_count": null,
   "metadata": {},
   "outputs": [],
   "source": [
    "from bs4 import BeautifulSoup\n",
    "\n",
    "html = driver.page_source\n",
    "soup = BeautifulSoup(html, 'html.parser')\n",
    "soup"
   ]
  },
  {
   "cell_type": "code",
   "execution_count": 27,
   "metadata": {},
   "outputs": [
    {
     "data": {
      "text/plain": [
       "[<div class=\"name _ccr(lst.from) \"><span class=\"blind\">보낸 이:</span><a class=\"_c1(myContextMenu|showSenderContextLayer|list|9076) _stopDefault\" href=\"#\" title='\"밀리의 서재\" &lt;millietown@naver.com&gt;'>밀리의 서재</a></div>,\n",
       " <div class=\"name _ccr(lst.from) \"><span class=\"blind\">보낸 이:</span><a class=\"_c1(myContextMenu|showSenderContextLayer|list|9074) _stopDefault\" href=\"#\" title='\"네이버\" &lt;help@help.naver.com&gt;'>네이버</a></div>,\n",
       " <div class=\"name _ccr(lst.from) \"><span class=\"blind\">보낸 이:</span><a class=\"_c1(myContextMenu|showSenderContextLayer|list|9073) _stopDefault\" href=\"#\" title='\"네이버\" &lt;help@help.naver.com&gt;'>네이버</a></div>,\n",
       " <div class=\"name _ccr(lst.from) \"><span class=\"blind\">보낸 이:</span><a class=\"_c1(myContextMenu|showSenderContextLayer|list|9066) _stopDefault\" href=\"#\" title='\"네이버\" &lt;help@help.naver.com&gt;'>네이버</a></div>,\n",
       " <div class=\"name _ccr(lst.from) \"><span class=\"blind\">보낸 이:</span><a class=\"_c1(myContextMenu|showSenderContextLayer|list|9065) _stopDefault\" href=\"#\" title='\"네이버\" &lt;help@help.naver.com&gt;'>네이버</a></div>,\n",
       " <div class=\"name _ccr(lst.from) \"><span class=\"blind\">보낸 이:</span><a class=\"_c1(myContextMenu|showSenderContextLayer|list|9062) _stopDefault\" href=\"#\" title='\"CGV\" &lt;webmaster@cgv.co.kr&gt;'>CGV</a></div>,\n",
       " <div class=\"name _ccr(lst.from) \"><span class=\"blind\">보낸 이:</span><a class=\"_c1(myContextMenu|showSenderContextLayer|list|9061) _stopDefault\" href=\"#\" title='\"edwith\" &lt;no-reply@edwith.org&gt;'>edwith</a></div>,\n",
       " <div class=\"name _ccr(lst.from) \"><span class=\"blind\">보낸 이:</span><a class=\"_c1(myContextMenu|showSenderContextLayer|list|9059) _stopDefault\" href=\"#\" title='\"NH투자증권\" &lt;transaction_report@nreturn.nhqv.com&gt;'>NH투자증권</a></div>,\n",
       " <div class=\"name _ccr(lst.from) \"><span class=\"blind\">보낸 이:</span><a class=\"_c1(myContextMenu|showSenderContextLayer|list|9058) _stopDefault\" href=\"#\" title='\"네이버\" &lt;help@help.naver.com&gt;'>네이버</a></div>,\n",
       " <div class=\"name _ccr(lst.from) \"><span class=\"blind\">보낸 이:</span><a class=\"_c1(myContextMenu|showSenderContextLayer|list|9057) _stopDefault\" href=\"#\" title='\"에어클래스\" &lt;support@airklass.com&gt;'>에어클래스</a></div>,\n",
       " <div class=\"name _ccr(lst.from) \"><span class=\"blind\">보낸 이:</span><a class=\"_c1(myContextMenu|showSenderContextLayer|list|9055) _stopDefault\" href=\"#\" title='\"네이버\" &lt;help@help.naver.com&gt;'>네이버</a></div>,\n",
       " <div class=\"name _ccr(lst.from) \"><span class=\"blind\">보낸 이:</span><a class=\"_c1(myContextMenu|showSenderContextLayer|list|9054) _stopDefault\" href=\"#\" title='\"네이버\" &lt;help@help.naver.com&gt;'>네이버</a></div>,\n",
       " <div class=\"name _ccr(lst.from) \"><span class=\"blind\">보낸 이:</span><a class=\"_c1(myContextMenu|showSenderContextLayer|list|9050) _stopDefault\" href=\"#\" title='\"분당메모리얼파크\" &lt;web@bmpark.co.kr&gt;'>분당메모리얼파크</a></div>,\n",
       " <div class=\"name _ccr(lst.from) \"><span class=\"blind\">보낸 이:</span><a class=\"_c1(myContextMenu|showSenderContextLayer|list|9048) _stopDefault\" href=\"#\" title='\"Google\" &lt;no-reply@accounts.google.com&gt;'>Google</a></div>,\n",
       " <div class=\"name _ccr(lst.from) \"><span class=\"blind\">보낸 이:</span><a class=\"_c1(myContextMenu|showSenderContextLayer|list|9043) _stopDefault\" href=\"#\" title='\"김지훈(KIM JIHOON)/통신전략사업추진 Unit/SK\" &lt;redstar@sk.com&gt;'>김지훈(KIM JIHOON)..</a></div>]"
      ]
     },
     "execution_count": 27,
     "metadata": {},
     "output_type": "execute_result"
    }
   ],
   "source": [
    "raw_list = soup.find_all('div', 'name _ccr(lst.from) ')\n",
    "raw_list"
   ]
  },
  {
   "cell_type": "code",
   "execution_count": 28,
   "metadata": {},
   "outputs": [
    {
     "data": {
      "text/plain": [
       "['밀리의 서재',\n",
       " '네이버',\n",
       " '네이버',\n",
       " '네이버',\n",
       " '네이버',\n",
       " 'CGV',\n",
       " 'edwith',\n",
       " 'NH투자증권',\n",
       " '네이버',\n",
       " '에어클래스',\n",
       " '네이버',\n",
       " '네이버',\n",
       " '분당메모리얼파크',\n",
       " 'Google',\n",
       " '김지훈(KIM JIHOON)..']"
      ]
     },
     "execution_count": 28,
     "metadata": {},
     "output_type": "execute_result"
    }
   ],
   "source": [
    "send_list = [raw_list[n].find('a').get_text() for n in range(0, len(raw_list))]\n",
    "send_list"
   ]
  },
  {
   "cell_type": "code",
   "execution_count": 29,
   "metadata": {},
   "outputs": [],
   "source": [
    "driver.close()"
   ]
  }
 ],
 "metadata": {
  "kernelspec": {
   "display_name": "Python 3",
   "language": "python",
   "name": "python3"
  },
  "language_info": {
   "codemirror_mode": {
    "name": "ipython",
    "version": 3
   },
   "file_extension": ".py",
   "mimetype": "text/x-python",
   "name": "python",
   "nbconvert_exporter": "python",
   "pygments_lexer": "ipython3",
   "version": "3.6.4"
  }
 },
 "nbformat": 4,
 "nbformat_minor": 2
}
