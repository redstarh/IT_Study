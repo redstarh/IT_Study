{
 "cells": [
  {
   "cell_type": "markdown",
   "metadata": {},
   "source": [
    "# Bike Sharing Demand\n",
    "\n",
    "## 데이터분석과 시각화, 머신러닝 알고리즘으로 시간당 자전거 대여량을 예측하기\n",
    "\n",
    "이번 캐글 경진대회는 시간당 자전거 대여량을 예측하는 [Bike Sharing Demand](https://www.kaggle.com/c/bike-sharing-demand) 입니다. 워싱턴 D.C 소재의 자전거 대여 스타트업 [Capital Bikeshare](https://www.capitalbikeshare.com/)의 데이터를 활용하여, 특정 시간대에 얼마나 많은 사람들이 자전거를 대여하는지 예측하는 것이 목표입니다.\n",
    "\n",
    "사람들이 자전거를 대여하는데는 많은 요소가 관여되어 있을 겁니다. 가령 시간(새벽보다 낮에 많이 빌리겠죠), 날씨(비가 오면 자전거를 대여하지 않을 겁니다), 근무일(근무 시간에는 자전거를 대여하지 않겠죠) 등. 이런 모든 요소를 조합하여 워싱턴 D.C의 자전거 교통량을 예측해주세요. 이번 경진대회에서는 기존까지 배웠던 프로그래밍 언어와 인공지능&머신러닝 능력 외에도, 자전거 렌탈 시장에 대한 약간의 전문지식, 그리고 일반인의 기초 상식을 총동원 할 수 있습니다.\n",
    "\n",
    "저번 [Titanic: Machine Learning from Disaster](https://www.kaggle.com/c/titanic/) 경진대회와 마찬가지로, 이번에도 프로그래밍 언어 파이썬([Python](https://www.python.org/)), 데이터 분석 패키지 판다스([Pandas](https://pandas.pydata.org/)), 그리고 머신러닝&인공지능 라이브러리인 싸이킷런([scikit-learn](scikit-learn.org))을 사용합니다. 여기에 더불어, 이번에는 데이터 시각화 패키지 [matplotlib](https://matplotlib.org/)와 [Seaborn](https://seaborn.pydata.org/)을 본격적으로 활용해볼 것입니다.\n",
    "\n",
    "## 컬럼 설명\n",
    "\n",
    "(데이터는 [다음의 링크](https://www.kaggle.com/c/bike-sharing-demand/data)에서 다운받으실 수 있습니다)\n",
    "\n",
    "  * **datetime** - 시간. 연-월-일 시:분:초 로 표현합니다. (가령 2011-01-01 00:00:00은 2011년 1월 1일 0시 0분 0초)\n",
    "  * **season** - 계절. 봄(1), 여름(2), 가을(3), 겨울(4) 순으로 표현합니다.\n",
    "  * **holiday** - 공휴일. 1이면 공휴일이며, 0이면 공휴일이 아닙니다.\n",
    "  * **workingday** - 근무일. 1이면 근무일이며, 0이면 근무일이 아닙니다.\n",
    "  * **weather** - 날씨. 1 ~ 4 사이의 값을 가지며, 구체적으로는 다음과 같습니다.\n",
    "    * 1: 아주 깨끗한 날씨입니다. 또는 아주 약간의 구름이 끼어있습니다.\n",
    "    * 2: 약간의 안개와 구름이 끼어있는 날씨입니다.\n",
    "    * 3: 약간의 눈, 비가 오거나 천둥이 칩니다.\n",
    "    * 4: 아주 많은 비가 오거나 우박이 내립니다.\n",
    "  * **temp** - 온도. 섭씨(Celsius)로 적혀있습니다.\n",
    "  * **atemp** - 체감 온도. 마찬가지로 섭씨(Celsius)로 적혀있습니다.\n",
    "  * **humidity** - 습도.\n",
    "  * **windspeed** - 풍속.\n",
    "  * **casual** - 비회원(non-registered)의 자전거 대여량.\n",
    "  * **registered** - 회원(registered)의 자전거 대여량.\n",
    "  * **count** - 총 자전거 대여랑. 비회원(casual) + 회원(registered)과 동일합니다."
   ]
  },
  {
   "cell_type": "code",
   "execution_count": 1,
   "metadata": {
    "collapsed": true
   },
   "outputs": [],
   "source": [
    "# 파이썬의 데이터 분석 패키지 Pandas(pandas.pydata.org) 를 읽어옵니다.\n",
    "# Pandas는 쉽게 말해 파이썬으로 엑셀을 다룰 수 있는 툴이라고 보시면 됩니다.\n",
    "# 이 패키지를 앞으로는 pd라는 축약어로 사용하겠습니다.\n",
    "import pandas as pd"
   ]
  },
  {
   "cell_type": "markdown",
   "metadata": {},
   "source": [
    "## Load Dataset\n",
    "\n",
    "언제나처럼 모든 데이터 분석의 시작은 주어진 데이터를 읽어오는 것입니다. [판다스(Pandas)](https://pandas.pydata.org/)의 [read_csv](https://pandas.pydata.org/pandas-docs/stable/generated/pandas.read_csv.html)를 활용하여 [Bike Sharing Demand](https://www.kaggle.com/c/bike-sharing-demand) 경진대회에서 제공하는 두 개의 데이터(train, test)를 읽어오겠습니다. ([다운로드 링크](https://www.kaggle.com/c/bike-sharing-demand/data))\n",
    "\n",
    "앞서 [Titanic: Machine Learning from Disaster](https://www.kaggle.com/c/titanic/) 경진대회와 마찬가지로, 여기에서도 파일의 경로를 지정하는 방법에 주의하셔야 합니다. 만일 read_csv를 실행할 때 (**FileNotFoundError**)라는 이름의 에러가 난다면 경로가 제대로 지정이 되지 않은 것입니다. **파일의 경로를 지정하는 법이 생각나지 않는다면 [다음의 링크](http://88240.tistory.com/122)를 통해 경로를 지정하는 법을 복습한 뒤 다시 시도해주세요.**"
   ]
  },
  {
   "cell_type": "code",
   "execution_count": 8,
   "metadata": {},
   "outputs": [
    {
     "name": "stdout",
     "output_type": "stream",
     "text": [
      "(10886, 12)\n"
     ]
    },
    {
     "data": {
      "text/html": [
       "<div>\n",
       "<style scoped>\n",
       "    .dataframe tbody tr th:only-of-type {\n",
       "        vertical-align: middle;\n",
       "    }\n",
       "\n",
       "    .dataframe tbody tr th {\n",
       "        vertical-align: top;\n",
       "    }\n",
       "\n",
       "    .dataframe thead th {\n",
       "        text-align: right;\n",
       "    }\n",
       "</style>\n",
       "<table border=\"1\" class=\"dataframe\">\n",
       "  <thead>\n",
       "    <tr style=\"text-align: right;\">\n",
       "      <th></th>\n",
       "      <th>datetime</th>\n",
       "      <th>season</th>\n",
       "      <th>holiday</th>\n",
       "      <th>workingday</th>\n",
       "      <th>weather</th>\n",
       "      <th>temp</th>\n",
       "      <th>atemp</th>\n",
       "      <th>humidity</th>\n",
       "      <th>windspeed</th>\n",
       "      <th>casual</th>\n",
       "      <th>registered</th>\n",
       "      <th>count</th>\n",
       "    </tr>\n",
       "  </thead>\n",
       "  <tbody>\n",
       "    <tr>\n",
       "      <th>0</th>\n",
       "      <td>2011-01-01 00:00:00</td>\n",
       "      <td>1</td>\n",
       "      <td>0</td>\n",
       "      <td>0</td>\n",
       "      <td>1</td>\n",
       "      <td>9.84</td>\n",
       "      <td>14.395</td>\n",
       "      <td>81</td>\n",
       "      <td>0.0</td>\n",
       "      <td>3</td>\n",
       "      <td>13</td>\n",
       "      <td>16</td>\n",
       "    </tr>\n",
       "    <tr>\n",
       "      <th>1</th>\n",
       "      <td>2011-01-01 01:00:00</td>\n",
       "      <td>1</td>\n",
       "      <td>0</td>\n",
       "      <td>0</td>\n",
       "      <td>1</td>\n",
       "      <td>9.02</td>\n",
       "      <td>13.635</td>\n",
       "      <td>80</td>\n",
       "      <td>0.0</td>\n",
       "      <td>8</td>\n",
       "      <td>32</td>\n",
       "      <td>40</td>\n",
       "    </tr>\n",
       "    <tr>\n",
       "      <th>2</th>\n",
       "      <td>2011-01-01 02:00:00</td>\n",
       "      <td>1</td>\n",
       "      <td>0</td>\n",
       "      <td>0</td>\n",
       "      <td>1</td>\n",
       "      <td>9.02</td>\n",
       "      <td>13.635</td>\n",
       "      <td>80</td>\n",
       "      <td>0.0</td>\n",
       "      <td>5</td>\n",
       "      <td>27</td>\n",
       "      <td>32</td>\n",
       "    </tr>\n",
       "    <tr>\n",
       "      <th>3</th>\n",
       "      <td>2011-01-01 03:00:00</td>\n",
       "      <td>1</td>\n",
       "      <td>0</td>\n",
       "      <td>0</td>\n",
       "      <td>1</td>\n",
       "      <td>9.84</td>\n",
       "      <td>14.395</td>\n",
       "      <td>75</td>\n",
       "      <td>0.0</td>\n",
       "      <td>3</td>\n",
       "      <td>10</td>\n",
       "      <td>13</td>\n",
       "    </tr>\n",
       "    <tr>\n",
       "      <th>4</th>\n",
       "      <td>2011-01-01 04:00:00</td>\n",
       "      <td>1</td>\n",
       "      <td>0</td>\n",
       "      <td>0</td>\n",
       "      <td>1</td>\n",
       "      <td>9.84</td>\n",
       "      <td>14.395</td>\n",
       "      <td>75</td>\n",
       "      <td>0.0</td>\n",
       "      <td>0</td>\n",
       "      <td>1</td>\n",
       "      <td>1</td>\n",
       "    </tr>\n",
       "  </tbody>\n",
       "</table>\n",
       "</div>"
      ],
      "text/plain": [
       "             datetime  season  holiday  workingday  weather  temp   atemp  \\\n",
       "0 2011-01-01 00:00:00       1        0           0        1  9.84  14.395   \n",
       "1 2011-01-01 01:00:00       1        0           0        1  9.02  13.635   \n",
       "2 2011-01-01 02:00:00       1        0           0        1  9.02  13.635   \n",
       "3 2011-01-01 03:00:00       1        0           0        1  9.84  14.395   \n",
       "4 2011-01-01 04:00:00       1        0           0        1  9.84  14.395   \n",
       "\n",
       "   humidity  windspeed  casual  registered  count  \n",
       "0        81        0.0       3          13     16  \n",
       "1        80        0.0       8          32     40  \n",
       "2        80        0.0       5          27     32  \n",
       "3        75        0.0       3          10     13  \n",
       "4        75        0.0       0           1      1  "
      ]
     },
     "execution_count": 8,
     "metadata": {},
     "output_type": "execute_result"
    }
   ],
   "source": [
    "# 판다스의 read_csv로 train.csv 파일을 읽어옵니다.\n",
    "# 여기서 datetime은 특별히 날짜로 해석하기 위해 parse_dates 옵션에 넣어줍니다.\n",
    "# 읽어온 데이터를 train이라는 이름의 변수에 할당합니다.\n",
    "train = pd.read_csv(\"./Bike/data/train.csv\", parse_dates=[\"datetime\"])\n",
    "\n",
    "# train 변수에 할당된 데이터의 행렬 사이즈를 출력합니다.\n",
    "# 출력은 (row, column) 으로 표시됩니다.\n",
    "print(train.shape)\n",
    "\n",
    "# head()로 train 데이터의 상위 5개를 띄웁니다.\n",
    "train.head()"
   ]
  },
  {
   "cell_type": "code",
   "execution_count": 9,
   "metadata": {},
   "outputs": [
    {
     "name": "stdout",
     "output_type": "stream",
     "text": [
      "(6493, 9)\n"
     ]
    },
    {
     "data": {
      "text/html": [
       "<div>\n",
       "<style scoped>\n",
       "    .dataframe tbody tr th:only-of-type {\n",
       "        vertical-align: middle;\n",
       "    }\n",
       "\n",
       "    .dataframe tbody tr th {\n",
       "        vertical-align: top;\n",
       "    }\n",
       "\n",
       "    .dataframe thead th {\n",
       "        text-align: right;\n",
       "    }\n",
       "</style>\n",
       "<table border=\"1\" class=\"dataframe\">\n",
       "  <thead>\n",
       "    <tr style=\"text-align: right;\">\n",
       "      <th></th>\n",
       "      <th>datetime</th>\n",
       "      <th>season</th>\n",
       "      <th>holiday</th>\n",
       "      <th>workingday</th>\n",
       "      <th>weather</th>\n",
       "      <th>temp</th>\n",
       "      <th>atemp</th>\n",
       "      <th>humidity</th>\n",
       "      <th>windspeed</th>\n",
       "    </tr>\n",
       "  </thead>\n",
       "  <tbody>\n",
       "    <tr>\n",
       "      <th>0</th>\n",
       "      <td>2011-01-20 00:00:00</td>\n",
       "      <td>1</td>\n",
       "      <td>0</td>\n",
       "      <td>1</td>\n",
       "      <td>1</td>\n",
       "      <td>10.66</td>\n",
       "      <td>11.365</td>\n",
       "      <td>56</td>\n",
       "      <td>26.0027</td>\n",
       "    </tr>\n",
       "    <tr>\n",
       "      <th>1</th>\n",
       "      <td>2011-01-20 01:00:00</td>\n",
       "      <td>1</td>\n",
       "      <td>0</td>\n",
       "      <td>1</td>\n",
       "      <td>1</td>\n",
       "      <td>10.66</td>\n",
       "      <td>13.635</td>\n",
       "      <td>56</td>\n",
       "      <td>0.0000</td>\n",
       "    </tr>\n",
       "    <tr>\n",
       "      <th>2</th>\n",
       "      <td>2011-01-20 02:00:00</td>\n",
       "      <td>1</td>\n",
       "      <td>0</td>\n",
       "      <td>1</td>\n",
       "      <td>1</td>\n",
       "      <td>10.66</td>\n",
       "      <td>13.635</td>\n",
       "      <td>56</td>\n",
       "      <td>0.0000</td>\n",
       "    </tr>\n",
       "    <tr>\n",
       "      <th>3</th>\n",
       "      <td>2011-01-20 03:00:00</td>\n",
       "      <td>1</td>\n",
       "      <td>0</td>\n",
       "      <td>1</td>\n",
       "      <td>1</td>\n",
       "      <td>10.66</td>\n",
       "      <td>12.880</td>\n",
       "      <td>56</td>\n",
       "      <td>11.0014</td>\n",
       "    </tr>\n",
       "    <tr>\n",
       "      <th>4</th>\n",
       "      <td>2011-01-20 04:00:00</td>\n",
       "      <td>1</td>\n",
       "      <td>0</td>\n",
       "      <td>1</td>\n",
       "      <td>1</td>\n",
       "      <td>10.66</td>\n",
       "      <td>12.880</td>\n",
       "      <td>56</td>\n",
       "      <td>11.0014</td>\n",
       "    </tr>\n",
       "  </tbody>\n",
       "</table>\n",
       "</div>"
      ],
      "text/plain": [
       "             datetime  season  holiday  workingday  weather   temp   atemp  \\\n",
       "0 2011-01-20 00:00:00       1        0           1        1  10.66  11.365   \n",
       "1 2011-01-20 01:00:00       1        0           1        1  10.66  13.635   \n",
       "2 2011-01-20 02:00:00       1        0           1        1  10.66  13.635   \n",
       "3 2011-01-20 03:00:00       1        0           1        1  10.66  12.880   \n",
       "4 2011-01-20 04:00:00       1        0           1        1  10.66  12.880   \n",
       "\n",
       "   humidity  windspeed  \n",
       "0        56    26.0027  \n",
       "1        56     0.0000  \n",
       "2        56     0.0000  \n",
       "3        56    11.0014  \n",
       "4        56    11.0014  "
      ]
     },
     "execution_count": 9,
     "metadata": {},
     "output_type": "execute_result"
    }
   ],
   "source": [
    "# train.csv 파일을 읽어온 방식과 동일하게 test.csv를 읽어옵니다.\n",
    "# 이후 이 데이터를 test라는 이름의 변수에 저장합니다.\n",
    "test = pd.read_csv(\"./Bike/data/test.csv\", parse_dates=[\"datetime\"])\n",
    "\n",
    "# 마찬가지로 행렬(row, column) 사이즈를 출력하고\n",
    "print(test.shape)\n",
    "\n",
    "# 전체 test 데이터에서 상위 5개만 출력합니다.\n",
    "test.head()"
   ]
  },
  {
   "cell_type": "markdown",
   "metadata": {},
   "source": [
    "## Preprocessing\n",
    "\n",
    "데이터를 읽어왔으면, 이 데이터를 편하게 분석하고 머신러닝 알고리즘에 집어넣기 위해 간단한 전처리(Preprocessing) 작업을 진행하겠습니다.\n",
    "\n",
    "[Bike Sharing Demand](https://www.kaggle.com/c/bike-sharing-demand)는 편리하게도 대부분의 데이터가 전처리 되어있습니다. (가령 season 컬럼은 봄을 spring이라 표현하지 않고 1이라고 표현합니다) 그러므로 [Titanic: Machine Learning from Disaster](https://www.kaggle.com/c/titanic/) 경진대회와는 달리 간단한 전처리만 끝내면 바로 머신러닝 모델에 데이터를 집어넣을 수 있습니다."
   ]
  },
  {
   "cell_type": "markdown",
   "metadata": {},
   "source": [
    "### Parse datetime\n",
    "\n",
    "먼저 **날짜(datetime)** 컬럼을 전처리 하겠습니다.\n",
    "\n",
    "날짜 컬럼은 얼핏 보면 여러개의 숫자로 구성되어 있습니다. (ex: 2011-01-01 00:00:00) 하지만 결론적으로 숫자는 아니며, 판다스에서는 문자열(object) 또는 날짜(datetime64)로 인식합니다. (값에 하이픈(-)과 콜론(:)이 있기 때문입니다) 그러므로 날짜(datetime) 컬럼을 사용하기 위해서는 머신러닝 알고리즘이 이해할 수 있는 방식으로 전처리를 해줘야 합니다.\n",
    "\n",
    "날짜(datetime) 컬럼을 전처리하는 가장 쉬운 방법은 연, 월, 일, 시, 분, 초를 따로 나누는 것입니다. 가령 2011-01-01 00:00:00은 2011년 1월 1일 0시 0분 0초라고 볼 수 있으므로, 2011, 1, 1, 0, 0, 0으로 따로 나누면 총 6개의 숫자가 됩니다. 즉, **날짜(datetime) 컬럼을 여섯개의 다른 컬럼으로 나누어주는 것이 날짜 컬럼을 전처리하는 핵심입니다**."
   ]
  },
  {
   "cell_type": "code",
   "execution_count": 10,
   "metadata": {},
   "outputs": [
    {
     "name": "stdout",
     "output_type": "stream",
     "text": [
      "(10886, 19)\n"
     ]
    },
    {
     "data": {
      "text/html": [
       "<div>\n",
       "<style scoped>\n",
       "    .dataframe tbody tr th:only-of-type {\n",
       "        vertical-align: middle;\n",
       "    }\n",
       "\n",
       "    .dataframe tbody tr th {\n",
       "        vertical-align: top;\n",
       "    }\n",
       "\n",
       "    .dataframe thead th {\n",
       "        text-align: right;\n",
       "    }\n",
       "</style>\n",
       "<table border=\"1\" class=\"dataframe\">\n",
       "  <thead>\n",
       "    <tr style=\"text-align: right;\">\n",
       "      <th></th>\n",
       "      <th>datetime</th>\n",
       "      <th>datetime-year</th>\n",
       "      <th>datetime-month</th>\n",
       "      <th>datetime-day</th>\n",
       "      <th>datetime-hour</th>\n",
       "      <th>datetime-minute</th>\n",
       "      <th>datetime-second</th>\n",
       "      <th>datetime-dayofweek</th>\n",
       "    </tr>\n",
       "  </thead>\n",
       "  <tbody>\n",
       "    <tr>\n",
       "      <th>0</th>\n",
       "      <td>2011-01-01 00:00:00</td>\n",
       "      <td>2011</td>\n",
       "      <td>1</td>\n",
       "      <td>1</td>\n",
       "      <td>0</td>\n",
       "      <td>0</td>\n",
       "      <td>0</td>\n",
       "      <td>5</td>\n",
       "    </tr>\n",
       "    <tr>\n",
       "      <th>1</th>\n",
       "      <td>2011-01-01 01:00:00</td>\n",
       "      <td>2011</td>\n",
       "      <td>1</td>\n",
       "      <td>1</td>\n",
       "      <td>1</td>\n",
       "      <td>0</td>\n",
       "      <td>0</td>\n",
       "      <td>5</td>\n",
       "    </tr>\n",
       "    <tr>\n",
       "      <th>2</th>\n",
       "      <td>2011-01-01 02:00:00</td>\n",
       "      <td>2011</td>\n",
       "      <td>1</td>\n",
       "      <td>1</td>\n",
       "      <td>2</td>\n",
       "      <td>0</td>\n",
       "      <td>0</td>\n",
       "      <td>5</td>\n",
       "    </tr>\n",
       "    <tr>\n",
       "      <th>3</th>\n",
       "      <td>2011-01-01 03:00:00</td>\n",
       "      <td>2011</td>\n",
       "      <td>1</td>\n",
       "      <td>1</td>\n",
       "      <td>3</td>\n",
       "      <td>0</td>\n",
       "      <td>0</td>\n",
       "      <td>5</td>\n",
       "    </tr>\n",
       "    <tr>\n",
       "      <th>4</th>\n",
       "      <td>2011-01-01 04:00:00</td>\n",
       "      <td>2011</td>\n",
       "      <td>1</td>\n",
       "      <td>1</td>\n",
       "      <td>4</td>\n",
       "      <td>0</td>\n",
       "      <td>0</td>\n",
       "      <td>5</td>\n",
       "    </tr>\n",
       "  </tbody>\n",
       "</table>\n",
       "</div>"
      ],
      "text/plain": [
       "             datetime  datetime-year  datetime-month  datetime-day  \\\n",
       "0 2011-01-01 00:00:00           2011               1             1   \n",
       "1 2011-01-01 01:00:00           2011               1             1   \n",
       "2 2011-01-01 02:00:00           2011               1             1   \n",
       "3 2011-01-01 03:00:00           2011               1             1   \n",
       "4 2011-01-01 04:00:00           2011               1             1   \n",
       "\n",
       "   datetime-hour  datetime-minute  datetime-second  datetime-dayofweek  \n",
       "0              0                0                0                   5  \n",
       "1              1                0                0                   5  \n",
       "2              2                0                0                   5  \n",
       "3              3                0                0                   5  \n",
       "4              4                0                0                   5  "
      ]
     },
     "execution_count": 10,
     "metadata": {},
     "output_type": "execute_result"
    }
   ],
   "source": [
    "# train 데이터에 연, 월, 일, 시, 분, 초를 나타내는 새로운 컬럼을 생성합니다.\n",
    "# 각각의 이름을 datetime-year/month/day/hour/minute/second라고 가정합니다.\n",
    "# 이 컬럼에 날짜(datetime) 컬럼의 dt(datetime의 약자입니다) 옵션을 활용하여 연월일시분초를 따로 넣어줍니다.\n",
    "train[\"datetime-year\"] = train[\"datetime\"].dt.year\n",
    "train[\"datetime-month\"] = train[\"datetime\"].dt.month\n",
    "train[\"datetime-day\"] = train[\"datetime\"].dt.day\n",
    "train[\"datetime-hour\"] = train[\"datetime\"].dt.hour\n",
    "train[\"datetime-minute\"] = train[\"datetime\"].dt.minute\n",
    "train[\"datetime-second\"] = train[\"datetime\"].dt.second\n",
    "\n",
    "# dayofweek는 날짜에서 요일(월~일)을 가져오는 기능입니다.\n",
    "# 값은 0(월), 1(화), 2(수), 3(목), 4(금), 5(토), 6(일) 을 나타냅니다.\n",
    "train[\"datetime-dayofweek\"] = train[\"datetime\"].dt.dayofweek\n",
    "\n",
    "# train 변수에 할당된 데이터의 행렬 사이즈를 출력합니다.\n",
    "# 출력은 (row, column) 으로 표시됩니다.\n",
    "print(train.shape)\n",
    "\n",
    "# .head()로 train 데이터의 상위 5개를 띄우되,\n",
    "# datetime과 이와 연관된 나머지 일곱 개의 컬럼만을 출력합니다.\n",
    "train[[\"datetime\", \"datetime-year\", \"datetime-month\", \"datetime-day\", \"datetime-hour\", \"datetime-minute\", \"datetime-second\", \"datetime-dayofweek\"]].head()"
   ]
  },
  {
   "cell_type": "code",
   "execution_count": 11,
   "metadata": {},
   "outputs": [
    {
     "name": "stdout",
     "output_type": "stream",
     "text": [
      "(10886, 20)\n"
     ]
    },
    {
     "data": {
      "text/html": [
       "<div>\n",
       "<style scoped>\n",
       "    .dataframe tbody tr th:only-of-type {\n",
       "        vertical-align: middle;\n",
       "    }\n",
       "\n",
       "    .dataframe tbody tr th {\n",
       "        vertical-align: top;\n",
       "    }\n",
       "\n",
       "    .dataframe thead th {\n",
       "        text-align: right;\n",
       "    }\n",
       "</style>\n",
       "<table border=\"1\" class=\"dataframe\">\n",
       "  <thead>\n",
       "    <tr style=\"text-align: right;\">\n",
       "      <th></th>\n",
       "      <th>datetime</th>\n",
       "      <th>datetime-dayofweek</th>\n",
       "      <th>datetime-dayofweek(humanized)</th>\n",
       "    </tr>\n",
       "  </thead>\n",
       "  <tbody>\n",
       "    <tr>\n",
       "      <th>0</th>\n",
       "      <td>2011-01-01 00:00:00</td>\n",
       "      <td>5</td>\n",
       "      <td>Saturday</td>\n",
       "    </tr>\n",
       "    <tr>\n",
       "      <th>1</th>\n",
       "      <td>2011-01-01 01:00:00</td>\n",
       "      <td>5</td>\n",
       "      <td>Saturday</td>\n",
       "    </tr>\n",
       "    <tr>\n",
       "      <th>2</th>\n",
       "      <td>2011-01-01 02:00:00</td>\n",
       "      <td>5</td>\n",
       "      <td>Saturday</td>\n",
       "    </tr>\n",
       "    <tr>\n",
       "      <th>3</th>\n",
       "      <td>2011-01-01 03:00:00</td>\n",
       "      <td>5</td>\n",
       "      <td>Saturday</td>\n",
       "    </tr>\n",
       "    <tr>\n",
       "      <th>4</th>\n",
       "      <td>2011-01-01 04:00:00</td>\n",
       "      <td>5</td>\n",
       "      <td>Saturday</td>\n",
       "    </tr>\n",
       "  </tbody>\n",
       "</table>\n",
       "</div>"
      ],
      "text/plain": [
       "             datetime  datetime-dayofweek datetime-dayofweek(humanized)\n",
       "0 2011-01-01 00:00:00                   5                      Saturday\n",
       "1 2011-01-01 01:00:00                   5                      Saturday\n",
       "2 2011-01-01 02:00:00                   5                      Saturday\n",
       "3 2011-01-01 03:00:00                   5                      Saturday\n",
       "4 2011-01-01 04:00:00                   5                      Saturday"
      ]
     },
     "execution_count": 11,
     "metadata": {},
     "output_type": "execute_result"
    }
   ],
   "source": [
    "# datetime-dayofweek를 사람이 이해하기 쉬운 표현으로 변경합니다. (Monday ~ Sunday)\n",
    "# 이를 datetime-dayofweek(humanized)라는 새로운 컬럼에 추가합니다.\n",
    "train.loc[train[\"datetime-dayofweek\"] == 0, \"datetime-dayofweek(humanized)\"] = \"Monday\"\n",
    "train.loc[train[\"datetime-dayofweek\"] == 1, \"datetime-dayofweek(humanized)\"] = \"Tuesday\"\n",
    "train.loc[train[\"datetime-dayofweek\"] == 2, \"datetime-dayofweek(humanized)\"] = \"Wednesday\"\n",
    "train.loc[train[\"datetime-dayofweek\"] == 3, \"datetime-dayofweek(humanized)\"] = \"Thursday\"\n",
    "train.loc[train[\"datetime-dayofweek\"] == 4, \"datetime-dayofweek(humanized)\"] = \"Friday\"\n",
    "train.loc[train[\"datetime-dayofweek\"] == 5, \"datetime-dayofweek(humanized)\"] = \"Saturday\"\n",
    "train.loc[train[\"datetime-dayofweek\"] == 6, \"datetime-dayofweek(humanized)\"] = \"Sunday\"\n",
    "\n",
    "# train 변수에 할당된 데이터의 행렬 사이즈를 출력합니다.\n",
    "# 출력은 (row, column) 으로 표시됩니다.\n",
    "print(train.shape)\n",
    "\n",
    "# .head()로 train 데이터의 상위 5개를 띄우되,\n",
    "# datetime과 datetime-dayofweek, 그리고 datetime-dayofweek(humanized) 컬럼만을 출력합니다.\n",
    "train[[\"datetime\", \"datetime-dayofweek\", \"datetime-dayofweek(humanized)\"]].head()"
   ]
  },
  {
   "cell_type": "code",
   "execution_count": 12,
   "metadata": {},
   "outputs": [
    {
     "name": "stdout",
     "output_type": "stream",
     "text": [
      "(6493, 16)\n"
     ]
    },
    {
     "data": {
      "text/html": [
       "<div>\n",
       "<style scoped>\n",
       "    .dataframe tbody tr th:only-of-type {\n",
       "        vertical-align: middle;\n",
       "    }\n",
       "\n",
       "    .dataframe tbody tr th {\n",
       "        vertical-align: top;\n",
       "    }\n",
       "\n",
       "    .dataframe thead th {\n",
       "        text-align: right;\n",
       "    }\n",
       "</style>\n",
       "<table border=\"1\" class=\"dataframe\">\n",
       "  <thead>\n",
       "    <tr style=\"text-align: right;\">\n",
       "      <th></th>\n",
       "      <th>datetime</th>\n",
       "      <th>datetime-year</th>\n",
       "      <th>datetime-month</th>\n",
       "      <th>datetime-day</th>\n",
       "      <th>datetime-hour</th>\n",
       "      <th>datetime-minute</th>\n",
       "      <th>datetime-second</th>\n",
       "      <th>datetime-dayofweek</th>\n",
       "    </tr>\n",
       "  </thead>\n",
       "  <tbody>\n",
       "    <tr>\n",
       "      <th>0</th>\n",
       "      <td>2011-01-20 00:00:00</td>\n",
       "      <td>2011</td>\n",
       "      <td>1</td>\n",
       "      <td>20</td>\n",
       "      <td>0</td>\n",
       "      <td>0</td>\n",
       "      <td>0</td>\n",
       "      <td>3</td>\n",
       "    </tr>\n",
       "    <tr>\n",
       "      <th>1</th>\n",
       "      <td>2011-01-20 01:00:00</td>\n",
       "      <td>2011</td>\n",
       "      <td>1</td>\n",
       "      <td>20</td>\n",
       "      <td>1</td>\n",
       "      <td>0</td>\n",
       "      <td>0</td>\n",
       "      <td>3</td>\n",
       "    </tr>\n",
       "    <tr>\n",
       "      <th>2</th>\n",
       "      <td>2011-01-20 02:00:00</td>\n",
       "      <td>2011</td>\n",
       "      <td>1</td>\n",
       "      <td>20</td>\n",
       "      <td>2</td>\n",
       "      <td>0</td>\n",
       "      <td>0</td>\n",
       "      <td>3</td>\n",
       "    </tr>\n",
       "    <tr>\n",
       "      <th>3</th>\n",
       "      <td>2011-01-20 03:00:00</td>\n",
       "      <td>2011</td>\n",
       "      <td>1</td>\n",
       "      <td>20</td>\n",
       "      <td>3</td>\n",
       "      <td>0</td>\n",
       "      <td>0</td>\n",
       "      <td>3</td>\n",
       "    </tr>\n",
       "    <tr>\n",
       "      <th>4</th>\n",
       "      <td>2011-01-20 04:00:00</td>\n",
       "      <td>2011</td>\n",
       "      <td>1</td>\n",
       "      <td>20</td>\n",
       "      <td>4</td>\n",
       "      <td>0</td>\n",
       "      <td>0</td>\n",
       "      <td>3</td>\n",
       "    </tr>\n",
       "  </tbody>\n",
       "</table>\n",
       "</div>"
      ],
      "text/plain": [
       "             datetime  datetime-year  datetime-month  datetime-day  \\\n",
       "0 2011-01-20 00:00:00           2011               1            20   \n",
       "1 2011-01-20 01:00:00           2011               1            20   \n",
       "2 2011-01-20 02:00:00           2011               1            20   \n",
       "3 2011-01-20 03:00:00           2011               1            20   \n",
       "4 2011-01-20 04:00:00           2011               1            20   \n",
       "\n",
       "   datetime-hour  datetime-minute  datetime-second  datetime-dayofweek  \n",
       "0              0                0                0                   3  \n",
       "1              1                0                0                   3  \n",
       "2              2                0                0                   3  \n",
       "3              3                0                0                   3  \n",
       "4              4                0                0                   3  "
      ]
     },
     "execution_count": 12,
     "metadata": {},
     "output_type": "execute_result"
    }
   ],
   "source": [
    "# test 데이터와 train 데이터와 동일하게 연, 월, 일, 시, 분, 초 컬럼을 생성합니다.\n",
    "test[\"datetime-year\"] = test[\"datetime\"].dt.year\n",
    "test[\"datetime-month\"] = test[\"datetime\"].dt.month\n",
    "test[\"datetime-day\"] = test[\"datetime\"].dt.day\n",
    "test[\"datetime-hour\"] = test[\"datetime\"].dt.hour\n",
    "test[\"datetime-minute\"] = test[\"datetime\"].dt.minute\n",
    "test[\"datetime-second\"] = test[\"datetime\"].dt.second\n",
    "\n",
    "# dayofweek 컬럼도 train 데이터와 동일하게 생성합니다.\n",
    "test[\"datetime-dayofweek\"] = test[\"datetime\"].dt.dayofweek\n",
    "\n",
    "# test 변수에 할당된 데이터의 행렬 사이즈를 출력합니다.\n",
    "# 출력은 (row, column) 으로 표시됩니다.\n",
    "print(test.shape)\n",
    "\n",
    "# .head()로 test 데이터의 상위 5개를 띄우되,\n",
    "# datetime과 이와 연관된 나머지 일곱 개의 컬럼만을 출력합니다.\n",
    "test[[\"datetime\", \"datetime-year\", \"datetime-month\", \"datetime-day\", \"datetime-hour\", \"datetime-minute\", \"datetime-second\", \"datetime-dayofweek\"]].head()"
   ]
  },
  {
   "cell_type": "code",
   "execution_count": 13,
   "metadata": {},
   "outputs": [
    {
     "name": "stdout",
     "output_type": "stream",
     "text": [
      "(6493, 17)\n"
     ]
    },
    {
     "data": {
      "text/html": [
       "<div>\n",
       "<style scoped>\n",
       "    .dataframe tbody tr th:only-of-type {\n",
       "        vertical-align: middle;\n",
       "    }\n",
       "\n",
       "    .dataframe tbody tr th {\n",
       "        vertical-align: top;\n",
       "    }\n",
       "\n",
       "    .dataframe thead th {\n",
       "        text-align: right;\n",
       "    }\n",
       "</style>\n",
       "<table border=\"1\" class=\"dataframe\">\n",
       "  <thead>\n",
       "    <tr style=\"text-align: right;\">\n",
       "      <th></th>\n",
       "      <th>datetime</th>\n",
       "      <th>datetime-dayofweek</th>\n",
       "      <th>datetime-dayofweek(humanized)</th>\n",
       "    </tr>\n",
       "  </thead>\n",
       "  <tbody>\n",
       "    <tr>\n",
       "      <th>0</th>\n",
       "      <td>2011-01-20 00:00:00</td>\n",
       "      <td>3</td>\n",
       "      <td>Thursday</td>\n",
       "    </tr>\n",
       "    <tr>\n",
       "      <th>1</th>\n",
       "      <td>2011-01-20 01:00:00</td>\n",
       "      <td>3</td>\n",
       "      <td>Thursday</td>\n",
       "    </tr>\n",
       "    <tr>\n",
       "      <th>2</th>\n",
       "      <td>2011-01-20 02:00:00</td>\n",
       "      <td>3</td>\n",
       "      <td>Thursday</td>\n",
       "    </tr>\n",
       "    <tr>\n",
       "      <th>3</th>\n",
       "      <td>2011-01-20 03:00:00</td>\n",
       "      <td>3</td>\n",
       "      <td>Thursday</td>\n",
       "    </tr>\n",
       "    <tr>\n",
       "      <th>4</th>\n",
       "      <td>2011-01-20 04:00:00</td>\n",
       "      <td>3</td>\n",
       "      <td>Thursday</td>\n",
       "    </tr>\n",
       "  </tbody>\n",
       "</table>\n",
       "</div>"
      ],
      "text/plain": [
       "             datetime  datetime-dayofweek datetime-dayofweek(humanized)\n",
       "0 2011-01-20 00:00:00                   3                      Thursday\n",
       "1 2011-01-20 01:00:00                   3                      Thursday\n",
       "2 2011-01-20 02:00:00                   3                      Thursday\n",
       "3 2011-01-20 03:00:00                   3                      Thursday\n",
       "4 2011-01-20 04:00:00                   3                      Thursday"
      ]
     },
     "execution_count": 13,
     "metadata": {},
     "output_type": "execute_result"
    }
   ],
   "source": [
    "# datetime-dayofweek를 사람이 이해하기 쉬운 표현으로 변경합니다. (Monday ~ Sunday)\n",
    "# 이를 datetime-dayofweek(humanized)라는 새로운 컬럼에 추가합니다.\n",
    "test.loc[test[\"datetime-dayofweek\"] == 0, \"datetime-dayofweek(humanized)\"] = \"Monday\"\n",
    "test.loc[test[\"datetime-dayofweek\"] == 1, \"datetime-dayofweek(humanized)\"] = \"Tuesday\"\n",
    "test.loc[test[\"datetime-dayofweek\"] == 2, \"datetime-dayofweek(humanized)\"] = \"Wednesday\"\n",
    "test.loc[test[\"datetime-dayofweek\"] == 3, \"datetime-dayofweek(humanized)\"] = \"Thursday\"\n",
    "test.loc[test[\"datetime-dayofweek\"] == 4, \"datetime-dayofweek(humanized)\"] = \"Friday\"\n",
    "test.loc[test[\"datetime-dayofweek\"] == 5, \"datetime-dayofweek(humanized)\"] = \"Saturday\"\n",
    "test.loc[test[\"datetime-dayofweek\"] == 6, \"datetime-dayofweek(humanized)\"] = \"Sunday\"\n",
    "\n",
    "# test 변수에 할당된 데이터의 행렬 사이즈를 출력합니다.\n",
    "# 출력은 (row, column) 으로 표시됩니다.\n",
    "print(test.shape)\n",
    "\n",
    "# .head()로 test 데이터의 상위 5개를 띄우되,\n",
    "# datetime과 datetime-dayofweek, 그리고 datetime-dayofweek(humanized) 컬럼만을 출력합니다.\n",
    "test[[\"datetime\", \"datetime-dayofweek\", \"datetime-dayofweek(humanized)\"]].head()"
   ]
  },
  {
   "cell_type": "markdown",
   "metadata": {},
   "source": [
    "## Explore\n",
    "\n",
    "전처리(Preprocesing)를 끝냈으면 그 다음에는 데이터를 분석해보겠습니다.\n",
    "\n",
    "주어진 데이터를 시각화나 분석 툴을 통해 다양한 관점에서 이해하는 과정을 탐험적 데이터 분석([Exploratory Data Analysis](https://en.wikipedia.org/wiki/Exploratory_data_analysis))이라고 합니다. 저번 타이타닉 문제와 마찬가지로, 이번에도 파이썬의 데이터 시각화 패키지인 ([matplotlib](https://matplotlib.org))와 [seaborn](https://seaborn.pydata.org/) 을 활용해서 분석해보겠습니다."
   ]
  },
  {
   "cell_type": "code",
   "execution_count": 14,
   "metadata": {},
   "outputs": [],
   "source": [
    "# matplotlib로 실행하는 모든 시각화를 자동으로 쥬피터 노트북에 띄웁니다.\n",
    "# seaborn 도 결국에는 matplotlib를 기반으로 동작하기 때문에, seaborn으로 실행하는 모든 시각화도 마찬가지로 쥬피터 노트북에 자동적으로 띄워집니다.\n",
    "%matplotlib inline\n",
    "\n",
    "# 데이터 시각화 패키지 seaborn을 로딩합니다. 앞으로는 줄여서 sns라고 사용할 것입니다.\n",
    "import seaborn as sns\n",
    "\n",
    "# 데이터 시각화 패키지 matplotlib를 로딩합니다. 앞으로는 줄여서 plt라고 사용할 것입니다.\n",
    "import matplotlib.pyplot as plt"
   ]
  },
  {
   "cell_type": "markdown",
   "metadata": {},
   "source": [
    "### datetime\n",
    "\n",
    "먼저 분석할 컬럼은 **날짜(datetime)** 컬럼입니다. 날짜 컬럼은 [Bike Sharing Demand](https://www.kaggle.com/c/bike-sharing-demand) 경진대회의 핵심 컬럼이라고 볼 수 있으며, 이번 경진대회에서 상위 성적을 올리고 싶다면 날짜 컬럼을 완벽하게 이해하는 것이 무엇보다도 중요합니다.\n",
    "\n",
    "먼저 연/월/일/시/분/초에 따른 자전거 대여량을 시각화 해보겠습니다."
   ]
  },
  {
   "cell_type": "code",
   "execution_count": 15,
   "metadata": {},
   "outputs": [
    {
     "data": {
      "text/plain": [
       "<matplotlib.axes._subplots.AxesSubplot at 0xd10e278>"
      ]
     },
     "execution_count": 15,
     "metadata": {},
     "output_type": "execute_result"
    },
    {
     "data": {
      "image/png": "[encoded data removed]",
      "text/plain": [
       "<matplotlib.figure.Figure at 0xcc4ae80>"
      ]
     },
     "metadata": {},
     "output_type": "display_data"
    }
   ],
   "source": [
    "# matplotlib의 subplots를 사용합니다. 이 함수는 여러 개의 시각화를 한 화면에 띄울 수 있도록 합니다.\n",
    "# 이번에는 2x3으로 총 6개의 시각화를 한 화면에 띄웁니다.\n",
    "figure, ((ax1, ax2, ax3), (ax4, ax5, ax6)) = plt.subplots(nrows=2, ncols=3)\n",
    "\n",
    "# 시각화의 전체 사이즈는 18x8로 설정합니다.\n",
    "figure.set_size_inches(18, 8)\n",
    "\n",
    "# seaborn의 barplot으로 subplots의 각 구역에\n",
    "# 연, 월, 일, 시, 분, 초 별 자전거 대여량을 출력합니다.\n",
    "sns.barplot(data=train, x=\"datetime-year\", y=\"count\", ax=ax1)\n",
    "sns.barplot(data=train, x=\"datetime-month\", y=\"count\", ax=ax2)\n",
    "sns.barplot(data=train, x=\"datetime-day\", y=\"count\", ax=ax3)\n",
    "sns.barplot(data=train, x=\"datetime-hour\", y=\"count\", ax=ax4)\n",
    "sns.barplot(data=train, x=\"datetime-minute\", y=\"count\", ax=ax5)\n",
    "sns.barplot(data=train, x=\"datetime-second\", y=\"count\", ax=ax6)"
   ]
  },
  {
   "cell_type": "markdown",
   "metadata": {},
   "source": [
    "위 그림에서 알 수 있는 내용은 다음과 같습니다.\n",
    "\n",
    "**datetime-year**\n",
    "  * 2011년도의 자전거 대여량보다 2012년도의 자전거 대여량이 더 높습니다. 이는 [Bike Sharing Demand](https://www.kaggle.com/c/bike-sharing-demand) 경진대회를 주최한 [Capital Bikeshare](https://www.capitalbikeshare.com/)사가 꾸준히 성장하고 있다고 간주할 수 있습니다.\n",
    "\n",
    "**datetime-month**\n",
    "  * 주로 여름(6~8월)에 자전거를 많이 빌리며, 겨울(12~2월)에는 자전거를 많이 빌리지 않습니다.\n",
    "  * 같은 겨울이라도 12월의 자전거 대여량이 1월의 자전거 대여량보다 두 배 가까이 높아 보입니다. 하지만 여기에는 숨겨진 비밀이 있는데, 다음에 나올 다른 시각화에서 자세히 살펴보겠습니다.\n",
    "  \n",
    "**datetime-day**\n",
    "  * x축을 자세히 보면 1일부터 19일까지밖에 없습니다. 20일은 어디에 있을까요? 바로 test 데이터에 있습니다. 이 시각화에서 알 수 있는 내용은, train 데이터와 test 데이터를 나누는 기준이 되는 컬럼이 바로 **datetime-day**라는 것입니다.\n",
    "  * 이런 경우 **datetime-day**를 feature로 집어넣으면 머신러닝 알고리즘이 과적합([overfitting](https://hyperdot.wordpress.com/2017/02/06/%EA%B3%BC%EC%A0%81%ED%95%A9overfitting/)) 되는 현상이 일어날 수 있습니다. **그러므로 train 데이터와 test 데이터를 나누는 기준이 되는 컬럼이 있으면, 이 컬럼은 feature로 사용하지 않는 것이 좋습니다.**\n",
    "\n",
    "**datetime-hour**\n",
    "  * 새벽 시간에는 사람들이 자전거를 빌리지 않으며, 오후 시간에 상대적으로 자전거를 많이 빌립니다.\n",
    "  * 특이하게도 두 부분에서 사람들이 자전거를 특별히 많이 빌리는 현상이 있습니다. 바로 출근 시간(7~9시)과 퇴근 시간(16시~19시) 입니다.\n",
    "  * 물론 출퇴근시간이 아닌 다른 시간대에 자전거를 빌리는 경우도 존재합니다. 이는 다음에 나올 다른 시각화에서 자세히 살펴보겠습니다.\n",
    "\n",
    "**datetime-minute** & **datetime-second**\n",
    "  * 이 두 컬럼은 x축이 모두 0으로 되어있습니다. 즉, **datetime-minute**과 **datetime-second**은 기록되고 있지 않다는 사실을 알 수 있습니다. 이 경우에는 feature로 넣어도 큰 의미가 없기 때문에 사용하지 않습니다.\n",
    "  \n",
    "  \n",
    "그러므로 이 시각화에서 알 수 있는 결론은, **전체 여섯개의 컬럼 중 datetime-year와 datetime-month, 그리고 datetime-hour만 사용하는 것이 가장 좋다는 사실을 깨달을 수 있습니다.**"
   ]
  },
  {
   "cell_type": "markdown",
   "metadata": {},
   "source": [
    "### datetime-year & datetime-month\n",
    "\n",
    "다음에는 연-월을 붙여서 시각화해보겠습니다.\n",
    "\n",
    "이전에는 연/월을 따로 시각화해서 출력하였지만, 이번에는 연-월을 붙여서 2011년 1월부터 2012년 12월까지 총 24개의 경우의 수를 x축으로 놓고 시각화해보고 싶습니다. 먼저 이를 시각화하기에 필요한 **datetime-year_month**라는 새로운 컬럼을 만들어 보겠습니다."
   ]
  },
  {
   "cell_type": "code",
   "execution_count": 16,
   "metadata": {},
   "outputs": [
    {
     "name": "stdout",
     "output_type": "stream",
     "text": [
      "(10886, 23)\n"
     ]
    },
    {
     "data": {
      "text/html": [
       "<div>\n",
       "<style scoped>\n",
       "    .dataframe tbody tr th:only-of-type {\n",
       "        vertical-align: middle;\n",
       "    }\n",
       "\n",
       "    .dataframe tbody tr th {\n",
       "        vertical-align: top;\n",
       "    }\n",
       "\n",
       "    .dataframe thead th {\n",
       "        text-align: right;\n",
       "    }\n",
       "</style>\n",
       "<table border=\"1\" class=\"dataframe\">\n",
       "  <thead>\n",
       "    <tr style=\"text-align: right;\">\n",
       "      <th></th>\n",
       "      <th>datetime</th>\n",
       "      <th>datetime-year_month</th>\n",
       "    </tr>\n",
       "  </thead>\n",
       "  <tbody>\n",
       "    <tr>\n",
       "      <th>0</th>\n",
       "      <td>2011-01-01 00:00:00</td>\n",
       "      <td>2011-1</td>\n",
       "    </tr>\n",
       "    <tr>\n",
       "      <th>1</th>\n",
       "      <td>2011-01-01 01:00:00</td>\n",
       "      <td>2011-1</td>\n",
       "    </tr>\n",
       "    <tr>\n",
       "      <th>2</th>\n",
       "      <td>2011-01-01 02:00:00</td>\n",
       "      <td>2011-1</td>\n",
       "    </tr>\n",
       "    <tr>\n",
       "      <th>3</th>\n",
       "      <td>2011-01-01 03:00:00</td>\n",
       "      <td>2011-1</td>\n",
       "    </tr>\n",
       "    <tr>\n",
       "      <th>4</th>\n",
       "      <td>2011-01-01 04:00:00</td>\n",
       "      <td>2011-1</td>\n",
       "    </tr>\n",
       "  </tbody>\n",
       "</table>\n",
       "</div>"
      ],
      "text/plain": [
       "             datetime datetime-year_month\n",
       "0 2011-01-01 00:00:00              2011-1\n",
       "1 2011-01-01 01:00:00              2011-1\n",
       "2 2011-01-01 02:00:00              2011-1\n",
       "3 2011-01-01 03:00:00              2011-1\n",
       "4 2011-01-01 04:00:00              2011-1"
      ]
     },
     "execution_count": 16,
     "metadata": {},
     "output_type": "execute_result"
    }
   ],
   "source": [
    "# datetime-year와 datetime-month의 형태를 변환합니다.\n",
    "# 이전까지는 정수형(int)였지만, pandas의 astype을 통해 문자열(str)로 변환합니다.\n",
    "# 이 결과를 datetime-year(str)와 datetime-month(str)라는 새로운 컬럼에 집어넣습니다.\n",
    "train[\"datetime-year(str)\"] = train[\"datetime-year\"].astype('str')\n",
    "train[\"datetime-month(str)\"] = train[\"datetime-month\"].astype('str')\n",
    "\n",
    "# datetime-year(str)와 datetime-month(str) 문자열 두 개를 붙여서 datetime-year_month라는 새로운 컬럼을 추가합니다.\n",
    "# 이 컬럼에는 2011-1부터 2012-12까지의 총 24의 경우의 수가 들어갑니다.\n",
    "train[\"datetime-year_month\"] = train[\"datetime-year(str)\"] + \"-\" + train[\"datetime-month(str)\"]\n",
    "\n",
    "# train 변수에 할당된 데이터의 행렬 사이즈를 출력합니다.\n",
    "# 출력은 (row, column) 으로 표시됩니다.\n",
    "print(train.shape)\n",
    "\n",
    "# .head() train 데이터의 상위 5개를 띄우되,\n",
    "# datetime과 datetime-year_month 두 개의 컬럼만 출력합니다.\n",
    "train[[\"datetime\", \"datetime-year_month\"]].head()"
   ]
  },
  {
   "cell_type": "code",
   "execution_count": 17,
   "metadata": {},
   "outputs": [
    {
     "data": {
      "text/plain": [
       "<matplotlib.axes._subplots.AxesSubplot at 0xd5a0780>"
      ]
     },
     "execution_count": 17,
     "metadata": {},
     "output_type": "execute_result"
    },
    {
     "data": {
      "image/png": "[encoded data removed]",
      "text/plain": [
       "<matplotlib.figure.Figure at 0xd43a860>"
      ]
     },
     "metadata": {},
     "output_type": "display_data"
    },
    {
     "data": {
      "image/png": "[encoded data removed]",
      "text/plain": [
       "<matplotlib.figure.Figure at 0xd4ce588>"
      ]
     },
     "metadata": {},
     "output_type": "display_data"
    }
   ],
   "source": [
    "# matplotlib의 subplots를 사용합니다. 이 함수는 여러 개의 시각화를 한 화면에 띄울 수 있도록 합니다.\n",
    "# 이번에는 1x2로 총 2개의 시각화를 한 화면에 띄웁니다.\n",
    "figure, (ax1, ax2) = plt.subplots(nrows=1, ncols=2)\n",
    "\n",
    "# 시각화의 전체 사이즈는 18x4로 설정합니다.\n",
    "figure.set_size_inches(18, 4)\n",
    "\n",
    "# seaborn의 barplot으로 subplots의 각 구역에\n",
    "# 연, 월별 자전거 대여량을 출력합니다.\n",
    "sns.barplot(data=train, x=\"datetime-year\", y=\"count\", ax=ax1)\n",
    "sns.barplot(data=train, x=\"datetime-month\", y=\"count\", ax=ax2)\n",
    "\n",
    "# 다시 한 번 matplotlib의 subplots를 사용합니다.\n",
    "# 이번에는 1x1로 1개의 시각화만을 출력합니다.\n",
    "figure, ax3 = plt.subplots(nrows=1, ncols=1)\n",
    "\n",
    "# 이 시각화의 전체 사이즈는 18x4로 설정합니다.\n",
    "figure.set_size_inches(18, 4)\n",
    "\n",
    "# 이번에는 seaborn의 barplot으로 연-월을 붙여서 자전거 대여량을 출력합니다.\n",
    "sns.barplot(data=train, x=\"datetime-year_month\", y=\"count\", ax=ax3)"
   ]
  },
  {
   "cell_type": "markdown",
   "metadata": {},
   "source": [
    "위 그림에서 알 수 있는 내용은 다음과 같습니다.\n",
    "\n",
    "  * [Capital Bikeshare](https://www.capitalbikeshare.com/)사의 자전거 대여량은 꾸준히 상승하고 있는 추세입니다.\n",
    "  * 우상단 시각화를 보자면, 12월의 자전거 대여량이 1월의 자전거 대여량보다 두 배 가까이 높습니다.\n",
    "  * 하지만 아래의 시각화를 보면, 2011년 12월의 자전거 대여량과 2012년 1월의 자전거 대여량이 큰 차이가 없다는 사실을 발견할 수 있습니다.\n",
    "  * 반면에 2011년 1월의 자전거 대여량과 2012년 12월의 자전거 대여량은 큰 차이가 나는 것을 알 수 있습니다.\n",
    "  \n",
    "즉, 12월이 1월에 비해 자전거 대여량이 두 배 가까이 높은 이유는, 1) [Capital Bikeshare](https://www.capitalbikeshare.com/)의 자전거 대여량이 꾸준히 상승하고 있는 추세이며, 2) 이 과정에서 시기상으로 12월이 1월부터 늦게 발생했기 때문입니다. 즉 **자전거를 대여하는 고객 입장에서 12월이라고 자전거를 더 많이 빌려야 할 이유는 없습니다.**\n",
    "\n",
    "이 점 역시 머신러닝 알고리즘이 과적합(overfitting)될 소지가 다분합니다. 이를 해결할 수 있는 다양한 방법이 있는데,\n",
    "\n",
    "  * **datetime-year_month**를 통채로 One Hot Encoding해서 feature로 사용한다.\n",
    "  * 자전거 대여량이 꾸준히 성장하는 추세에 맞춰서 count를 보정한다.\n",
    "  \n",
    "하지만 제 경험상, 가장 쉽과 빠르게 머신러닝 모델의 정확도를 늘리는 방법은 **datetime-month**를 feature로 사용하지 않는 것입니다. 그러므로 **연/월/일/시/분/초 여섯 개의 컬럼 중 연도(datetime-year)와 시간(datetime-hour), 이렇게 두 개의 컬럼만 사용하도록 하겠습니다.**"
   ]
  },
  {
   "cell_type": "markdown",
   "metadata": {},
   "source": [
    "### datetime-hour\n",
    "\n",
    "다음에는 **datetime-hour** 컬럼을 분석해보겠습니다.\n",
    "\n",
    "이번에는 **datetime-hour** 컬럼 외에도 두 개의 컬럼을 추가로 분석하겠습니다. 바로 근무일(workingday)와 요일(datetime-dayofweek)입니다.\n"
   ]
  },
  {
   "cell_type": "code",
   "execution_count": 18,
   "metadata": {},
   "outputs": [
    {
     "data": {
      "text/plain": [
       "<matplotlib.axes._subplots.AxesSubplot at 0xe17d588>"
      ]
     },
     "execution_count": 18,
     "metadata": {},
     "output_type": "execute_result"
    },
    {
     "data": {
      "image/png": "[encoded data removed]",
      "text/plain": [
       "<matplotlib.figure.Figure at 0xcbddd30>"
      ]
     },
     "metadata": {},
     "output_type": "display_data"
    }
   ],
   "source": [
    "# matplotlib의 subplots를 사용합니다. 이 함수는 여러 개의 시각화를 한 화면에 띄울 수 있도록 합니다.\n",
    "# 이번에는 3x1로 총 3개의 시각화를 한 화면에 띄웁니다.\n",
    "figure, (ax1, ax2, ax3) = plt.subplots(nrows=3, ncols=1)\n",
    "\n",
    "# 시각화의 전체 사이즈는 18x12로 설정합니다.\n",
    "figure.set_size_inches(18, 12)\n",
    "\n",
    "# seaborn의 pointplot으로 시각당 자전거 대여량을 시각화합니다.\n",
    "sns.pointplot(data=train, x=\"datetime-hour\", y=\"count\", ax=ax1)\n",
    "\n",
    "# 비슷하게 seaborn의 pointplot으로 시각당 자전거 대여량을 시각화합니다.\n",
    "# 하지만 이번에는 근무일(workingday)에 따른 차이를 보여줍니다.\n",
    "sns.pointplot(data=train, x=\"datetime-hour\", y=\"count\", hue=\"workingday\", ax=ax2)\n",
    "\n",
    "# 비슷하게 seaborn의 pointplot으로 시각당 자전거 대여량을 시각화합니다.\n",
    "# 하지만 이번에는 요일(datetime-dayofweek)에 따른 차이를 보여줍니다.\n",
    "sns.pointplot(data=train, x=\"datetime-hour\", y=\"count\", hue=\"datetime-dayofweek(humanized)\", ax=ax3)"
   ]
  },
  {
   "cell_type": "markdown",
   "metadata": {},
   "source": [
    "위 그림에서 알 수 있는 내용은 다음과 같습니다.\n",
    "\n",
    "  * 사람들은 기본적으로 출근 시간(7~9시)과 퇴근 시간(16~19시)에 자전거를 많이 빌립니다.\n",
    "  * 하지만 이는 근무일일 경우(workingday == 1)에만 한정된 이야기입니다. 근무일이 아닐 경우(workingday == 0), 사람들은 출/퇴근시간에 자전거를 빌리지 않고, 오후 시간(10 ~ 16시)에 자전거를 많이 빌리는 것을 확인할 수 있습니다.\n",
    "\n",
    "이번에는 **요일(datetime-dayofweek)**별 자전거 대여량을 살펴보겠습니다.\n",
    "\n",
    "  * 먼저 금요일을 살펴보면, 다른 주중(월~목)에 비해 퇴근 시간(17~19시)에 상대적으로 자전거를 덜 빌리는 사실을 알 수 있습니다. 이는 추측컨데 모종의 이유로 자전거를 탈 수 없거나(ex: 음주), 다른 교통수단(ex: 버스, 택시)을 대신 사용했다는 것을 알 수 있습니다.\n",
    "  * 반면 금요일은 주중임에도 불구하고 상대적으로 오후 시간(10~16시)의 자전거 대여량이 높은 것을 알 수 있습니다. 그 다음으로 높은 주중은 바로 월요일입니다. 즉, 금요일과 월요일은 주중임에도 불구하고 어느정도 주말의 속성을 가지고 있다는 사실을 알 수 있습니다.\n",
    "  * 이번에는 주말을 살펴보겠습니다. 일요일을 보자면, 토요일에 비해 상대적으로 자전거 대여량이 낮다는 사실을 알 수 있습니다. 이는 추측컨데 월요일의 피로도를 고려해서 토요일에 비해 대외 활동을 덜 가지는 것으로 생각할 수 있습니다.\n",
    "  \n",
    "이 분석을 통해 알 수 있는 사실은, 요일(datetime-dayofweek)을 머신러닝 알고리즘에 feature로 집어넣으면 근무일(workingday)만 집어넣는 것에 비해 더 좋은 성능을 낼 수 있다고 볼 수 있습니다. 그러므로 **요일(datetime-dayofweek)** 컬럼을 feature로 추가하겠습니다."
   ]
  },
  {
   "cell_type": "markdown",
   "metadata": {},
   "source": [
    "### count\n",
    "\n",
    "다음으로 분석할 컬럼은 **자전거 대여량(count)**입니다. 자전거 대여량(count)은 최종적으로 우리가 맞춰야 할 label이기 때문에, 다른 컬럼보다도 이 컬럼을 완벽하게 이해하는 것이 중요합니다. 먼저 seaborn의 [distplot](https://seaborn.pydata.org/generated/seaborn.distplot.html)으로 이 컬럼을 시각화 해보겠습니다."
   ]
  },
  {
   "cell_type": "code",
   "execution_count": 19,
   "metadata": {},
   "outputs": [
    {
     "data": {
      "text/plain": [
       "<matplotlib.axes._subplots.AxesSubplot at 0xd443d30>"
      ]
     },
     "execution_count": 19,
     "metadata": {},
     "output_type": "execute_result"
    },
    {
     "data": {
      "image/png": "[encoded data removed]",
      "text/plain": [
       "<matplotlib.figure.Figure at 0xd22be10>"
      ]
     },
     "metadata": {},
     "output_type": "display_data"
    }
   ],
   "source": [
    "# 자전거 대여량(count)의 분포를 시각화합니다.\n",
    "sns.distplot(train[\"count\"])"
   ]
  },
  {
   "cell_type": "markdown",
   "metadata": {},
   "source": [
    "위 그림에서 알 수 있는 내용은 다음과 같습니다.\n",
    "\n",
    "  * 자전거 대여량이 1 ~ 20대인 비중이 굉장히 높습니다.\n",
    "  * 반면에 자전거 대여량이 1,000대에 근접하는 경우도 있습니다. (977대)\n",
    "  \n",
    "위 두 개의 특성이 데이터를 왜곡되게(skewed) 만드는 것 같습니다. 이러한 경우 [log transformation](http://onlinestatbook.com/2/transformations/log.html)을 시도해 볼 만 합니다."
   ]
  },
  {
   "cell_type": "code",
   "execution_count": 20,
   "metadata": {},
   "outputs": [
    {
     "name": "stdout",
     "output_type": "stream",
     "text": [
      "(10886, 24)\n"
     ]
    },
    {
     "data": {
      "text/html": [
       "<div>\n",
       "<style scoped>\n",
       "    .dataframe tbody tr th:only-of-type {\n",
       "        vertical-align: middle;\n",
       "    }\n",
       "\n",
       "    .dataframe tbody tr th {\n",
       "        vertical-align: top;\n",
       "    }\n",
       "\n",
       "    .dataframe thead th {\n",
       "        text-align: right;\n",
       "    }\n",
       "</style>\n",
       "<table border=\"1\" class=\"dataframe\">\n",
       "  <thead>\n",
       "    <tr style=\"text-align: right;\">\n",
       "      <th></th>\n",
       "      <th>count</th>\n",
       "      <th>log_count</th>\n",
       "    </tr>\n",
       "  </thead>\n",
       "  <tbody>\n",
       "    <tr>\n",
       "      <th>0</th>\n",
       "      <td>16</td>\n",
       "      <td>2.833213</td>\n",
       "    </tr>\n",
       "    <tr>\n",
       "      <th>1</th>\n",
       "      <td>40</td>\n",
       "      <td>3.713572</td>\n",
       "    </tr>\n",
       "    <tr>\n",
       "      <th>2</th>\n",
       "      <td>32</td>\n",
       "      <td>3.496508</td>\n",
       "    </tr>\n",
       "    <tr>\n",
       "      <th>3</th>\n",
       "      <td>13</td>\n",
       "      <td>2.639057</td>\n",
       "    </tr>\n",
       "    <tr>\n",
       "      <th>4</th>\n",
       "      <td>1</td>\n",
       "      <td>0.693147</td>\n",
       "    </tr>\n",
       "  </tbody>\n",
       "</table>\n",
       "</div>"
      ],
      "text/plain": [
       "   count  log_count\n",
       "0     16   2.833213\n",
       "1     40   3.713572\n",
       "2     32   3.496508\n",
       "3     13   2.639057\n",
       "4      1   0.693147"
      ]
     },
     "execution_count": 20,
     "metadata": {},
     "output_type": "execute_result"
    }
   ],
   "source": [
    "# 자전거 대여량(count)에 +1을 한 후 log를 적용합니다.\n",
    "# 이를 log transformation이라고 합니다.\n",
    "train[\"log_count\"] = np.log(train[\"count\"] + 1)\n",
    "\n",
    "# train 변수에 할당된 데이터의 행렬 사이즈를 출력합니다.\n",
    "# 출력은 (row, column) 으로 표시됩니다.\n",
    "print(train.shape)\n",
    "\n",
    "# .head()로 train 데이터의 상위 5개를 띄우되,\n",
    "# count와 log_count 컬럼만 출력합니다.\n",
    "train[[\"count\", \"log_count\"]].head()"
   ]
  },
  {
   "cell_type": "code",
   "execution_count": 21,
   "metadata": {},
   "outputs": [
    {
     "data": {
      "text/plain": [
       "<matplotlib.axes._subplots.AxesSubplot at 0xe912630>"
      ]
     },
     "execution_count": 21,
     "metadata": {},
     "output_type": "execute_result"
    },
    {
     "data": {
      "image/png": "[encoded data removed]",
      "text/plain": [
       "<matplotlib.figure.Figure at 0xd443400>"
      ]
     },
     "metadata": {},
     "output_type": "display_data"
    }
   ],
   "source": [
    "# matplotlib의 subplots를 사용합니다. 이 함수는 여러 개의 시각화를 한 화면에 띄울 수 있도록 합니다.\n",
    "# 이번에는 1x2로 총 2개의 시각화를 한 화면에 띄웁니다.\n",
    "figure, (ax1, ax2) = plt.subplots(nrows=1, ncols=2)\n",
    "\n",
    "# 시각화의 전체 사이즈는 18x4로 설정합니다.\n",
    "figure.set_size_inches(18, 4)\n",
    "\n",
    "# 좌측에는 자전거 대여량(count)의 분포를 시각화합니다.\n",
    "sns.distplot(train[\"count\"], ax=ax1)\n",
    "\n",
    "# 우측에는 log transformation한 자전거 대여량(log_count)의 분포를 시각화합니다.\n",
    "sns.distplot(train[\"log_count\"], ax=ax2)"
   ]
  },
  {
   "cell_type": "markdown",
   "metadata": {},
   "source": [
    "비교 결과 좌측보다 우측이 훨씬 더 자연스럽습니다. (=[정규 분포](https://ko.wikipedia.org/wiki/%EC%A0%95%EA%B7%9C_%EB%B6%84%ED%8F%AC)에 가깝게 나옵니다.) 그 즉슨, **자전거 대여량(count)을 그대로 사용하는 것 보다, 이를 log transformation한 버전(log_count)을 사용하는게 더 좋은 정확도를 낼 수 있다고 가정할 수 있습니다.**\n",
    "\n",
    "다만 이 경우, 캐글에 제출하기 위해서는 log transformation한 버전을 원상복귀 시켜줘야 합니다. 이 경우에는 [exp](https://en.wikipedia.org/wiki/Exponential_function)를 사용합니다."
   ]
  },
  {
   "cell_type": "code",
   "execution_count": 22,
   "metadata": {},
   "outputs": [
    {
     "name": "stdout",
     "output_type": "stream",
     "text": [
      "(10886, 25)\n"
     ]
    },
    {
     "data": {
      "text/html": [
       "<div>\n",
       "<style scoped>\n",
       "    .dataframe tbody tr th:only-of-type {\n",
       "        vertical-align: middle;\n",
       "    }\n",
       "\n",
       "    .dataframe tbody tr th {\n",
       "        vertical-align: top;\n",
       "    }\n",
       "\n",
       "    .dataframe thead th {\n",
       "        text-align: right;\n",
       "    }\n",
       "</style>\n",
       "<table border=\"1\" class=\"dataframe\">\n",
       "  <thead>\n",
       "    <tr style=\"text-align: right;\">\n",
       "      <th></th>\n",
       "      <th>count</th>\n",
       "      <th>log_count</th>\n",
       "      <th>count(recover)</th>\n",
       "    </tr>\n",
       "  </thead>\n",
       "  <tbody>\n",
       "    <tr>\n",
       "      <th>0</th>\n",
       "      <td>16</td>\n",
       "      <td>2.833213</td>\n",
       "      <td>16.0</td>\n",
       "    </tr>\n",
       "    <tr>\n",
       "      <th>1</th>\n",
       "      <td>40</td>\n",
       "      <td>3.713572</td>\n",
       "      <td>40.0</td>\n",
       "    </tr>\n",
       "    <tr>\n",
       "      <th>2</th>\n",
       "      <td>32</td>\n",
       "      <td>3.496508</td>\n",
       "      <td>32.0</td>\n",
       "    </tr>\n",
       "    <tr>\n",
       "      <th>3</th>\n",
       "      <td>13</td>\n",
       "      <td>2.639057</td>\n",
       "      <td>13.0</td>\n",
       "    </tr>\n",
       "    <tr>\n",
       "      <th>4</th>\n",
       "      <td>1</td>\n",
       "      <td>0.693147</td>\n",
       "      <td>1.0</td>\n",
       "    </tr>\n",
       "  </tbody>\n",
       "</table>\n",
       "</div>"
      ],
      "text/plain": [
       "   count  log_count  count(recover)\n",
       "0     16   2.833213            16.0\n",
       "1     40   3.713572            40.0\n",
       "2     32   3.496508            32.0\n",
       "3     13   2.639057            13.0\n",
       "4      1   0.693147             1.0"
      ]
     },
     "execution_count": 22,
     "metadata": {},
     "output_type": "execute_result"
    }
   ],
   "source": [
    "# log transformation한 자전거 대여량(log_count)을 다시 exp로 원상복귀 합니다.\n",
    "# (=자연로그는 exp로 없애버릴 수 있기 때문입니다)\n",
    "# 이를 count(recover)라는 새로운 컬럼에 대입합니다.\n",
    "train[\"count(recover)\"] = np.exp(train[\"log_count\"]) - 1\n",
    "\n",
    "# train 변수에 할당된 데이터의 행렬 사이즈를 출력합니다.\n",
    "# 출력은 (row, column) 으로 표시됩니다.\n",
    "print(train.shape)\n",
    "\n",
    "# .head()로 train 데이터의 상위 5개를 띄우되,\n",
    "# count, log_count, 그리고 count(recover) 컬럼만 출력합니다.\n",
    "train[[\"count\", \"log_count\", \"count(recover)\"]].head()"
   ]
  },
  {
   "cell_type": "code",
   "execution_count": 23,
   "metadata": {},
   "outputs": [
    {
     "data": {
      "text/plain": [
       "<matplotlib.axes._subplots.AxesSubplot at 0xdfcdda0>"
      ]
     },
     "execution_count": 23,
     "metadata": {},
     "output_type": "execute_result"
    },
    {
     "data": {
      "image/png": "[encoded data removed]",
      "text/plain": [
       "<matplotlib.figure.Figure at 0xec763c8>"
      ]
     },
     "metadata": {},
     "output_type": "display_data"
    }
   ],
   "source": [
    "# matplotlib의 subplots를 사용합니다. 이 함수는 여러 개의 시각화를 한 화면에 띄울 수 있도록 합니다.\n",
    "# 이번에는 1x3로 총 3개의 시각화를 한 화면에 띄웁니다.\n",
    "figure, (ax1, ax2, ax3) = plt.subplots(nrows=1, ncols=3)\n",
    "\n",
    "# 시각화의 전체 사이즈는 18x4로 설정합니다.\n",
    "figure.set_size_inches(18, 4)\n",
    "\n",
    "# 좌측에는 자전거 대여량(count)의 분포를 시각화합니다.\n",
    "sns.distplot(train[\"count\"], ax=ax1)\n",
    "\n",
    "# 가운데에는 log transformation한 자전거 대여량(log_count)의 분포를 시각화합니다.\n",
    "sns.distplot(train[\"log_count\"], ax=ax2)\n",
    "\n",
    "# 우측에는 log transformation을 다시 원상복귀한 버전(count(recover))의 분포를 시각화합니다.\n",
    "sns.distplot(train[\"count(recover)\"], ax=ax3)"
   ]
  },
  {
   "cell_type": "markdown",
   "metadata": {},
   "source": [
    "## Train\n",
    "\n",
    "이제 분석을 통해 발견한 인사이트를 활용해보겠습니다.\n",
    "\n",
    "이전 경진대회와 마찬가지로, 이번에도 머신러닝 알고리즘을 사용하겠습니다. 이번에도 변함없이 [지도학습(Supervised Learning)](http://solarisailab.com/archives/1785) 알고리즘을 사용할 계획이기 때문에, 데이터를 Label(맞춰야 하는 정답)과 Feature(Label을 맞추는데 도움이 되는 값들)로 나눌 필요가 있습니다.\n",
    "\n",
    "이번 경진대회에서는 다음의 컬럼들을 Feature와 Label로 활용할 것입니다.\n",
    "\n",
    "  * **Feature**: 1) 계절(season), 2) 공휴일(holiday), 3) 근무일(workingday), 4) 날씨(weather), 5) 온도(temp), 6) 체감 온도(atemp), 7) 습도(humidity), 8) 풍속(weather), 9) 연도(datetime-year), 10) 시간(datetime-hour), 마지막으로 11) 요일(datetime-dayofweek) 입니다.\n",
    "  \n",
    "  * **Label**: log transformation한 자전거 대여량(log_count)을 사용합니다.\n",
    "  \n",
    "이를 통해 train 데이터와 test 데이터를 다음의 세 가지 형태의 값으로 나눌 것입니다.\n",
    "\n",
    "  * **X_train**: train 데이터의 feature 입니다. 줄여서 X_train이라고 부릅니다.\n",
    "  * **X_test**: test 데이터의 feature 입니다. 마찬가지로 줄여서 X_test라고 부릅니다.\n",
    "  * **y_train**: train 데이터의 label 입니다. 마찬가지로 줄여서 y_train이라고 부릅니다."
   ]
  },
  {
   "cell_type": "code",
   "execution_count": 24,
   "metadata": {},
   "outputs": [
    {
     "data": {
      "text/plain": [
       "['season',\n",
       " 'holiday',\n",
       " 'workingday',\n",
       " 'weather',\n",
       " 'temp',\n",
       " 'atemp',\n",
       " 'humidity',\n",
       " 'windspeed',\n",
       " 'datetime-year',\n",
       " 'datetime-hour',\n",
       " 'datetime-dayofweek']"
      ]
     },
     "execution_count": 24,
     "metadata": {},
     "output_type": "execute_result"
    }
   ],
   "source": [
    "# 총 11개의 컬럼을 feature를 지정합니다.\n",
    "# 이 11개의 컬럼명을 feature_names라는 이름의 파이썬 리스트(list)로 만들어 변수에 할당합니다.\n",
    "feature_names = [\"season\", \"holiday\", \"workingday\", \"weather\",\n",
    "                 \"temp\", \"atemp\", \"humidity\", \"windspeed\",\n",
    "                 \"datetime-year\", \"datetime-hour\", \"datetime-dayofweek\"]\n",
    "feature_names"
   ]
  },
  {
   "cell_type": "code",
   "execution_count": 25,
   "metadata": {},
   "outputs": [
    {
     "data": {
      "text/plain": [
       "'log_count'"
      ]
     },
     "execution_count": 25,
     "metadata": {},
     "output_type": "execute_result"
    }
   ],
   "source": [
    "# log transformation한 자전거 대여량(log_count)을 label로 지정합니다.\n",
    "label_name = \"log_count\"\n",
    "label_name"
   ]
  },
  {
   "cell_type": "code",
   "execution_count": 26,
   "metadata": {},
   "outputs": [
    {
     "name": "stdout",
     "output_type": "stream",
     "text": [
      "(10886, 11)\n"
     ]
    },
    {
     "data": {
      "text/html": [
       "<div>\n",
       "<style scoped>\n",
       "    .dataframe tbody tr th:only-of-type {\n",
       "        vertical-align: middle;\n",
       "    }\n",
       "\n",
       "    .dataframe tbody tr th {\n",
       "        vertical-align: top;\n",
       "    }\n",
       "\n",
       "    .dataframe thead th {\n",
       "        text-align: right;\n",
       "    }\n",
       "</style>\n",
       "<table border=\"1\" class=\"dataframe\">\n",
       "  <thead>\n",
       "    <tr style=\"text-align: right;\">\n",
       "      <th></th>\n",
       "      <th>season</th>\n",
       "      <th>holiday</th>\n",
       "      <th>workingday</th>\n",
       "      <th>weather</th>\n",
       "      <th>temp</th>\n",
       "      <th>atemp</th>\n",
       "      <th>humidity</th>\n",
       "      <th>windspeed</th>\n",
       "      <th>datetime-year</th>\n",
       "      <th>datetime-hour</th>\n",
       "      <th>datetime-dayofweek</th>\n",
       "    </tr>\n",
       "  </thead>\n",
       "  <tbody>\n",
       "    <tr>\n",
       "      <th>0</th>\n",
       "      <td>1</td>\n",
       "      <td>0</td>\n",
       "      <td>0</td>\n",
       "      <td>1</td>\n",
       "      <td>9.84</td>\n",
       "      <td>14.395</td>\n",
       "      <td>81</td>\n",
       "      <td>0.0</td>\n",
       "      <td>2011</td>\n",
       "      <td>0</td>\n",
       "      <td>5</td>\n",
       "    </tr>\n",
       "    <tr>\n",
       "      <th>1</th>\n",
       "      <td>1</td>\n",
       "      <td>0</td>\n",
       "      <td>0</td>\n",
       "      <td>1</td>\n",
       "      <td>9.02</td>\n",
       "      <td>13.635</td>\n",
       "      <td>80</td>\n",
       "      <td>0.0</td>\n",
       "      <td>2011</td>\n",
       "      <td>1</td>\n",
       "      <td>5</td>\n",
       "    </tr>\n",
       "    <tr>\n",
       "      <th>2</th>\n",
       "      <td>1</td>\n",
       "      <td>0</td>\n",
       "      <td>0</td>\n",
       "      <td>1</td>\n",
       "      <td>9.02</td>\n",
       "      <td>13.635</td>\n",
       "      <td>80</td>\n",
       "      <td>0.0</td>\n",
       "      <td>2011</td>\n",
       "      <td>2</td>\n",
       "      <td>5</td>\n",
       "    </tr>\n",
       "    <tr>\n",
       "      <th>3</th>\n",
       "      <td>1</td>\n",
       "      <td>0</td>\n",
       "      <td>0</td>\n",
       "      <td>1</td>\n",
       "      <td>9.84</td>\n",
       "      <td>14.395</td>\n",
       "      <td>75</td>\n",
       "      <td>0.0</td>\n",
       "      <td>2011</td>\n",
       "      <td>3</td>\n",
       "      <td>5</td>\n",
       "    </tr>\n",
       "    <tr>\n",
       "      <th>4</th>\n",
       "      <td>1</td>\n",
       "      <td>0</td>\n",
       "      <td>0</td>\n",
       "      <td>1</td>\n",
       "      <td>9.84</td>\n",
       "      <td>14.395</td>\n",
       "      <td>75</td>\n",
       "      <td>0.0</td>\n",
       "      <td>2011</td>\n",
       "      <td>4</td>\n",
       "      <td>5</td>\n",
       "    </tr>\n",
       "  </tbody>\n",
       "</table>\n",
       "</div>"
      ],
      "text/plain": [
       "   season  holiday  workingday  weather  temp   atemp  humidity  windspeed  \\\n",
       "0       1        0           0        1  9.84  14.395        81        0.0   \n",
       "1       1        0           0        1  9.02  13.635        80        0.0   \n",
       "2       1        0           0        1  9.02  13.635        80        0.0   \n",
       "3       1        0           0        1  9.84  14.395        75        0.0   \n",
       "4       1        0           0        1  9.84  14.395        75        0.0   \n",
       "\n",
       "   datetime-year  datetime-hour  datetime-dayofweek  \n",
       "0           2011              0                   5  \n",
       "1           2011              1                   5  \n",
       "2           2011              2                   5  \n",
       "3           2011              3                   5  \n",
       "4           2011              4                   5  "
      ]
     },
     "execution_count": 26,
     "metadata": {},
     "output_type": "execute_result"
    }
   ],
   "source": [
    "# feature_names를 활용해 train 데이터의 feature를 가져옵니다.\n",
    "# 이를 X_train이라는 이름의 변수에 할당합니다.\n",
    "X_train = train[feature_names]\n",
    "\n",
    "# X_train 변수에 할당된 데이터의 행렬 사이즈를 출력합니다.\n",
    "# 출력은 (row, column) 으로 표시됩니다.\n",
    "print(X_train.shape)\n",
    "\n",
    "# X_train 데이터의 상위 5개를 띄웁니다.\n",
    "X_train.head()"
   ]
  },
  {
   "cell_type": "code",
   "execution_count": 27,
   "metadata": {},
   "outputs": [
    {
     "name": "stdout",
     "output_type": "stream",
     "text": [
      "(6493, 11)\n"
     ]
    },
    {
     "data": {
      "text/html": [
       "<div>\n",
       "<style scoped>\n",
       "    .dataframe tbody tr th:only-of-type {\n",
       "        vertical-align: middle;\n",
       "    }\n",
       "\n",
       "    .dataframe tbody tr th {\n",
       "        vertical-align: top;\n",
       "    }\n",
       "\n",
       "    .dataframe thead th {\n",
       "        text-align: right;\n",
       "    }\n",
       "</style>\n",
       "<table border=\"1\" class=\"dataframe\">\n",
       "  <thead>\n",
       "    <tr style=\"text-align: right;\">\n",
       "      <th></th>\n",
       "      <th>season</th>\n",
       "      <th>holiday</th>\n",
       "      <th>workingday</th>\n",
       "      <th>weather</th>\n",
       "      <th>temp</th>\n",
       "      <th>atemp</th>\n",
       "      <th>humidity</th>\n",
       "      <th>windspeed</th>\n",
       "      <th>datetime-year</th>\n",
       "      <th>datetime-hour</th>\n",
       "      <th>datetime-dayofweek</th>\n",
       "    </tr>\n",
       "  </thead>\n",
       "  <tbody>\n",
       "    <tr>\n",
       "      <th>0</th>\n",
       "      <td>1</td>\n",
       "      <td>0</td>\n",
       "      <td>1</td>\n",
       "      <td>1</td>\n",
       "      <td>10.66</td>\n",
       "      <td>11.365</td>\n",
       "      <td>56</td>\n",
       "      <td>26.0027</td>\n",
       "      <td>2011</td>\n",
       "      <td>0</td>\n",
       "      <td>3</td>\n",
       "    </tr>\n",
       "    <tr>\n",
       "      <th>1</th>\n",
       "      <td>1</td>\n",
       "      <td>0</td>\n",
       "      <td>1</td>\n",
       "      <td>1</td>\n",
       "      <td>10.66</td>\n",
       "      <td>13.635</td>\n",
       "      <td>56</td>\n",
       "      <td>0.0000</td>\n",
       "      <td>2011</td>\n",
       "      <td>1</td>\n",
       "      <td>3</td>\n",
       "    </tr>\n",
       "    <tr>\n",
       "      <th>2</th>\n",
       "      <td>1</td>\n",
       "      <td>0</td>\n",
       "      <td>1</td>\n",
       "      <td>1</td>\n",
       "      <td>10.66</td>\n",
       "      <td>13.635</td>\n",
       "      <td>56</td>\n",
       "      <td>0.0000</td>\n",
       "      <td>2011</td>\n",
       "      <td>2</td>\n",
       "      <td>3</td>\n",
       "    </tr>\n",
       "    <tr>\n",
       "      <th>3</th>\n",
       "      <td>1</td>\n",
       "      <td>0</td>\n",
       "      <td>1</td>\n",
       "      <td>1</td>\n",
       "      <td>10.66</td>\n",
       "      <td>12.880</td>\n",
       "      <td>56</td>\n",
       "      <td>11.0014</td>\n",
       "      <td>2011</td>\n",
       "      <td>3</td>\n",
       "      <td>3</td>\n",
       "    </tr>\n",
       "    <tr>\n",
       "      <th>4</th>\n",
       "      <td>1</td>\n",
       "      <td>0</td>\n",
       "      <td>1</td>\n",
       "      <td>1</td>\n",
       "      <td>10.66</td>\n",
       "      <td>12.880</td>\n",
       "      <td>56</td>\n",
       "      <td>11.0014</td>\n",
       "      <td>2011</td>\n",
       "      <td>4</td>\n",
       "      <td>3</td>\n",
       "    </tr>\n",
       "  </tbody>\n",
       "</table>\n",
       "</div>"
      ],
      "text/plain": [
       "   season  holiday  workingday  weather   temp   atemp  humidity  windspeed  \\\n",
       "0       1        0           1        1  10.66  11.365        56    26.0027   \n",
       "1       1        0           1        1  10.66  13.635        56     0.0000   \n",
       "2       1        0           1        1  10.66  13.635        56     0.0000   \n",
       "3       1        0           1        1  10.66  12.880        56    11.0014   \n",
       "4       1        0           1        1  10.66  12.880        56    11.0014   \n",
       "\n",
       "   datetime-year  datetime-hour  datetime-dayofweek  \n",
       "0           2011              0                   3  \n",
       "1           2011              1                   3  \n",
       "2           2011              2                   3  \n",
       "3           2011              3                   3  \n",
       "4           2011              4                   3  "
      ]
     },
     "execution_count": 27,
     "metadata": {},
     "output_type": "execute_result"
    }
   ],
   "source": [
    "# feature_names를 활용해 test 데이터의 feature를 가져옵니다.\n",
    "# 이를 X_test라는 이름의 변수에 할당합니다.\n",
    "X_test = test[feature_names]\n",
    "\n",
    "# X_test 변수에 할당된 데이터의 행렬 사이즈를 출력합니다.\n",
    "# 출력은 (row, column) 으로 표시됩니다.\n",
    "print(X_test.shape)\n",
    "\n",
    "# X_test 데이터의 상위 5개를 띄웁니다.\n",
    "X_test.head()"
   ]
  },
  {
   "cell_type": "code",
   "execution_count": 28,
   "metadata": {},
   "outputs": [
    {
     "name": "stdout",
     "output_type": "stream",
     "text": [
      "(10886,)\n"
     ]
    },
    {
     "data": {
      "text/plain": [
       "0    2.833213\n",
       "1    3.713572\n",
       "2    3.496508\n",
       "3    2.639057\n",
       "4    0.693147\n",
       "Name: log_count, dtype: float64"
      ]
     },
     "execution_count": 28,
     "metadata": {},
     "output_type": "execute_result"
    }
   ],
   "source": [
    "# label_name을 활용해 train 데이터의 label을 가져옵니다.\n",
    "# 이를 y_train이라는 이름의 변수에 할당합니다.\n",
    "y_train = train[label_name]\n",
    "\n",
    "# y_train 변수에 할당된 데이터의 사이즈를 출력합니다.\n",
    "# 출력은 (row, column) 으로 표시되나, column이 없기 때문에 (row,) 형태로 표시될 것입니다.\n",
    "print(y_train.shape)\n",
    "\n",
    "# y_train 데이터의 상위 5개를 띄웁니다.\n",
    "y_train.head()"
   ]
  },
  {
   "cell_type": "markdown",
   "metadata": {},
   "source": [
    "### Evaluate\n",
    "\n",
    "머신러닝 모델을 학습시키기 전에, 측정 공식(Evaluation Metric)을 통해 학습한 모델의 성능이 얼마나 뛰어난지 정량적으로 측정해보겠습니다. 이번 [Bike Sharing Demand](https://www.kaggle.com/c/bike-sharing-demand) 경진대회에서 사용하는 측정 공식은 Root Mean Squared Logarithmic Error ([RMSLE](https://www.kaggle.com/c/bike-sharing-demand#evaluation)) 입니다.\n",
    "\n",
    "$$ \\sqrt{\\frac{1}{n} \\sum_{i=1}^n (\\log(p_i + 1) - \\log(a_i+1))^2 } $$\n",
    "\n",
    "이 공식은 정답($a_i$, actual)과 예측값($p_i$, predict)의 차이가 크면 클수록 **페널티를 덜 주는** 방식으로 동작합니다. (```log(count + 1)```이 그 역할을 합니다)\n",
    "\n",
    "다만 현재 이미 log transformation한 count(log_count)을 사용하고 있기 때문에, 이 공식을 그대로 사용할 경우 **사실상 ```log(count + 1)```를 두 번 하게 되는 셈이 됩니다.** 이를 방지하기 위해, 측정 공식에서 ```log(count + 1)```을 제거하도록 하겠습니다.\n",
    "\n",
    "$$ \\sqrt{\\frac{1}{n} \\sum_{i=1}^n (p_i - a_i)^2 } $$\n",
    "\n",
    "이 공식을 Root Mean Squared Error ([RMSE](https://en.wikipedia.org/wiki/Root-mean-square_deviation))라고 합니다. 파이썬과 [numpy](http://www.numpy.org/), [scikit-learn](http://scikit-learn.org/stable/)으로 **RMSE** 공식을 구현해보겠습니다."
   ]
  },
  {
   "cell_type": "code",
   "execution_count": 29,
   "metadata": {},
   "outputs": [
    {
     "data": {
      "text/plain": [
       "make_scorer(rmse)"
      ]
     },
     "execution_count": 29,
     "metadata": {},
     "output_type": "execute_result"
    }
   ],
   "source": [
    "# numpy라는 패키지를 불러옵니다.\n",
    "# 이 패키지는 선형대수(linear algebra) 패키지라고 불리는데,\n",
    "# 현재는 간단하게 '수학 연산을 편하게 해주는 패키지'라고 이해하시면 됩니다.\n",
    "import numpy as np\n",
    "\n",
    "# scikit-learn 패키지의 metrics 모듈에서 make_scorer라는 함수를 가지고 옵니다.\n",
    "# 이 함수는 파이썬을 구현한 측정 공식을 scikit-learn에서 사용할 수 있도록 변환해 줍니다.\n",
    "from sklearn.metrics import make_scorer\n",
    "\n",
    "# RMSE 공식을 구현한 함수를 생성합니다.\n",
    "# 이 함수는 예측값(predict)과 정답(actual)을 인자로 받습니다.\n",
    "def rmse(predict, actual):\n",
    "    # predict와 actual을 numpy array로 변환합니다.\n",
    "    # 이렇게 하면 수학 연산을 편하게 할 수 있습니다.\n",
    "    predict = np.array(predict)\n",
    "    actual = np.array(actual)\n",
    "\n",
    "    # 공식에 쓰여진대로 predict와 actual을 빼서 차이를 구합니다.\n",
    "    # 이 차이를 distance라는 이름의 새로운 변수에 할당합니다.\n",
    "    distance = predict - actual\n",
    "    \n",
    "    # 공식에 쓰여진대로 distance를 제곱합니다.\n",
    "    # 이 결과를 square_distance라는 이름의 새로운 변수에 할당합니다.\n",
    "    square_distance = distance ** 2\n",
    "    \n",
    "    # 공식에 쓰여진대로 square_distance의 평균을 구합니다.\n",
    "    # 이 결과를 mean_square_distance라는 이름의 새로운 변수에 할당합니다.\n",
    "    mean_square_distance = square_distance.mean()\n",
    "    \n",
    "    # 공식에 쓰여진대로 mean_square_distance에 루트(sqrt)를 씌웁니다.\n",
    "    # 이 결과를 score라는 이름의 새로운 변수에 할당합니다.\n",
    "    score = np.sqrt(mean_square_distance)\n",
    "    \n",
    "    # score 변수를 반환합니다.\n",
    "    return score\n",
    "\n",
    "# scikit-learn의 make_scorer를 활용하여\n",
    "# rmse 함수를 scikit-learn의 다른 함수에서 사용할 수 있도록 변환합니다.\n",
    "# 이 결과를 rmse_score라는 이름의 새로운 변수에 할당합니다.\n",
    "rmse_score = make_scorer(rmse)\n",
    "rmse_score"
   ]
  },
  {
   "cell_type": "markdown",
   "metadata": {},
   "source": [
    "## Hyperparameter Tuning\n",
    "\n",
    "이번에는 머신러닝 모델의 하이퍼패러미터를 튜닝해보겠습니다.\n",
    "\n",
    "머신러닝 모델에는 다양한 옵션이 있는데, 이 옵션을 통해 모델의 성능을 끌어올릴 수 있습니다. 이 옵션들을 전문용어로 하이퍼패러미터(Hyperparameter)라고 부릅니다. 만일 적절한 하이퍼패러미터를 찾아서 모델에 적용할 수 있다면 모델의 성능을 한 층 더 끌어올릴 수 있습니다. 이를 **하이퍼패러미터 튜닝(Hyperparamter Tuning)**이라고 합니다."
   ]
  },
  {
   "cell_type": "code",
   "execution_count": 30,
   "metadata": {},
   "outputs": [
    {
     "data": {
      "text/plain": [
       "RandomForestRegressor(bootstrap=True, criterion='mse', max_depth=None,\n",
       "           max_features='auto', max_leaf_nodes=None,\n",
       "           min_impurity_decrease=0.0, min_impurity_split=None,\n",
       "           min_samples_leaf=1, min_samples_split=2,\n",
       "           min_weight_fraction_leaf=0.0, n_estimators=10, n_jobs=1,\n",
       "           oob_score=False, random_state=None, verbose=0, warm_start=False)"
      ]
     },
     "execution_count": 30,
     "metadata": {},
     "output_type": "execute_result"
    }
   ],
   "source": [
    "# scikit-learn 패키지의 ensemble 모듈에 있는 RandomForestRegressor를 가지고 옵니다.\n",
    "from sklearn.ensemble import RandomForestRegressor\n",
    "\n",
    "# RandomForestRegressor를 생성합니다.\n",
    "# 생성한 모델을 출력하면 다양한 하이퍼패러미터(n_estimators, max_depth, etc)들이 있는 것을 확인할 수 있습니다.\n",
    "RandomForestRegressor()"
   ]
  },
  {
   "cell_type": "markdown",
   "metadata": {},
   "source": [
    "하이어패러미터를 튜닝하는 방법은 크게 두 가지가 있습니다. 첫 번째로 Grid Search라는 방식이고, 두 번째는 Coarse & Finer Search라는 방식입니다. 먼저 Grid Search부터 살펴보겠습니다."
   ]
  },
  {
   "cell_type": "markdown",
   "metadata": {},
   "source": [
    "### Case 1 - Grid Search\n",
    "\n",
    "Grid Search는 몇 개의 하이퍼패리미터 후보군을 정한 뒤 이를 계속 조합해가며 가장 좋은 하이퍼패리미터를 찾는 방식입니다. Cross Validation 점수가 가장 좋은 하이퍼패러미터를 가장 좋은 하이퍼패러미터라고 간주합니다. (자세한 사항은 [다음의 링크](http://scikit-learn.org/stable/modules/grid_search.html)를 참고 바랍니다)\n",
    "\n",
    "보통은 [scikit-learn](http://scikit-learn.org/)의 [GridSearchCV](http://scikit-learn.org/stable/modules/generated/sklearn.model_selection.GridSearchCV.html)를 사용합니다만, 이번에는 Grid Search를 더 자세히 이해하기 위해 이를 직접 구현해보겠습니다. \n"
   ]
  },
  {
   "cell_type": "code",
   "execution_count": 31,
   "metadata": {},
   "outputs": [
    {
     "name": "stdout",
     "output_type": "stream",
     "text": [
      "n_estimators = 300, max_depth = 10, max_features = 0.100000, Score = 0.69444\n",
      "n_estimators = 300, max_depth = 10, max_features = 0.300000, Score = 0.50294\n",
      "n_estimators = 300, max_depth = 10, max_features = 0.500000, Score = 0.42195\n",
      "n_estimators = 300, max_depth = 10, max_features = 0.700000, Score = 0.39184\n",
      "n_estimators = 300, max_depth = 10, max_features = 0.900000, Score = 0.37997\n",
      "n_estimators = 300, max_depth = 20, max_features = 0.100000, Score = 0.58596\n",
      "n_estimators = 300, max_depth = 20, max_features = 0.300000, Score = 0.42647\n",
      "n_estimators = 300, max_depth = 20, max_features = 0.500000, Score = 0.36706\n",
      "n_estimators = 300, max_depth = 20, max_features = 0.700000, Score = 0.35216\n",
      "n_estimators = 300, max_depth = 20, max_features = 0.900000, Score = 0.34927\n",
      "n_estimators = 300, max_depth = 30, max_features = 0.100000, Score = 0.58252\n",
      "n_estimators = 300, max_depth = 30, max_features = 0.300000, Score = 0.42589\n",
      "n_estimators = 300, max_depth = 30, max_features = 0.500000, Score = 0.36729\n",
      "n_estimators = 300, max_depth = 30, max_features = 0.700000, Score = 0.35187\n",
      "n_estimators = 300, max_depth = 30, max_features = 0.900000, Score = 0.34981\n",
      "n_estimators = 300, max_depth = 40, max_features = 0.100000, Score = 0.58331\n",
      "n_estimators = 300, max_depth = 40, max_features = 0.300000, Score = 0.42574\n",
      "n_estimators = 300, max_depth = 40, max_features = 0.500000, Score = 0.36723\n",
      "n_estimators = 300, max_depth = 40, max_features = 0.700000, Score = 0.35183\n",
      "n_estimators = 300, max_depth = 40, max_features = 0.900000, Score = 0.34972\n",
      "n_estimators = 300, max_depth = 50, max_features = 0.100000, Score = 0.58331\n",
      "n_estimators = 300, max_depth = 50, max_features = 0.300000, Score = 0.42574\n",
      "n_estimators = 300, max_depth = 50, max_features = 0.500000, Score = 0.36723\n",
      "n_estimators = 300, max_depth = 50, max_features = 0.700000, Score = 0.35183\n",
      "n_estimators = 300, max_depth = 50, max_features = 0.900000, Score = 0.34972\n",
      "n_estimators = 300, max_depth = 60, max_features = 0.100000, Score = 0.58331\n",
      "n_estimators = 300, max_depth = 60, max_features = 0.300000, Score = 0.42574\n",
      "n_estimators = 300, max_depth = 60, max_features = 0.500000, Score = 0.36723\n",
      "n_estimators = 300, max_depth = 60, max_features = 0.700000, Score = 0.35183\n",
      "n_estimators = 300, max_depth = 60, max_features = 0.900000, Score = 0.34972\n",
      "n_estimators = 300, max_depth = 70, max_features = 0.100000, Score = 0.58331\n",
      "n_estimators = 300, max_depth = 70, max_features = 0.300000, Score = 0.42574\n",
      "n_estimators = 300, max_depth = 70, max_features = 0.500000, Score = 0.36723\n",
      "n_estimators = 300, max_depth = 70, max_features = 0.700000, Score = 0.35183\n",
      "n_estimators = 300, max_depth = 70, max_features = 0.900000, Score = 0.34972\n",
      "n_estimators = 300, max_depth = 80, max_features = 0.100000, Score = 0.58331\n",
      "n_estimators = 300, max_depth = 80, max_features = 0.300000, Score = 0.42574\n",
      "n_estimators = 300, max_depth = 80, max_features = 0.500000, Score = 0.36723\n",
      "n_estimators = 300, max_depth = 80, max_features = 0.700000, Score = 0.35183\n",
      "n_estimators = 300, max_depth = 80, max_features = 0.900000, Score = 0.34972\n",
      "n_estimators = 300, max_depth = 90, max_features = 0.100000, Score = 0.58331\n",
      "n_estimators = 300, max_depth = 90, max_features = 0.300000, Score = 0.42574\n",
      "n_estimators = 300, max_depth = 90, max_features = 0.500000, Score = 0.36723\n",
      "n_estimators = 300, max_depth = 90, max_features = 0.700000, Score = 0.35183\n",
      "n_estimators = 300, max_depth = 90, max_features = 0.900000, Score = 0.34972\n",
      "(45, 4)\n"
     ]
    },
    {
     "data": {
      "text/html": [
       "<div>\n",
       "<style scoped>\n",
       "    .dataframe tbody tr th:only-of-type {\n",
       "        vertical-align: middle;\n",
       "    }\n",
       "\n",
       "    .dataframe tbody tr th {\n",
       "        vertical-align: top;\n",
       "    }\n",
       "\n",
       "    .dataframe thead th {\n",
       "        text-align: right;\n",
       "    }\n",
       "</style>\n",
       "<table border=\"1\" class=\"dataframe\">\n",
       "  <thead>\n",
       "    <tr style=\"text-align: right;\">\n",
       "      <th></th>\n",
       "      <th>max_depth</th>\n",
       "      <th>max_features</th>\n",
       "      <th>n_estimators</th>\n",
       "      <th>score</th>\n",
       "    </tr>\n",
       "  </thead>\n",
       "  <tbody>\n",
       "    <tr>\n",
       "      <th>9</th>\n",
       "      <td>20</td>\n",
       "      <td>0.9</td>\n",
       "      <td>300</td>\n",
       "      <td>0.34927</td>\n",
       "    </tr>\n",
       "    <tr>\n",
       "      <th>44</th>\n",
       "      <td>90</td>\n",
       "      <td>0.9</td>\n",
       "      <td>300</td>\n",
       "      <td>0.34972</td>\n",
       "    </tr>\n",
       "    <tr>\n",
       "      <th>39</th>\n",
       "      <td>80</td>\n",
       "      <td>0.9</td>\n",
       "      <td>300</td>\n",
       "      <td>0.34972</td>\n",
       "    </tr>\n",
       "    <tr>\n",
       "      <th>24</th>\n",
       "      <td>50</td>\n",
       "      <td>0.9</td>\n",
       "      <td>300</td>\n",
       "      <td>0.34972</td>\n",
       "    </tr>\n",
       "    <tr>\n",
       "      <th>34</th>\n",
       "      <td>70</td>\n",
       "      <td>0.9</td>\n",
       "      <td>300</td>\n",
       "      <td>0.34972</td>\n",
       "    </tr>\n",
       "  </tbody>\n",
       "</table>\n",
       "</div>"
      ],
      "text/plain": [
       "    max_depth  max_features  n_estimators    score\n",
       "9          20           0.9           300  0.34927\n",
       "44         90           0.9           300  0.34972\n",
       "39         80           0.9           300  0.34972\n",
       "24         50           0.9           300  0.34972\n",
       "34         70           0.9           300  0.34972"
      ]
     },
     "execution_count": 31,
     "metadata": {},
     "output_type": "execute_result"
    }
   ],
   "source": [
    "# scikit-learn 패키지의 ensemble 모듈에 있는 RandomForestRegressor를 가지고 옵니다.\n",
    "from sklearn.ensemble import RandomForestRegressor\n",
    "\n",
    "# scikit-learn 패키지의 model_selection 모듈에 있는 cross_val_score 함수를 가지고 옵니다.\n",
    "# 이 함수가 Cross Validation을 담당합니다.\n",
    "from sklearn.model_selection import cross_val_score\n",
    "\n",
    "# n_estimators는 트리의 갯수입니다.\n",
    "# 보통은 높을수록 좋지만, 그만큼 실행 속도가 오래 걸리기 때문에 이번에는 적당한 값을 주겠습니다. (300 개)\n",
    "# 나머지 하이퍼패리미터가 전부 튜닝되면, 그 다음에는 n_estimators를 최대한 높이 주면 됩니다. (ex: 3,000)\n",
    "n_estimators = 300\n",
    "\n",
    "# max_depth의 후보군을 지정합니다. 10 ~ 90 사이에서 10 단위로 지정하겠습니다.\n",
    "max_depth_list = [10, 20, 30, 40, 50, 60, 70, 80, 90]\n",
    "\n",
    "# max_features의 후보군을 지정합니다. 0.1 ~ 0.9 사이에서 0.2 단위로 지정하겠습니다.\n",
    "max_features_list = [0.1, 0.3, 0.5, 0.7, 0.9]\n",
    "\n",
    "# hyperparameter 탐색 결과를 리스트로 저장합니다.\n",
    "hyperparameters_list = []\n",
    "\n",
    "# 반복문으로 모든 max_depth의 후보군을 가져옵니다.\n",
    "for max_depth in max_depth_list:\n",
    "    # 반복문을 하나 더 집어넣어서, 모든 max_features의 후보군을 가져옵니다.\n",
    "    for max_features in max_features_list:\n",
    "        # Random Forest를 생성합니다. 옵션은 다음과 같습니다.\n",
    "        # 1) n_estimators. 트리의 갯수입니다.\n",
    "        # 2) max_depth. 트리의 깊이입니다. 지정한 숫자만큼 트리가 깊게 가지를 뻗습니다.\n",
    "        # 3) max_features. Feature Sampling입니다. 0.0 ~ 1.0 사이의 값을 넣으면, 트리를 생성할 때 전체 feature에서 지정한 비율만큼만 feature를 사용합니다.\n",
    "        # 4) n_jobs. 병렬처리 여부입니다. -1을 대입하면 컴퓨터에 존재하는 모든 코어(Core, ex: 듀얼코어, 쿼드코어)를 전부 활용합니다.\n",
    "        # 5) random_state. 랜덤포레스트의 결과가 랜덤하게 나오는 것을 고정하는 옵션입니다. 아무 숫자나 넣어주면 됩니다. (공학 용어에서 쓰이는 Seed Number와 동일한 개념입니다)\n",
    "        model = RandomForestRegressor(n_estimators=n_estimators,\n",
    "                                      max_depth=max_depth,\n",
    "                                      max_features=max_features,\n",
    "                                      n_jobs=-1,\n",
    "                                      random_state=37)\n",
    "\n",
    "        # cross_val_score를 실행합니다. 실행할 때는 다음의 옵션이 들어갑니다.\n",
    "        # 1) model. 점수를 측정할 머신러닝 모델(현재는 Random Forest)이 들어갑니다.\n",
    "        # 2) X_train. train 데이터의 feature 입니다.\n",
    "        # 3) y_train. train 데이터의 label 입니다.\n",
    "        # 4) cv. Cross Validation에서 데이터를 조각낼(split) 갯수입니다. 총 20조각을 내야하기 때문에 20을 대입합니다.\n",
    "        # 5) scoring. 점수를 측정할 공식입니다. 앞서 구현한 RMSE를 적용합니다.\n",
    "        # 마지막으로, 이 함수의 실행 결과의 평균(mean)을 구한 뒤 score라는 이름의 새로운 변수에 할당합니다.\n",
    "        score = cross_val_score(model, X_train, y_train, cv=20, scoring=rmse_score).mean()\n",
    "        \n",
    "        # hyperparameter 탐색 결과를 딕셔너리화 합니다.\n",
    "        hyperparameters = {\n",
    "            'score': score,\n",
    "            'n_estimators': n_estimators,\n",
    "            'max_depth': max_depth,\n",
    "            'max_features': max_features,\n",
    "        }\n",
    "\n",
    "        # hyperparameter 탐색 결과를 리스트에 저장합니다.\n",
    "        hyperparameters_list.append(hyperparameters)\n",
    "\n",
    "        # hyperparameter 탐색 결과를 출력합니다.\n",
    "        print(f\"n_estimators = {n_estimators}, max_depth = {max_depth:2}, max_features = {max_features:.6f}, Score = {score:.5f}\")\n",
    "\n",
    "# hyperparameters_list를 Pandas의 DataFrame으로 변환합니다.\n",
    "hyperparameters_list = pd.DataFrame.from_dict(hyperparameters_list)\n",
    "\n",
    "# 변환한 hyperparameters_list를 score가 낮은 순으로 정렬합니다.\n",
    "# (RMSE는 score가 낮을 수록 더 정확도가 높다고 가정합니다)\n",
    "hyperparameters_list = hyperparameters_list.sort_values(by=\"score\")\n",
    "\n",
    "# hyperparameters_list 변수에 할당된 데이터의 행렬 사이즈를 출력합니다.\n",
    "# 출력은 (row, column) 으로 표시됩니다.\n",
    "print(hyperparameters_list.shape)\n",
    "\n",
    "# hyperparameters_list의 상위 5개를 출력합니다.\n",
    "hyperparameters_list.head()"
   ]
  },
  {
   "cell_type": "markdown",
   "metadata": {},
   "source": [
    "### Case 2 - Coarse & Finer Search\n",
    "\n",
    "Grid Search는 굉장히 좋은 방식이지만 한 가지 큰 단점을 갖고 있습니다. 바로 **Grid Search로는 거의 대부분의 경우 가장 좋은 하이퍼패러미터를 찾을 수 없다는 사실**입니다.\n",
    "\n",
    "가령 [Bike Sharing Demand](https://www.kaggle.com/c/bike-sharing-demand) 문제에서 가장 적합한 max_depth가 83이라고 한다면, 위 Grid Search에서는 찾을 수 없습니다. 왜냐하면 위 코드에서 max_depth의 후보군을 다음과 같이 지정해놓았기 때문입니다.\n",
    "\n",
    "```\n",
    "# 이 후보군에는 max_depth가 83인 경우가 없습니다.\n",
    "max_depth_list = max_depth_list = [10, 20, 30, 40, 50, 60, 70, 80, 90]\n",
    "```\n",
    "\n",
    "그러므로 Grid Search로는 가장 좋은 하이퍼패러미터에 근접한 다른 하이퍼패러미터는 찾을 수 있지만, 가장 좋은 하이퍼패러미터를 찾는 것은 어렵습니다.\n",
    "\n",
    "그렇다면 어떻게 하면 가장 좋은 하이퍼패러미터를 찾을 수 있을까요? 답은 간단합니다. 이론상으로 존재 가능한 모든 하이퍼패러미터 범위에서 랜덤하게 찾아서 Cross Validation을 해보면 됩니다. 이 방식을 랜덤 서치(Random Search)라고 합니다.\n",
    "\n",
    "<img src=\"http://cs231n.github.io/assets/nn3/gridsearchbad.jpeg\" alt=\"Random Search for Hyper-Parameter Optimization\" style=\"width: 360px;\"/>\n",
    "\n",
    "<p style=\"text-align: center;\">\n",
    "  <small>\n",
    "    위 그림과 같이, Grid Search를 활용하면 가장 좋은 성능을 내는 하이퍼패러미터를 찾기 어렵습니다. 이런 경우는 Random Search를 사용합니다.\n",
    "  </small>\n",
    "</p>\n",
    "<p style=\"text-align: center;\">\n",
    "  <small>\n",
    "    (see <a href=\"http://www.jmlr.org/papers/volume13/bergstra12a/bergstra12a.pdf\">Random Search for Hyper-Parameter Optimization</a>)\n",
    "  </small>\n",
    "</p>\n",
    "\n",
    "하지만 랜덤 서치(Random Search)는 현실적으로 시간이 오래 걸리기 때문에, 랜덤 서치(Random Search)를 응용한 다른 하이퍼패러미터 튜닝 방식을 사용하겠습니다. 바로 **Coarse & Finer Search** 입니다.\n",
    "\n",
    "Coarse & Finer Search는 크게 1) Coarse Search와 2) Finer Search로 동작합니다\n",
    "\n",
    "먼저 **Coarse Search**에서는 Random Search를 하되, 이론상으로 존재 가능한 모든 하이퍼패러미터 범위를 집어넣습니다. 이렇게 Random Search를 하면 가장 좋은 하이퍼패러미터를 찾는 것은 어렵지만, **좋지 않은 하이퍼패러미터를 정렬해서 후순위로 놓을 수 있습니다.**\n",
    "\n",
    "이를 통해 좋지 않은 하이퍼패러미터를 버린 뒤 다시 한 번 Random Search를 하는 것을 **Finer Search**라고 합니다."
   ]
  },
  {
   "cell_type": "markdown",
   "metadata": {},
   "source": [
    "** Coarse Search **"
   ]
  },
  {
   "cell_type": "code",
   "execution_count": 32,
   "metadata": {},
   "outputs": [
    {
     "ename": "NameError",
     "evalue": "name 'rmsle_score' is not defined",
     "output_type": "error",
     "traceback": [
      "\u001b[1;31m---------------------------------------------------------------------------\u001b[0m",
      "\u001b[1;31mNameError\u001b[0m                                 Traceback (most recent call last)",
      "\u001b[1;32m<ipython-input-32-301b12137fd4>\u001b[0m in \u001b[0;36m<module>\u001b[1;34m()\u001b[0m\n\u001b[0;32m     44\u001b[0m     \u001b[1;31m# 5) scoring. 점수를 측정할 공식입니다. 앞서 구현한 RMSE를 적용합니다.\u001b[0m\u001b[1;33m\u001b[0m\u001b[1;33m\u001b[0m\u001b[0m\n\u001b[0;32m     45\u001b[0m     \u001b[1;31m# 마지막으로, 이 함수의 실행 결과의 평균(mean)을 구한 뒤 score라는 이름의 새로운 변수에 할당합니다.\u001b[0m\u001b[1;33m\u001b[0m\u001b[1;33m\u001b[0m\u001b[0m\n\u001b[1;32m---> 46\u001b[1;33m     \u001b[0mscore\u001b[0m \u001b[1;33m=\u001b[0m \u001b[0mcross_val_score\u001b[0m\u001b[1;33m(\u001b[0m\u001b[0mmodel\u001b[0m\u001b[1;33m,\u001b[0m \u001b[0mX_train\u001b[0m\u001b[1;33m,\u001b[0m \u001b[0my_train\u001b[0m\u001b[1;33m,\u001b[0m \u001b[0mcv\u001b[0m\u001b[1;33m=\u001b[0m\u001b[1;36m20\u001b[0m\u001b[1;33m,\u001b[0m \u001b[0mscoring\u001b[0m\u001b[1;33m=\u001b[0m\u001b[0mrmsle_score\u001b[0m\u001b[1;33m)\u001b[0m\u001b[1;33m.\u001b[0m\u001b[0mmean\u001b[0m\u001b[1;33m(\u001b[0m\u001b[1;33m)\u001b[0m\u001b[1;33m\u001b[0m\u001b[0m\n\u001b[0m\u001b[0;32m     47\u001b[0m \u001b[1;33m\u001b[0m\u001b[0m\n\u001b[0;32m     48\u001b[0m     \u001b[1;31m# hyperparameter 탐색 결과를 딕셔너리화 합니다.\u001b[0m\u001b[1;33m\u001b[0m\u001b[1;33m\u001b[0m\u001b[0m\n",
      "\u001b[1;31mNameError\u001b[0m: name 'rmsle_score' is not defined"
     ]
    }
   ],
   "source": [
    "# scikit-learn 패키지의 ensemble 모듈에 있는 RandomForestRegressor를 가지고 옵니다.\n",
    "from sklearn.ensemble import RandomForestRegressor\n",
    "\n",
    "# scikit-learn 패키지의 model_selection 모듈에 있는 cross_val_score 함수를 가지고 옵니다.\n",
    "from sklearn.model_selection import cross_val_score\n",
    "\n",
    "# n_estimators는 트리의 갯수입니다.\n",
    "# 보통은 높을수록 좋지만, 그만큼 실행 속도가 오래 걸리기 때문에 이번에는 적당한 값을 주겠습니다. (300 개)\n",
    "# 나머지 하이퍼패리미터가 전부 튜닝되면, 그 다음에는 n_estimators를 최대한 높이 주면 됩니다. (ex: 3,000 개)\n",
    "n_estimators = 300\n",
    "\n",
    "# 랜덤 서치를 반복할 횟수입니다.\n",
    "# 보통 100번을 반복합니다.\n",
    "num_epoch = 100\n",
    "\n",
    "# hyperparameter 탐색 결과를 리스트로 저장합니다.\n",
    "coarse_hyperparameters_list = []\n",
    "\n",
    "# num_epoch 횟수만큼 랜덤 서치를 반복합니다.\n",
    "for epoch in range(num_epoch):\n",
    "    # 2에서 100 사이의 정수형(int) 값을 랜덤하게 생성하여 max_depth 변수에 할당합니다.\n",
    "    max_depth = np.random.randint(low=2, high=100)\n",
    "\n",
    "    # 0.1에서 1.0 사이의 실수형(float) 값을 랜덤하게 생성하여  max_features 변수에 할당합니다.\n",
    "    max_features = np.random.uniform(low=0.1, high=1.0)\n",
    "\n",
    "    # Random Forest를 생성합니다. 옵션은 다음과 같습니다.\n",
    "    # 1) n_estimators. 트리의 갯수입니다.\n",
    "    # 2) max_depth. 트리의 깊이입니다. 지정한 숫자만큼 트리가 깊게 가지를 뻗습니다.\n",
    "    # 3) max_features. Feature Sampling입니다. 0.0 ~ 1.0 사이의 값을 넣으면, 트리를 생성할 때 전체 feature에서 지정한 비율만큼만 feature를 사용합니다.\n",
    "    # 4) n_jobs. 병렬처리 여부입니다. -1을 대입하면 컴퓨터에 존재하는 모든 코어(Core, ex: 듀얼코어, 쿼드코어)를 전부 활용합니다.\n",
    "    # 5) random_state. 랜덤포레스트의 결과가 랜덤하게 나오는 것을 고정하는 옵션입니다. 아무 숫자나 넣어주면 됩니다. (공학 용어에서 쓰이는 Seed Number와 동일한 개념입니다)\n",
    "    model = RandomForestRegressor(n_estimators=n_estimators,\n",
    "                                  max_depth=max_depth,\n",
    "                                  max_features=max_features,\n",
    "                                  n_jobs=-1,\n",
    "                                  random_state=37)\n",
    "\n",
    "    # cross_val_score를 실행합니다. 실행할 때는 다음의 옵션이 들어갑니다.\n",
    "    # 1) model. 점수를 측정할 머신러닝 모델(현재는 Random Forest)이 들어갑니다.\n",
    "    # 2) X_train. train 데이터의 feature 입니다.\n",
    "    # 3) y_train. train 데이터의 label 입니다.\n",
    "    # 4) cv. Cross Validation에서 데이터를 조각낼(split) 갯수입니다. 총 20조각을 내야하기 때문에 20을 대입합니다.\n",
    "    # 5) scoring. 점수를 측정할 공식입니다. 앞서 구현한 RMSE를 적용합니다.\n",
    "    # 마지막으로, 이 함수의 실행 결과의 평균(mean)을 구한 뒤 score라는 이름의 새로운 변수에 할당합니다.\n",
    "    score = cross_val_score(model, X_train, y_train, cv=20, scoring=rmse_score).mean()\n",
    "    \n",
    "    # hyperparameter 탐색 결과를 딕셔너리화 합니다.\n",
    "    hyperparameters = {\n",
    "        'epoch': epoch,\n",
    "        'score': score,\n",
    "        'n_estimators': n_estimators,\n",
    "        'max_depth': max_depth,\n",
    "        'max_features': max_features,\n",
    "    }\n",
    "\n",
    "    # hyperparameter 탐색 결과를 리스트에 저장합니다.\n",
    "    coarse_hyperparameters_list.append(hyperparameters)\n",
    "\n",
    "    # hyperparameter 탐색 결과를 출력합니다.\n",
    "    print(f\"{epoch:2} n_estimators = {n_estimators}, max_depth = {max_depth:2}, max_features = {max_features:.6f}, Score = {score:.5f}\")\n",
    "\n",
    "# coarse_hyperparameters_list를 Pandas의 DataFrame으로 변환합니다.\n",
    "coarse_hyperparameters_list = pd.DataFrame.from_dict(coarse_hyperparameters_list)\n",
    "\n",
    "# 변환한 coarse_hyperparameters_list를 score가 낮은 순으로 정렬합니다.\n",
    "# (RMSE는 score가 낮을 수록 더 정확도가 높다고 가정합니다)\n",
    "coarse_hyperparameters_list = coarse_hyperparameters_list.sort_values(by=\"score\")\n",
    "\n",
    "# coarse_hyperparameters_list 변수에 할당된 데이터의 행렬 사이즈를 출력합니다.\n",
    "# 출력은 (row, column) 으로 표시됩니다.\n",
    "print(coarse_hyperparameters_list.shape)\n",
    "\n",
    "# coarse_hyperparameters_list의 상위 10개를 출력합니다.\n",
    "coarse_hyperparameters_list.head(10)"
   ]
  },
  {
   "cell_type": "markdown",
   "metadata": {},
   "source": [
    "Coarse Search가 끝났으면, 상위 5 ~ 10개의 결과만 출력한 뒤 이 결과를 낸 하이퍼패러미터 범위만 남겨놓고 다시 한 번 Random Search를 합니다. 이를 Finer Search라고 합니다.\n",
    "\n",
    "가령 위 Coarse Search를 통해, 다음의 하이퍼패러미터가 상위 5 ~ 10개 안에 들었다고 가정하겠습니다.\n",
    "\n",
    "  * max_depth = 40개 ~ 100개\n",
    "  * max_features = 0.6 ~ 1.0\n",
    "  \n",
    "이제 위 코드를 그대로 사용하되, 다음의 부분만 수정한 뒤 다시 한 번 Random Search를 하겠습니다.\n",
    "\n",
    "```\n",
    "# 40에서 100 사이의 정수형(int) 값을 랜덤하게 생성하여 max_depth 변수에 할당합니다.\n",
    "max_depth = np.random.randint(low=40, high=100)\n",
    "\n",
    "# 0.6에서 1.0 사이의 실수형(float) 값을 랜덤하게 생성하여  max_features 변수에 할당합니다.\n",
    "max_features = np.random.uniform(low=0.6, high=1.0) \n",
    "```"
   ]
  },
  {
   "cell_type": "markdown",
   "metadata": {},
   "source": [
    "** Finer Search **"
   ]
  },
  {
   "cell_type": "code",
   "execution_count": null,
   "metadata": {},
   "outputs": [
    {
     "name": "stdout",
     "output_type": "stream",
     "text": [
      " 0 n_estimators = 300, max_depth = 64, max_features = 0.681963, Score = 0.35183\n",
      " 1 n_estimators = 300, max_depth = 53, max_features = 0.877297, Score = 0.34972\n",
      " 2 n_estimators = 300, max_depth = 76, max_features = 0.656395, Score = 0.35183\n",
      " 3 n_estimators = 300, max_depth = 66, max_features = 0.889334, Score = 0.34972\n",
      " 4 n_estimators = 300, max_depth = 78, max_features = 0.642688, Score = 0.35183\n",
      " 5 n_estimators = 300, max_depth = 45, max_features = 0.748981, Score = 0.34991\n",
      " 6 n_estimators = 300, max_depth = 91, max_features = 0.702621, Score = 0.35183\n",
      " 7 n_estimators = 300, max_depth = 68, max_features = 0.770689, Score = 0.34991\n",
      " 8 n_estimators = 300, max_depth = 45, max_features = 0.836907, Score = 0.34972\n",
      " 9 n_estimators = 300, max_depth = 76, max_features = 0.868875, Score = 0.34972\n",
      "10 n_estimators = 300, max_depth = 44, max_features = 0.646155, Score = 0.35183\n",
      "11 n_estimators = 300, max_depth = 85, max_features = 0.709901, Score = 0.35183\n",
      "12 n_estimators = 300, max_depth = 52, max_features = 0.830225, Score = 0.34972\n",
      "13 n_estimators = 300, max_depth = 68, max_features = 0.867514, Score = 0.34972\n",
      "14 n_estimators = 300, max_depth = 83, max_features = 0.657275, Score = 0.35183\n",
      "15 n_estimators = 300, max_depth = 78, max_features = 0.963699, Score = 0.35063\n",
      "16 n_estimators = 300, max_depth = 40, max_features = 0.658810, Score = 0.35183\n",
      "17 n_estimators = 300, max_depth = 92, max_features = 0.682543, Score = 0.35183\n",
      "18 n_estimators = 300, max_depth = 57, max_features = 0.978955, Score = 0.35063\n",
      "19 n_estimators = 300, max_depth = 62, max_features = 0.934170, Score = 0.35063\n",
      "20 n_estimators = 300, max_depth = 63, max_features = 0.764045, Score = 0.34991\n",
      "21 n_estimators = 300, max_depth = 91, max_features = 0.773713, Score = 0.34991\n",
      "22 n_estimators = 300, max_depth = 58, max_features = 0.602538, Score = 0.35736\n",
      "23 n_estimators = 300, max_depth = 71, max_features = 0.666123, Score = 0.35183\n",
      "24 n_estimators = 300, max_depth = 90, max_features = 0.702740, Score = 0.35183\n",
      "25 n_estimators = 300, max_depth = 73, max_features = 0.613956, Score = 0.35736\n",
      "26 n_estimators = 300, max_depth = 54, max_features = 0.683182, Score = 0.35183\n",
      "27 n_estimators = 300, max_depth = 86, max_features = 0.662378, Score = 0.35183\n",
      "28 n_estimators = 300, max_depth = 92, max_features = 0.636843, Score = 0.35183\n",
      "29 n_estimators = 300, max_depth = 56, max_features = 0.970734, Score = 0.35063\n",
      "30 n_estimators = 300, max_depth = 50, max_features = 0.992597, Score = 0.35063\n",
      "31 n_estimators = 300, max_depth = 45, max_features = 0.746607, Score = 0.34991\n",
      "32 n_estimators = 300, max_depth = 97, max_features = 0.609059, Score = 0.35736\n",
      "33 n_estimators = 300, max_depth = 93, max_features = 0.970932, Score = 0.35063\n",
      "34 n_estimators = 300, max_depth = 43, max_features = 0.954940, Score = 0.35063\n",
      "35 n_estimators = 300, max_depth = 90, max_features = 0.618078, Score = 0.35736\n",
      "36 n_estimators = 300, max_depth = 89, max_features = 0.834806, Score = 0.34972\n",
      "37 n_estimators = 300, max_depth = 55, max_features = 0.749262, Score = 0.34991\n",
      "38 n_estimators = 300, max_depth = 44, max_features = 0.811648, Score = 0.34991\n",
      "39 n_estimators = 300, max_depth = 97, max_features = 0.926369, Score = 0.35063\n",
      "40 n_estimators = 300, max_depth = 49, max_features = 0.821367, Score = 0.34972\n",
      "41 n_estimators = 300, max_depth = 90, max_features = 0.937421, Score = 0.35063\n",
      "42 n_estimators = 300, max_depth = 93, max_features = 0.881951, Score = 0.34972\n",
      "43 n_estimators = 300, max_depth = 94, max_features = 0.756277, Score = 0.34991\n",
      "44 n_estimators = 300, max_depth = 95, max_features = 0.727534, Score = 0.34991\n",
      "45 n_estimators = 300, max_depth = 75, max_features = 0.630695, Score = 0.35736\n",
      "46 n_estimators = 300, max_depth = 87, max_features = 0.871380, Score = 0.34972\n",
      "47 n_estimators = 300, max_depth = 53, max_features = 0.653331, Score = 0.35183\n",
      "48 n_estimators = 300, max_depth = 67, max_features = 0.768310, Score = 0.34991\n",
      "49 n_estimators = 300, max_depth = 72, max_features = 0.997245, Score = 0.35063\n",
      "50 n_estimators = 300, max_depth = 66, max_features = 0.934081, Score = 0.35063\n",
      "51 n_estimators = 300, max_depth = 76, max_features = 0.667047, Score = 0.35183\n",
      "52 n_estimators = 300, max_depth = 93, max_features = 0.682987, Score = 0.35183\n",
      "53 n_estimators = 300, max_depth = 44, max_features = 0.717057, Score = 0.35183\n",
      "54 n_estimators = 300, max_depth = 40, max_features = 0.745096, Score = 0.34991\n",
      "55 n_estimators = 300, max_depth = 87, max_features = 0.648133, Score = 0.35183\n",
      "56 n_estimators = 300, max_depth = 59, max_features = 0.711756, Score = 0.35183\n",
      "57 n_estimators = 300, max_depth = 83, max_features = 0.737734, Score = 0.34991\n",
      "58 n_estimators = 300, max_depth = 81, max_features = 0.969285, Score = 0.35063\n",
      "59 n_estimators = 300, max_depth = 63, max_features = 0.609295, Score = 0.35736\n",
      "60 n_estimators = 300, max_depth = 70, max_features = 0.958887, Score = 0.35063\n",
      "61 n_estimators = 300, max_depth = 76, max_features = 0.922432, Score = 0.35063\n",
      "62 n_estimators = 300, max_depth = 84, max_features = 0.702711, Score = 0.35183\n",
      "63 n_estimators = 300, max_depth = 63, max_features = 0.633733, Score = 0.35736\n",
      "64 n_estimators = 300, max_depth = 47, max_features = 0.817966, Score = 0.34991\n",
      "65 n_estimators = 300, max_depth = 75, max_features = 0.794152, Score = 0.34991\n",
      "66 n_estimators = 300, max_depth = 46, max_features = 0.973553, Score = 0.35063\n",
      "67 n_estimators = 300, max_depth = 65, max_features = 0.805268, Score = 0.34991\n",
      "68 n_estimators = 300, max_depth = 45, max_features = 0.842031, Score = 0.34972\n",
      "69 n_estimators = 300, max_depth = 54, max_features = 0.839456, Score = 0.34972\n",
      "70 n_estimators = 300, max_depth = 72, max_features = 0.659427, Score = 0.35183\n",
      "71 n_estimators = 300, max_depth = 79, max_features = 0.792276, Score = 0.34991\n",
      "72 n_estimators = 300, max_depth = 88, max_features = 0.969579, Score = 0.35063\n",
      "73 n_estimators = 300, max_depth = 83, max_features = 0.810777, Score = 0.34991\n",
      "74 n_estimators = 300, max_depth = 79, max_features = 0.942355, Score = 0.35063\n",
      "75 n_estimators = 300, max_depth = 66, max_features = 0.625314, Score = 0.35736\n",
      "76 n_estimators = 300, max_depth = 60, max_features = 0.652085, Score = 0.35183\n",
      "77 n_estimators = 300, max_depth = 45, max_features = 0.863666, Score = 0.34972\n",
      "78 n_estimators = 300, max_depth = 60, max_features = 0.791504, Score = 0.34991\n",
      "79 n_estimators = 300, max_depth = 93, max_features = 0.996437, Score = 0.35063\n",
      "80 n_estimators = 300, max_depth = 83, max_features = 0.618476, Score = 0.35736\n",
      "81 n_estimators = 300, max_depth = 82, max_features = 0.804944, Score = 0.34991\n",
      "82 n_estimators = 300, max_depth = 66, max_features = 0.862779, Score = 0.34972\n",
      "83 n_estimators = 300, max_depth = 48, max_features = 0.784263, Score = 0.34991\n",
      "84 n_estimators = 300, max_depth = 99, max_features = 0.832118, Score = 0.34972\n",
      "85 n_estimators = 300, max_depth = 80, max_features = 0.668043, Score = 0.35183\n",
      "86 n_estimators = 300, max_depth = 74, max_features = 0.789142, Score = 0.34991\n",
      "87 n_estimators = 300, max_depth = 53, max_features = 0.973711, Score = 0.35063\n",
      "88 n_estimators = 300, max_depth = 68, max_features = 0.717982, Score = 0.35183\n",
      "89 n_estimators = 300, max_depth = 86, max_features = 0.999013, Score = 0.35063\n",
      "90 n_estimators = 300, max_depth = 66, max_features = 0.771664, Score = 0.34991\n",
      "91 n_estimators = 300, max_depth = 79, max_features = 0.965715, Score = 0.35063\n",
      "92 n_estimators = 300, max_depth = 63, max_features = 0.667853, Score = 0.35183\n",
      "93 n_estimators = 300, max_depth = 91, max_features = 0.830050, Score = 0.34972\n",
      "94 n_estimators = 300, max_depth = 81, max_features = 0.722217, Score = 0.35183\n",
      "95 n_estimators = 300, max_depth = 98, max_features = 0.710935, Score = 0.35183\n",
      "96 n_estimators = 300, max_depth = 76, max_features = 0.737342, Score = 0.34991\n",
      "97 n_estimators = 300, max_depth = 58, max_features = 0.713110, Score = 0.35183\n",
      "98 n_estimators = 300, max_depth = 43, max_features = 0.975139, Score = 0.35063\n"
     ]
    }
   ],
   "source": [
    "# scikit-learn 패키지의 ensemble 모듈에 있는 RandomForestRegressor를 가지고 옵니다.\n",
    "from sklearn.ensemble import RandomForestRegressor\n",
    "\n",
    "# scikit-learn 패키지의 model_selection 모듈에 있는 cross_val_score 함수를 가지고 옵니다.\n",
    "from sklearn.model_selection import cross_val_score\n",
    "\n",
    "# n_estimators는 트리의 갯수입니다.\n",
    "# 보통은 높을수록 좋지만, 그만큼 실행 속도가 오래 걸리기 때문에 이번에는 적당한 값을 주겠습니다. (300 개)\n",
    "# 나머지 하이퍼패리미터가 전부 튜닝되면, 그 다음에는 n_estimators를 최대한 높이 주면 됩니다. (ex: 3,000)\n",
    "n_estimators = 300\n",
    "\n",
    "# 랜덤 서치를 반복할 횟수입니다.\n",
    "# 보통 100번을 반복합니다.\n",
    "num_epoch = 100\n",
    "\n",
    "# hyperparameter 탐색 결과를 리스트로 저장합니다.\n",
    "finer_hyperparameters_list = []\n",
    "\n",
    "# num_epoch 횟수만큼 랜덤 서치를 반복합니다.\n",
    "for epoch in range(num_epoch):\n",
    "    # 40에서 100 사이의 정수형(int) 값을 랜덤하게 생성하여 max_depth 변수에 할당합니다.\n",
    "    max_depth = np.random.randint(low=40, high=100)\n",
    "\n",
    "    # 0.6에서 1.0 사이의 실수형(float) 값을 랜덤하게 생성하여  max_features 변수에 할당합니다.\n",
    "    max_features = np.random.uniform(low=0.6, high=1.0)\n",
    "\n",
    "    # Random Forest를 생성합니다. 옵션은 다음과 같습니다.\n",
    "    # 1) n_estimators. 트리의 갯수입니다.\n",
    "    # 2) max_depth. 트리의 깊이입니다. 지정한 숫자만큼 트리가 깊게 가지를 뻗습니다.\n",
    "    # 3) max_features. Feature Sampling입니다. 0.0 ~ 1.0 사이의 값을 넣으면, 트리를 생성할 때 전체 feature에서 지정한 비율만큼만 feature를 사용합니다.\n",
    "    # 4) n_jobs. 병렬처리 여부입니다. -1을 대입하면 컴퓨터에 존재하는 모든 코어(Core, ex: 듀얼코어, 쿼드코어)를 전부 활용합니다.\n",
    "    # 5) random_state. 랜덤포레스트의 결과가 랜덤하게 나오는 것을 고정하는 옵션입니다. 아무 숫자나 넣어주면 됩니다. (공학 용어에서 쓰이는 Seed Number와 동일한 개념입니다)\n",
    "    model = RandomForestRegressor(n_estimators=n_estimators,\n",
    "                                  max_depth=max_depth,\n",
    "                                  max_features=max_features,\n",
    "                                  n_jobs=-1,\n",
    "                                  random_state=37)\n",
    "\n",
    "    # cross_val_score를 실행합니다. 실행할 때는 다음의 옵션이 들어갑니다.\n",
    "    # 1) model. 점수를 측정할 머신러닝 모델(현재는 Random Forest)이 들어갑니다.\n",
    "    # 2) X_train. train 데이터의 feature 입니다.\n",
    "    # 3) y_train. train 데이터의 label 입니다.\n",
    "    # 4) cv. Cross Validation에서 데이터를 조각낼(split) 갯수입니다. 총 20조각을 내야하기 때문에 20을 대입합니다.\n",
    "    # 5) scoring. 점수를 측정할 공식입니다. 앞서 구현한 RMSE를 적용합니다.\n",
    "    # 마지막으로, 이 함수의 실행 결과의 평균(mean)을 구한 뒤 score라는 이름의 새로운 변수에 할당합니다.\n",
    "    score = cross_val_score(model, X_train, y_train, cv=20, scoring=rmse_score).mean()\n",
    "    \n",
    "    # hyperparameter 탐색 결과를 딕셔너리화 합니다.\n",
    "    hyperparameters = {\n",
    "        'epoch': epoch,\n",
    "        'score': score,\n",
    "        'n_estimators': n_estimators,\n",
    "        'max_depth': max_depth,\n",
    "        'max_features': max_features,\n",
    "    }\n",
    "\n",
    "    # hyperparameter 탐색 결과를 리스트에 저장합니다.\n",
    "    finer_hyperparameters_list.append(hyperparameters)\n",
    "\n",
    "    # hyperparameter 탐색 결과를 출력합니다.\n",
    "    print(f\"{epoch:2} n_estimators = {n_estimators}, max_depth = {max_depth:2}, max_features = {max_features:.6f}, Score = {score:.5f}\")\n",
    "\n",
    "# finer_hyperparameters_list를 Pandas의 DataFrame으로 변환합니다.\n",
    "finer_hyperparameters_list = pd.DataFrame.from_dict(finer_hyperparameters_list)\n",
    "\n",
    "# 변환한 finer_hyperparameters_list를 score가 낮은 순으로 정렬합니다.\n",
    "# (RMSE는 score가 낮을 수록 더 정확도가 높다고 가정합니다)\n",
    "finer_hyperparameters_list = finer_hyperparameters_list.sort_values(by=\"score\")\n",
    "\n",
    "# finer_hyperparameters_list 변수에 할당된 데이터의 행렬 사이즈를 출력합니다.\n",
    "# 출력은 (row, column) 으로 표시됩니다.\n",
    "print(finer_hyperparameters_list.shape)\n",
    "\n",
    "# finer_hyperparameters_list의 상위 10개를 출력합니다.\n",
    "finer_hyperparameters_list.head(10)"
   ]
  },
  {
   "cell_type": "markdown",
   "metadata": {},
   "source": [
    "탐색 결과 다음의 하이퍼패러미터가 가장 좋은 하이퍼패러미터라는 사실을 발견할 수 있습니다."
   ]
  },
  {
   "cell_type": "code",
   "execution_count": 28,
   "metadata": {},
   "outputs": [
    {
     "name": "stdout",
     "output_type": "stream",
     "text": [
      "max_depth(best) = 65.0, max_features(best) = 0.831814\n"
     ]
    }
   ],
   "source": [
    "# 가장 score가 낮게 나온(=좋은 정확도가 나온) 하이퍼패러미터를 가져옵니다.\n",
    "# 이를 best_hyperparameters라는 이름의 변수에 저장합니다.\n",
    "best_hyperparameters = finer_hyperparameters_list.iloc[0]\n",
    "\n",
    "# best_hyperparameters에서 max_depth 하이퍼패러미터만 가져옵니다.\n",
    "# 이를 best_max_depth라는 이름의 변수에 저장합니다.\n",
    "best_max_depth = best_hyperparameters[\"max_depth\"]\n",
    "\n",
    "# best_hyperparameters에서 max_features 하이퍼패러미터만 가져옵니다.\n",
    "# 이를 best_max_features라는 이름의 변수에 저장합니다.\n",
    "best_max_features = best_hyperparameters[\"max_features\"]\n",
    "\n",
    "# best_max_depth와 best_max_features를 출력합니다.\n",
    "print(f\"max_depth(best) = {best_max_depth}, max_features(best) = {best_max_features:.6f}\")"
   ]
  },
  {
   "cell_type": "markdown",
   "metadata": {},
   "source": [
    "## Use Random Forest\n",
    "\n",
    "Hyperparameter Tuning으로 만족스러운 하이퍼패러미터를 찾았다면, 이제 이 하이퍼패러미터를 활용하여 머신러닝 모델을 학습할 시간입니다.\n",
    "\n",
    "이번에 사용할 알고리즘은 랜덤 포레스트(Random Forest)입니다. 랜덤 포레스트는 의사결정나무(Decision Tree)의 업그레이드 버전이라고 볼 수 있는데, 대부분의 경우 의사결정나무보다 더 좋은 성능을 보장합니다. 알고리즘의 동작 원리는 다음과 같습니다.\n",
    "\n",
    "  1. 먼저 전체 데이터가 아니라, 데이터의 일부분을 랜덤하게 가져옵니다. 이를 랜덤 샘플링, 또는 베깅([bootstrap aggregating](https://en.wikipedia.org/wiki/Bootstrap_aggregating))이라고 합니다. 이렇게 랜덤 샘플링한 데이터로 의사결정나무(Decision Tree)를 하나 만듭니다.\n",
    "  2. 1번의 방식을 사용하면 이론적으로 무제한의 다양한 트리를 만들 수 있습니다. 이 트리를 지정한 갯수만큼 생성합니다.\n",
    "  3. 생성한 트리끼리 투표를 합니다. 가령 타이타닉 승객 데이터를 제공했을 때, 1,000개의 트리 중 700개가 생존/300개가 사망했다고 하면 해당 승객은 생존했다고 가정합니다. 정 반대로 400개가 생존/600개가 사망했다고 하면 해당 승객은 사망했다고 가정합니다.\n",
    "  \n",
    "이러한 방식을 거치면 의사결정나무(Decision Tree)보다 더 강력한 알고리즘을 구현할 수 있습니다. (자세한 설명은 [다음의 링크](http://swalloow.tistory.com/92)를 참고 바랍니다)\n",
    "\n",
    "이번에도 파이썬의 머신러닝 패키지인 [scikit-learn](scikit-learn.org)에서 랜덤 포레스트를 가져오겠습니다. scikit-learn에 있는 머신러닝 알고리즘에는 크게 두 가지 기능이 있습니다.\n",
    "\n",
    "  * **fit**: 머신러닝 알고리즘을 학습시킵니다. 전문용어로 fitting한다고 하기 때문에 fit이라는 표현을 사용합니다. fit을 하기 위해서는 train 데이터가 필요하며, 정확히는 train 데이터의 feature(X_train)와 label(y_train)이 필요합니다.\n",
    "  * **predict**: **fit**이 끝나면, 이후에 **predict**를 통해 예측을 할 수 있습니다. predict를 하기 위해서는 test 데이터가 필요하며, 정확히는 test 데이터의 feature(X_test)가 필요합니다."
   ]
  },
  {
   "cell_type": "code",
   "execution_count": 58,
   "metadata": {},
   "outputs": [
    {
     "data": {
      "text/plain": [
       "RandomForestRegressor(bootstrap=True, criterion='mse', max_depth=65.0,\n",
       "           max_features=0.8318143539866657, max_leaf_nodes=None,\n",
       "           min_impurity_decrease=0.0, min_impurity_split=None,\n",
       "           min_samples_leaf=1, min_samples_split=2,\n",
       "           min_weight_fraction_leaf=0.0, n_estimators=3000, n_jobs=-1,\n",
       "           oob_score=False, random_state=37, verbose=0, warm_start=False)"
      ]
     },
     "execution_count": 58,
     "metadata": {},
     "output_type": "execute_result"
    }
   ],
   "source": [
    "# scikit-learn 패키지의 ensemble 모듈에 있는 RandomForestRegressor를 가지고 옵니다.\n",
    "from sklearn.ensemble import RandomForestRegressor\n",
    "\n",
    "# 하이퍼패러미터 튜닝이 끝났으면, 이제 n_estimators를 가능한 높은 값을 주겠습니다.\n",
    "best_n_estimators = 3000\n",
    "\n",
    "# 주의: 혹시 하이퍼패러미터 튜닝을 하는데 시간이 너무 오래 걸린다면,\n",
    "# 이를 대신해서 다음의 하이퍼패러미터를 사용해주세요. (아래 두 줄의 주석을 풀면 됩니다)\n",
    "# best_max_depth = 83\n",
    "# best_max_features = 0.851358\n",
    "        \n",
    "# RandomForestRegressor를 생성합니다. 실행할 때는 다음의 옵션이 들어갑니다.\n",
    "# 1) n_estimators. 트리의 갯수입니다. 지정한 갯수만큼 트리를 생성합니다.\n",
    "# 2) max_depth. 트리의 깊이입니다. 지정한 숫자만큼 트리가 깊게 가지를 뻗습니다.\n",
    "# 3) max_features. Feature Sampling입니다. 0.0 ~ 1.0 사이의 값을 넣으면, 트리를 생성할 때 전체 feature에서 지정한 비율만큼만 feature를 사용합니다.\n",
    "# 4) n_jobs. 병렬처리 여부입니다. -1을 대입하면 컴퓨터에 존재하는 모든 코어(Core, ex: 듀얼코어, 쿼드코어)를 전부 활용합니다.\n",
    "# 5) random_state. 랜덤포레스트의 결과가 랜덤하게 나오는 것을 고정하는 옵션입니다. 아무 숫자나 넣어주면 됩니다. (공학 용어에서 쓰이는 Seed Number와 동일한 개념입니다)\n",
    "model = RandomForestRegressor(n_estimators=best_n_estimators,\n",
    "                              max_depth=best_max_depth,\n",
    "                              max_features=best_max_features,\n",
    "                              random_state=37,\n",
    "                              n_jobs=-1)\n",
    "model"
   ]
  },
  {
   "cell_type": "markdown",
   "metadata": {},
   "source": [
    "## Fit\n",
    "\n",
    "이제 앞서 설명한 랜덤 포레스트(Random Forest)를 학습시켜보겠습니다. 머신러닝 모델을 학습시킬때는 ```fit``` 함수를 사용합니다. 학습을 할 때는 1) train 데이터의 feature인 ```X_train```, 그리고 2) train 데이터의 label인 ```y_train```이 필요합니다."
   ]
  },
  {
   "cell_type": "code",
   "execution_count": 59,
   "metadata": {},
   "outputs": [
    {
     "data": {
      "text/plain": [
       "RandomForestRegressor(bootstrap=True, criterion='mse', max_depth=65.0,\n",
       "           max_features=0.8318143539866657, max_leaf_nodes=None,\n",
       "           min_impurity_decrease=0.0, min_impurity_split=None,\n",
       "           min_samples_leaf=1, min_samples_split=2,\n",
       "           min_weight_fraction_leaf=0.0, n_estimators=3000, n_jobs=-1,\n",
       "           oob_score=False, random_state=37, verbose=0, warm_start=False)"
      ]
     },
     "execution_count": 59,
     "metadata": {},
     "output_type": "execute_result"
    }
   ],
   "source": [
    "# RandomForestRegressor를 학습(fitting)합니다.\n",
    "# 학습에는 fit 이라는 기능을 사용하며, train 데이터의 feature(X_train)와 label(y_train)을 집어넣습니다.\n",
    "model.fit(X_train, y_train)"
   ]
  },
  {
   "cell_type": "markdown",
   "metadata": {},
   "source": [
    "## Predict\n",
    "\n",
    "Random Forest가 성공적으로 학습이 되었다면, 남은 것은 이 Random Forest를 활용해 test 데이터에 있는 자전거 대여량을  예측하는 것입니다. 예측은 ```model.predict```로 할 수 있으며, 이 때 test 데이터의 feature인 ```X_test```가 필요합니다."
   ]
  },
  {
   "cell_type": "code",
   "execution_count": 60,
   "metadata": {},
   "outputs": [
    {
     "name": "stdout",
     "output_type": "stream",
     "text": [
      "(6493,)\n"
     ]
    },
    {
     "data": {
      "text/plain": [
       "array([ 2.51350713,  1.73330699,  1.41848543, ...,  4.59957903,\n",
       "        4.58914414,  3.87335626])"
      ]
     },
     "execution_count": 60,
     "metadata": {},
     "output_type": "execute_result"
    }
   ],
   "source": [
    "# fit이 끝났으면, predict라는 기능을 사용하여 log transformation한 자전거 대여량(log_count)을 예측합니다.\n",
    "# log_predictions의 실행이 끝나면 test 데이터의 log transformation한 자전거 대여량(log_count)을 반환하며,\n",
    "# 이를 predictions라는 이름의 변수에 할당합니다.\n",
    "log_predictions = model.predict(X_test)\n",
    "\n",
    "# log_predictions 변수에 할당된 데이터의 사이즈를 출력합니다.\n",
    "# 출력은 (row, column) 으로 표시되나, column이 없기 때문에 (row,) 형태로 표시될 것입니다.\n",
    "print(log_predictions.shape)\n",
    "\n",
    "# log_predictions 변수를 출력합니다.\n",
    "log_predictions"
   ]
  },
  {
   "cell_type": "markdown",
   "metadata": {},
   "source": [
    "앞서 데이터를 분석할 때 설명한대로, **Random Forest에서 예측한 것은 자전거 대여량(count)이 아닌 log transformation한 자전거 대여량(log_count)입니다.** 이를 다시 자전거 대여량(count)으로 원상복구 하기 위해 [exp](https://en.wikipedia.org/wiki/Exponential_function)를 사용하겠습니다."
   ]
  },
  {
   "cell_type": "code",
   "execution_count": 61,
   "metadata": {},
   "outputs": [
    {
     "name": "stdout",
     "output_type": "stream",
     "text": [
      "(6493,)\n"
     ]
    },
    {
     "data": {
      "text/plain": [
       "array([ 11.34816083,   4.65933836,   3.13085924, ...,  98.44244437,\n",
       "        97.4101687 ,  47.1035637 ])"
      ]
     },
     "execution_count": 61,
     "metadata": {},
     "output_type": "execute_result"
    }
   ],
   "source": [
    "# log transformation한 자전거 대여량(log_count)을 다시 exp로 원상복귀 합니다.\n",
    "# (=자연로그는 exp로 없애버릴 수 있습니다)\n",
    "# 이를 predictions라는 새로운 변수에 할당합니다.\n",
    "predictions = np.exp(log_predictions) - 1\n",
    "\n",
    "# predictions 변수에 할당된 데이터의 사이즈를 출력합니다.\n",
    "# 출력은 (row, column) 으로 표시되나, column이 없기 때문에 (row,) 형태로 표시될 것입니다.\n",
    "print(predictions.shape)\n",
    "\n",
    "# predictions 변수를 출력합니다.\n",
    "predictions"
   ]
  },
  {
   "cell_type": "markdown",
   "metadata": {},
   "source": [
    "## Submit\n",
    "\n",
    "Random Forest의 fit과 predict 를 통해 우리는 test 데이터에 있는 자전거 대여량(count)을 예측하였습니다. 이제 우리에게 남은 건 이를 캐글([kaggle](http://kaggle.com/))이 권장하는 제출(submission) 포멧에 맞게 정리한 뒤 파일로 저장하는 것입니다.\n",
    "\n",
    "캐글의 [Bike Sharing Demand](https://www.kaggle.com/c/bike-sharing-demand) 경진대회에서는 **sampleSubmission.csv**라는 제출 포멧을 제공합니다. ([다운로드 링크](https://www.kaggle.com/c/bike-sharing-demand/data)) 우리는 우리가 예측한 값을 이 제출 포멧에 맞게 집어넣고 저장할 것입니다."
   ]
  },
  {
   "cell_type": "code",
   "execution_count": 62,
   "metadata": {},
   "outputs": [
    {
     "name": "stdout",
     "output_type": "stream",
     "text": [
      "(6493, 2)\n"
     ]
    },
    {
     "data": {
      "text/html": [
       "<div>\n",
       "<style>\n",
       "    .dataframe thead tr:only-child th {\n",
       "        text-align: right;\n",
       "    }\n",
       "\n",
       "    .dataframe thead th {\n",
       "        text-align: left;\n",
       "    }\n",
       "\n",
       "    .dataframe tbody tr th {\n",
       "        vertical-align: top;\n",
       "    }\n",
       "</style>\n",
       "<table border=\"1\" class=\"dataframe\">\n",
       "  <thead>\n",
       "    <tr style=\"text-align: right;\">\n",
       "      <th></th>\n",
       "      <th>datetime</th>\n",
       "      <th>count</th>\n",
       "    </tr>\n",
       "  </thead>\n",
       "  <tbody>\n",
       "    <tr>\n",
       "      <th>0</th>\n",
       "      <td>2011-01-20 00:00:00</td>\n",
       "      <td>0</td>\n",
       "    </tr>\n",
       "    <tr>\n",
       "      <th>1</th>\n",
       "      <td>2011-01-20 01:00:00</td>\n",
       "      <td>0</td>\n",
       "    </tr>\n",
       "    <tr>\n",
       "      <th>2</th>\n",
       "      <td>2011-01-20 02:00:00</td>\n",
       "      <td>0</td>\n",
       "    </tr>\n",
       "    <tr>\n",
       "      <th>3</th>\n",
       "      <td>2011-01-20 03:00:00</td>\n",
       "      <td>0</td>\n",
       "    </tr>\n",
       "    <tr>\n",
       "      <th>4</th>\n",
       "      <td>2011-01-20 04:00:00</td>\n",
       "      <td>0</td>\n",
       "    </tr>\n",
       "  </tbody>\n",
       "</table>\n",
       "</div>"
      ],
      "text/plain": [
       "              datetime  count\n",
       "0  2011-01-20 00:00:00      0\n",
       "1  2011-01-20 01:00:00      0\n",
       "2  2011-01-20 02:00:00      0\n",
       "3  2011-01-20 03:00:00      0\n",
       "4  2011-01-20 04:00:00      0"
      ]
     },
     "execution_count": 62,
     "metadata": {},
     "output_type": "execute_result"
    }
   ],
   "source": [
    "# 캐글이 제공하는 제출 포멧(sampleSubmission.csv)을 읽어옵니다.\n",
    "# 이를 submission 이라는 이름의 변수에 할당합니다.\n",
    "submission = pd.read_csv(\"data/bike/sampleSubmission.csv\")\n",
    "\n",
    "# submission 변수에 할당된 데이터의 행렬 사이즈를 출력합니다.\n",
    "# 출력은 (row, column) 으로 표시됩니다.\n",
    "print(submission.shape)\n",
    "\n",
    "# submission 데이터의 상위 5개를 띄웁니다.\n",
    "submission.head()"
   ]
  },
  {
   "cell_type": "code",
   "execution_count": 63,
   "metadata": {},
   "outputs": [
    {
     "name": "stdout",
     "output_type": "stream",
     "text": [
      "(6493, 2)\n"
     ]
    },
    {
     "data": {
      "text/html": [
       "<div>\n",
       "<style>\n",
       "    .dataframe thead tr:only-child th {\n",
       "        text-align: right;\n",
       "    }\n",
       "\n",
       "    .dataframe thead th {\n",
       "        text-align: left;\n",
       "    }\n",
       "\n",
       "    .dataframe tbody tr th {\n",
       "        vertical-align: top;\n",
       "    }\n",
       "</style>\n",
       "<table border=\"1\" class=\"dataframe\">\n",
       "  <thead>\n",
       "    <tr style=\"text-align: right;\">\n",
       "      <th></th>\n",
       "      <th>datetime</th>\n",
       "      <th>count</th>\n",
       "    </tr>\n",
       "  </thead>\n",
       "  <tbody>\n",
       "    <tr>\n",
       "      <th>0</th>\n",
       "      <td>2011-01-20 00:00:00</td>\n",
       "      <td>11.348161</td>\n",
       "    </tr>\n",
       "    <tr>\n",
       "      <th>1</th>\n",
       "      <td>2011-01-20 01:00:00</td>\n",
       "      <td>4.659338</td>\n",
       "    </tr>\n",
       "    <tr>\n",
       "      <th>2</th>\n",
       "      <td>2011-01-20 02:00:00</td>\n",
       "      <td>3.130859</td>\n",
       "    </tr>\n",
       "    <tr>\n",
       "      <th>3</th>\n",
       "      <td>2011-01-20 03:00:00</td>\n",
       "      <td>3.274112</td>\n",
       "    </tr>\n",
       "    <tr>\n",
       "      <th>4</th>\n",
       "      <td>2011-01-20 04:00:00</td>\n",
       "      <td>2.688771</td>\n",
       "    </tr>\n",
       "  </tbody>\n",
       "</table>\n",
       "</div>"
      ],
      "text/plain": [
       "              datetime      count\n",
       "0  2011-01-20 00:00:00  11.348161\n",
       "1  2011-01-20 01:00:00   4.659338\n",
       "2  2011-01-20 02:00:00   3.130859\n",
       "3  2011-01-20 03:00:00   3.274112\n",
       "4  2011-01-20 04:00:00   2.688771"
      ]
     },
     "execution_count": 63,
     "metadata": {},
     "output_type": "execute_result"
    }
   ],
   "source": [
    "# 제출 포멧(submission)의 자전거 대여량(count) 컬럼에 우리의 예측값(predictions)를 집어넣습니다.\n",
    "# 두 데이터 모두 길이가 6493개로 동일하기 때문에, 등호(=)를 통해 쉽게 예측값을 넣을 수 있습니다.\n",
    "submission[\"count\"] = predictions\n",
    "\n",
    "# submission 변수에 할당된 데이터의 행렬 사이즈를 출력합니다.\n",
    "# 출력은 (row, column) 으로 표시됩니다.\n",
    "print(submission.shape)\n",
    "\n",
    "# submission 데이터의 상위 5개를 띄웁니다.\n",
    "submission.head()"
   ]
  },
  {
   "cell_type": "code",
   "execution_count": 64,
   "metadata": {
    "collapsed": true
   },
   "outputs": [],
   "source": [
    "# 마지막으로 submission 변수에 들어간 값을 csv 형식의 데이터로 저장합니다.\n",
    "submission.to_csv(\"data/bike/random-forest_0.39138.csv\", index=False)"
   ]
  },
  {
   "cell_type": "markdown",
   "metadata": {},
   "source": [
    "이제 캐글의 [제출 페이지(Late Submission)](https://www.kaggle.com/c/bike-sharing-demand/submit)로 이동해 **random-forest_0.39138.csv** 파일을 제출하면 점수를 확인할 수 있습니다."
   ]
  },
  {
   "cell_type": "code",
   "execution_count": null,
   "metadata": {
    "collapsed": true
   },
   "outputs": [],
   "source": []
  }
 ],
 "metadata": {
  "kernelspec": {
   "display_name": "Python 3",
   "language": "python",
   "name": "python3"
  },
  "language_info": {
   "codemirror_mode": {
    "name": "ipython",
    "version": 3
   },
   "file_extension": ".py",
   "mimetype": "text/x-python",
   "name": "python",
   "nbconvert_exporter": "python",
   "pygments_lexer": "ipython3",
   "version": "3.6.4"
  }
 },
 "nbformat": 4,
 "nbformat_minor": 1
}
