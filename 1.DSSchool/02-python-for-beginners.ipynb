{
 "cells": [
  {
   "cell_type": "markdown",
   "metadata": {},
   "source": [
    "# 파이썬(Python) 튜토리얼\n",
    "\n",
    "파이썬은 프로그래밍을 처음 접하는 분들 입장에서는 가장 쉽게 배울 수 있는 프로그래밍 언어 중 하나입니다. 파이썬은 고레벨 프로그래밍 언어(High-Level Programming Language)이기 때문에, 일반인이 보유하고 있는 기초 상식과 직관에 가능한 일치하도록 구현되어 있습니다. 이번 노트북에서는 파이썬에서 필수적으로 알아둬야 할 몇몇 기능에 대해서 중점적으로 살펴보겠습니다."
   ]
  },
  {
   "cell_type": "markdown",
   "metadata": {},
   "source": [
    "### 사칙 연산\n",
    "\n",
    "먼저 알아둬야 할 것은 파이썬의 사칙 연산입니다. 앞서 말씀드린대로, 파이썬은 고레벨 프로그래밍 언어(High-Level Programming Language)이기 때문에 인간의 직관과 상식에 그대로 일치하도록 구현되어 있습니다. 그 의미는, 우리가 초등학교-중학교 수학 시간때 배웠던 수학 연산자를 그대로 사용하는 것 만으로도 프로그래밍 언어를 사용할 수 있다는 뜻입니다."
   ]
  },
  {
   "cell_type": "code",
   "execution_count": 78,
   "metadata": {},
   "outputs": [
    {
     "data": {
      "text/plain": [
       "2"
      ]
     },
     "execution_count": 78,
     "metadata": {},
     "output_type": "execute_result"
    }
   ],
   "source": [
    "# 덧셈. 우리가 일반적으로 알고 있던 덧셈 연산자(+)와 일치합니다.\n",
    "1 + 1"
   ]
  },
  {
   "cell_type": "code",
   "execution_count": 79,
   "metadata": {},
   "outputs": [
    {
     "data": {
      "text/plain": [
       "3"
      ]
     },
     "execution_count": 79,
     "metadata": {},
     "output_type": "execute_result"
    }
   ],
   "source": [
    "# 뺄셈. 마찬가지로 우리가 일반적으로 알고 있던 뺄셈 연산자(-)와 일치합니다.\n",
    "7 - 4"
   ]
  },
  {
   "cell_type": "markdown",
   "metadata": {},
   "source": [
    "하지만 파이썬이 언제나 인간의 직관과 상식에 정확하게 일치하도록 동작하는 것은 아닙니다. 다음의 곱셈과 나눗셈 연산자를 통해 이를 확인할 수 있습니다."
   ]
  },
  {
   "cell_type": "code",
   "execution_count": 80,
   "metadata": {},
   "outputs": [
    {
     "data": {
      "text/plain": [
       "12"
      ]
     },
     "execution_count": 80,
     "metadata": {},
     "output_type": "execute_result"
    }
   ],
   "source": [
    "# 곱셈. 3 x 4는 알파벳 엑스(x)와 헷갈릴 수 있기 때문에\n",
    "# 코드를 명시적으로 작성하기 위해 별표(*)로 대체합니다.\n",
    "3 * 4"
   ]
  },
  {
   "cell_type": "code",
   "execution_count": 81,
   "metadata": {},
   "outputs": [
    {
     "data": {
      "text/plain": [
       "1.5"
      ]
     },
     "execution_count": 81,
     "metadata": {},
     "output_type": "execute_result"
    }
   ],
   "source": [
    "# 나눗셈. 나눗셈 기호(÷)는 키보드에 없기 때문에\n",
    "# 편의를 위해 슬래시(/)로 대체합니다.\n",
    "3 / 2"
   ]
  },
  {
   "cell_type": "markdown",
   "metadata": {},
   "source": [
    "여기서 알아둬야 할 사실은, 1) 파이썬은 기본적으로 사용자가 갖고 있는 직관과 상식을 그대로 활용하여 동작하며, 2) 하지만 현실적인 이유로 몇몇 기능들은 직관과 상식에 예외되는 케이스가 존재합니다. 3) 하지만 2번의 이유는 프로그래밍 언어를 만든 사람이 사용자를 괴롭히고 싶어서 그런게 아니라, **이런 예외 케이스가 장기적인 관점에서 사용자에게 도움이 되기 때문에** 몇몇 예외 사례를 집어넣었다고 이해하시면 됩니다.\n",
    "\n",
    "그러므로 초심자가 파이썬을 배우는 가장 쉬우면서 효율적인 방법은, 1) 일단 기본적으로 내가 알고 있는 상식대로 동작한다는 확신을 갖고 사용하고, 2) 상식에 일치하지 않는 몇몇 예외 사례만 숙지한 뒤 3) 왜 이런 예외 사례가 생겼는지 이유를 확실하게 이해하면 됩니다.\n",
    "\n",
    "이번에는 몇몇 연산자를 더 살펴보겠습니다. 파이썬은 덧셈, 뺄셈, 곱셈, 나눗셈 외에도 제곱 연산(**)이나 나머지 연산(%)을 지원합니다."
   ]
  },
  {
   "cell_type": "code",
   "execution_count": 82,
   "metadata": {},
   "outputs": [
    {
     "data": {
      "text/plain": [
       "9"
      ]
     },
     "execution_count": 82,
     "metadata": {},
     "output_type": "execute_result"
    }
   ],
   "source": [
    "# 3을 제곱합니다. 그 결과는 9가 됩니다. 비슷하게 세제곱(** 3)이나 네제곱(** 4)도 구현할 수 있습니다.\n",
    "3 ** 2"
   ]
  },
  {
   "cell_type": "code",
   "execution_count": 83,
   "metadata": {},
   "outputs": [
    {
     "data": {
      "text/plain": [
       "3"
      ]
     },
     "execution_count": 83,
     "metadata": {},
     "output_type": "execute_result"
    }
   ],
   "source": [
    "# 13에서 5를 나눈 나머지(%)는 3이 된다.\n",
    "13 % 5"
   ]
  },
  {
   "cell_type": "markdown",
   "metadata": {},
   "source": [
    "### 등호 / 부등호 연산자"
   ]
  },
  {
   "cell_type": "markdown",
   "metadata": {},
   "source": [
    "파이썬은 등호 두 개(==)를 통해 왼쪽과 오른쪽의 결과를 비교할 수 있습니다. (등호 하나(=)는 변수에 값을 할당하는 용도로 사용하기 때문에, 코드를 명시적으로 작성하기 위해 비교 연산은 등호 두 개(==)를 이용합니다)"
   ]
  },
  {
   "cell_type": "code",
   "execution_count": 84,
   "metadata": {},
   "outputs": [
    {
     "data": {
      "text/plain": [
       "True"
      ]
     },
     "execution_count": 84,
     "metadata": {},
     "output_type": "execute_result"
    }
   ],
   "source": [
    "# 1에서 2를 더한 결과는 3이므로, 참(True)이 나옵니다.\n",
    "1 + 2 == 3"
   ]
  },
  {
   "cell_type": "code",
   "execution_count": 85,
   "metadata": {},
   "outputs": [
    {
     "data": {
      "text/plain": [
       "False"
      ]
     },
     "execution_count": 85,
     "metadata": {},
     "output_type": "execute_result"
    }
   ],
   "source": [
    "# 1에서 2를 더한 결과는 4가 아니기 때문에, 거짓(False)이 나옵니다.\n",
    "1 + 2 == 4"
   ]
  },
  {
   "cell_type": "markdown",
   "metadata": {},
   "source": [
    "반면 서로가 같음이 아닌 다름을 연산하고 싶으면 != 연산자를 사용합니다."
   ]
  },
  {
   "cell_type": "code",
   "execution_count": 86,
   "metadata": {},
   "outputs": [
    {
     "data": {
      "text/plain": [
       "True"
      ]
     },
     "execution_count": 86,
     "metadata": {},
     "output_type": "execute_result"
    }
   ],
   "source": [
    "# 1 + 2는 3이며, 이는 4가 아닙니다. 그러므로 != 연산을 하면 참(True)이 나옵니다.\n",
    "1 + 2 != 4"
   ]
  },
  {
   "cell_type": "markdown",
   "metadata": {},
   "source": [
    "두 개의 값을 비교할 때는 등호 연산자 외에 부등호 연산자를 사용할 수 있습니다. 부등호 연산자는 두 숫자의 같고 다름이 아닌, 높고 낮음을 비교할 수 있습니다."
   ]
  },
  {
   "cell_type": "code",
   "execution_count": 87,
   "metadata": {},
   "outputs": [
    {
     "data": {
      "text/plain": [
       "True"
      ]
     },
     "execution_count": 87,
     "metadata": {},
     "output_type": "execute_result"
    }
   ],
   "source": [
    "# 1 + 2는 3이며, 이는 4보다 작습니다. 그러므로 < 연산을 하면 결과는 참(True)이 나옵니다.\n",
    "1 + 2 < 4"
   ]
  },
  {
   "cell_type": "code",
   "execution_count": 88,
   "metadata": {},
   "outputs": [
    {
     "data": {
      "text/plain": [
       "False"
      ]
     },
     "execution_count": 88,
     "metadata": {},
     "output_type": "execute_result"
    }
   ],
   "source": [
    "# 정 반대 연산자(>)를 사용하면 결과는 자연스럽게 거짓(False)이 나온다는 것을 알 수 있습니다.\n",
    "1 + 2 > 4"
   ]
  },
  {
   "cell_type": "markdown",
   "metadata": {},
   "source": [
    "부등호 연산자는 미만(<)과 초과(>) 외에도 이하(<=)와 이상(>=) 개념도 존재합니다."
   ]
  },
  {
   "cell_type": "code",
   "execution_count": 89,
   "metadata": {},
   "outputs": [
    {
     "data": {
      "text/plain": [
       "False"
      ]
     },
     "execution_count": 89,
     "metadata": {},
     "output_type": "execute_result"
    }
   ],
   "source": [
    "# 1 + 2는 3이며, 이는 3보다 작지 않기 때문에 결과는 거짓(False)이 나옵니다.\n",
    "1 + 2 < 3"
   ]
  },
  {
   "cell_type": "code",
   "execution_count": 90,
   "metadata": {},
   "outputs": [
    {
     "data": {
      "text/plain": [
       "True"
      ]
     },
     "execution_count": 90,
     "metadata": {},
     "output_type": "execute_result"
    }
   ],
   "source": [
    "# 하지만 미만(<) 연산자가 아닌 이하(<=) 연산자를 사용하면 결과가 달라집니다.\n",
    "# 1 + 2는 3이며, 이는 3보다 작거나 같기 때문에 결과는 참(True)이 나옵니다.\n",
    "1 + 2 <= 3"
   ]
  },
  {
   "cell_type": "code",
   "execution_count": 91,
   "metadata": {},
   "outputs": [
    {
     "data": {
      "text/plain": [
       "False"
      ]
     },
     "execution_count": 91,
     "metadata": {},
     "output_type": "execute_result"
    }
   ],
   "source": [
    "# 반대도 마찬가지입니다. 초과 연산자(>)를 사용하면 거짓(False)이 나옵니다.\n",
    "1 + 2 > 3"
   ]
  },
  {
   "cell_type": "code",
   "execution_count": 92,
   "metadata": {},
   "outputs": [
    {
     "data": {
      "text/plain": [
       "True"
      ]
     },
     "execution_count": 92,
     "metadata": {},
     "output_type": "execute_result"
    }
   ],
   "source": [
    "# 하지만 이하 연산자(>=)를 사용하면 참(True)이 나옵니다.\n",
    "1 + 2 >= 3"
   ]
  },
  {
   "cell_type": "markdown",
   "metadata": {},
   "source": [
    "프로그래밍 언어는 적은 문법을 다양하게 응용함으로서 동작하는 무언가(=프로그램)를 만들어 냅니다. 다음은 나머지 연산자와 비교 연산자 두 개를 응용한 코드입니다."
   ]
  },
  {
   "cell_type": "code",
   "execution_count": 93,
   "metadata": {},
   "outputs": [
    {
     "data": {
      "text/plain": [
       "True"
      ]
     },
     "execution_count": 93,
     "metadata": {},
     "output_type": "execute_result"
    }
   ],
   "source": [
    "# 10을 2로 나눈 나머지는 0이므로 참(Truwe)이 나옵니다.\n",
    "# 즉, 이 코드는 짝수와 홀수를 구분하는 용도로 쓰입니다.\n",
    "10 % 2 == 0"
   ]
  },
  {
   "cell_type": "code",
   "execution_count": 94,
   "metadata": {},
   "outputs": [
    {
     "data": {
      "text/plain": [
       "False"
      ]
     },
     "execution_count": 94,
     "metadata": {},
     "output_type": "execute_result"
    }
   ],
   "source": [
    "# 반면, 11을 2로 나눈 나머지는 0이 아니므로 거짓(False)이 나옵니다.\n",
    "11 % 2 == 0"
   ]
  },
  {
   "cell_type": "markdown",
   "metadata": {},
   "source": [
    "어떤 경우에는 하나의 조건이 아닌, 두 개 이상의 조건을 중복해서 사용해야 할 경우가 있습니다. 이럴 경우에는 and와 or를 사용합니다."
   ]
  },
  {
   "cell_type": "code",
   "execution_count": 95,
   "metadata": {},
   "outputs": [
    {
     "data": {
      "text/plain": [
       "True"
      ]
     },
     "execution_count": 95,
     "metadata": {},
     "output_type": "execute_result"
    }
   ],
   "source": [
    "# 12를 2로 나눈 나머지는 0이고, 마찬가지로 3으로 나눈 나머지도 0입니다.\n",
    "# 그러므로 결과는 참(True)이 나옵니다.\n",
    "12 % 2 == 0 and 12 % 3 == 0"
   ]
  },
  {
   "cell_type": "code",
   "execution_count": 96,
   "metadata": {},
   "outputs": [
    {
     "data": {
      "text/plain": [
       "False"
      ]
     },
     "execution_count": 96,
     "metadata": {},
     "output_type": "execute_result"
    }
   ],
   "source": [
    "# 14는 2로 나눈 나머지가 0이지만, 3으로 나눈 나머지는 0이 아닙니다.\n",
    "# 그러므로 결과는 거짓(False)이 나옵니다.\n",
    "14 % 2 == 0 and 14 % 3 == 0"
   ]
  },
  {
   "cell_type": "code",
   "execution_count": 97,
   "metadata": {},
   "outputs": [
    {
     "data": {
      "text/plain": [
       "True"
      ]
     },
     "execution_count": 97,
     "metadata": {},
     "output_type": "execute_result"
    }
   ],
   "source": [
    "# 반면 or 조건은 둘 중 하나만 참이여도 참이 되기 때문에,\n",
    "# 아래의 코드는 결과적으로 참(True)이 출력됩니다.\n",
    "14 % 2 == 0 or 14 % 3 == 0"
   ]
  },
  {
   "cell_type": "markdown",
   "metadata": {},
   "source": [
    "## 변수"
   ]
  },
  {
   "cell_type": "markdown",
   "metadata": {},
   "source": [
    "이번에는 조금 더 프로그래밍 언어다운 기능을 배워보겠습니다. 이번에 배울 기능은 **변수(Variable)** 입니다.\n",
    "\n",
    "프로그래밍 언어는 변수를 이용해서 값을 저장할 수 있습니다. 이렇게 하면 같은 코드를 실행하더라도, 해당 코드 위의 변수에서 어떤 값을 할당했냐에 따라 결과가 달라집니다.\n",
    "\n",
    "변수를 할당 할 때는 = 한 개 만 이용합니다. (ex. 변수명 = 값) 더 정확한 예시를 들어보겠습니다."
   ]
  },
  {
   "cell_type": "code",
   "execution_count": 1,
   "metadata": {},
   "outputs": [
    {
     "data": {
      "text/plain": [
       "8"
      ]
     },
     "execution_count": 1,
     "metadata": {},
     "output_type": "execute_result"
    }
   ],
   "source": [
    "# a 변수에 3을 할당 합니다.\n",
    "a = 3\n",
    "# b 변수에 5를 할당 합니다.\n",
    "b = 5\n",
    "\n",
    "# 변수 a의 값 3과 변수 b의 값 5가 더해져 결과는 8이 나옵니다.\n",
    "a + b"
   ]
  },
  {
   "cell_type": "code",
   "execution_count": 99,
   "metadata": {},
   "outputs": [
    {
     "data": {
      "text/plain": [
       "16"
      ]
     },
     "execution_count": 99,
     "metadata": {},
     "output_type": "execute_result"
    }
   ],
   "source": [
    "# a에는 3이 b에는 13이 할당 됩니다.\n",
    "a = 3\n",
    "b = 13\n",
    "\n",
    "# 변수 a의 값 3과 변수 b의 값 13가 더해져 결과는 16이 나옵니다.\n",
    "# 위의 코드와 동일한데도 결과는 다른 값이 출력됩니다. 이는 변수에 다른 값을 할당했기 때문입니다.\n",
    "a + b"
   ]
  },
  {
   "cell_type": "markdown",
   "metadata": {},
   "source": [
    "변수는 프로그래밍 언어의 여러 기능 중에서도 가장 응용력이 높습니다. 가령 변수에는 값을 여러번 재할당 할 수 있으며, 이 특성을 응용하면 아래와 같은 코드를 작성할 수 있습니다."
   ]
  },
  {
   "cell_type": "code",
   "execution_count": 100,
   "metadata": {},
   "outputs": [
    {
     "name": "stdout",
     "output_type": "stream",
     "text": [
      "4\n"
     ]
    },
    {
     "data": {
      "text/plain": [
       "6"
      ]
     },
     "execution_count": 100,
     "metadata": {},
     "output_type": "execute_result"
    }
   ],
   "source": [
    "# a라는 변수에 3을 할당합니다.\n",
    "a = 3\n",
    "\n",
    "# a라는 변수를 활용하여 덧셈 연산을 한 뒤 뒤 다시 a에 할당할 수 있습니다.\n",
    "a = a + 1\n",
    "\n",
    "# 참고사항 : 쥬피터 노트북은 가장 마지막의 연산값만 출력합니다.\n",
    "# 중간값 출력을 원한다면 print()를 활용하면 됩니다.\n",
    "# a의 값은 4이므로 4가 출력됩니다.\n",
    "print(a)\n",
    "\n",
    "# 같은 방식으로 a에 새로운 값을 할당해보겠습니다.\n",
    "# 이번에는 a가 4이므로 여기에 2를 더하면 6이 되며, 이 값을 a에 다시 할당할 수 있습니다.\n",
    "a = a + 2\n",
    "a"
   ]
  },
  {
   "cell_type": "markdown",
   "metadata": {},
   "source": [
    "## 문자열(기본)"
   ]
  },
  {
   "cell_type": "markdown",
   "metadata": {},
   "source": [
    "지금까지는 숫자, 그것도 정수형 값만 다루었습니다. 하지만 프로그래밍 언어에서는 숫자 말고도 다른 형태를 다룰 수 있는데, 정수형 외에 다룰 수 있는 가장 대표적인 형태는 바로 텍스트입니다. 프로그래밍 언어에서는 텍스트를 **문자열(string)**이라고 부릅니다."
   ]
  },
  {
   "cell_type": "code",
   "execution_count": 101,
   "metadata": {},
   "outputs": [
    {
     "data": {
      "text/plain": [
       "'Hello World!'"
      ]
     },
     "execution_count": 101,
     "metadata": {},
     "output_type": "execute_result"
    }
   ],
   "source": [
    "# 문자열을 생성합니다. 문자열을 생성할 때는 쌍따옴표(\")로 감싸줍니다.\n",
    "# 문자열을 쌍따옴표로 감싸는 이유는 다른 형태의 값(ex: 변수)와 헷갈릴 수 있기 때문입니다.\n",
    "# 가령 \"a\"는 문자열 a라고 간주하지만, 그냥 a는 변수 a라고 간주할 수 있습니다.\n",
    "\"Hello World!\""
   ]
  },
  {
   "cell_type": "code",
   "execution_count": 102,
   "metadata": {},
   "outputs": [
    {
     "data": {
      "text/plain": [
       "'Hello World!'"
      ]
     },
     "execution_count": 102,
     "metadata": {},
     "output_type": "execute_result"
    }
   ],
   "source": [
    "# 문자열을 만들 때는 쌍따옴표(\") 외에도 홀따옴표(')로 만들 수 있습니다.\n",
    "'Hello World!'"
   ]
  },
  {
   "cell_type": "code",
   "execution_count": 103,
   "metadata": {},
   "outputs": [
    {
     "ename": "SyntaxError",
     "evalue": "invalid syntax (<ipython-input-103-3f3e42cc5156>, line 3)",
     "output_type": "error",
     "traceback": [
      "\u001b[0;36m  File \u001b[0;32m\"<ipython-input-103-3f3e42cc5156>\"\u001b[0;36m, line \u001b[0;32m3\u001b[0m\n\u001b[0;31m    'Shayne's Name?'\u001b[0m\n\u001b[0m            ^\u001b[0m\n\u001b[0;31mSyntaxError\u001b[0m\u001b[0;31m:\u001b[0m invalid syntax\n"
     ]
    }
   ],
   "source": [
    "# 홀따옴표(')로 문자열을 만들 때는\n",
    "# 문자열 안에 홀따옴표(')가 있을 경우 에러가 납니다.\n",
    "'Shayne's Name?'"
   ]
  },
  {
   "cell_type": "code",
   "execution_count": 104,
   "metadata": {},
   "outputs": [
    {
     "data": {
      "text/plain": [
       "\"Shayne's Name?\""
      ]
     },
     "execution_count": 104,
     "metadata": {},
     "output_type": "execute_result"
    }
   ],
   "source": [
    "# 이럴 경우에는 홀따옴표(')가 아닌 쌍따옴표(\")로 문자열을 만들어줍니다.\n",
    "\"Shayne's Name?\""
   ]
  },
  {
   "cell_type": "markdown",
   "metadata": {},
   "source": [
    "재미있는 사실은 정수형와 문자열은 서로 다른 개념이기 때문에, 정수형 1과 문자열 1은 동일하다고 인식하지 않습니다. (초심자가 가장 헷갈려하는 부분 중 하나입니다) 다음의 코드를 통해 정수형과 문자열이 서로 다른 개념이라는 것을 파악할 수 있습니다."
   ]
  },
  {
   "cell_type": "code",
   "execution_count": 105,
   "metadata": {},
   "outputs": [
    {
     "data": {
      "text/plain": [
       "False"
      ]
     },
     "execution_count": 105,
     "metadata": {},
     "output_type": "execute_result"
    }
   ],
   "source": [
    "# 정수형 1과 문자열 1은 동일하지 않습니다.\n",
    "# 그렇기 때문에 등호(==)로 비교하면 거짓(False)이 나옵니다.\n",
    "1 == \"1\""
   ]
  },
  {
   "cell_type": "code",
   "execution_count": 106,
   "metadata": {},
   "outputs": [
    {
     "data": {
      "text/plain": [
       "True"
      ]
     },
     "execution_count": 106,
     "metadata": {},
     "output_type": "execute_result"
    }
   ],
   "source": [
    "# 정 반대로 !=로 비교하면 참(True)이 나옵니다.\n",
    "1 != \"1\""
   ]
  },
  {
   "cell_type": "markdown",
   "metadata": {},
   "source": [
    "## 불(bool)\n",
    "\n",
    "불(bool)은 프로그래밍 언어를 처음 배우는 분들 입장에서는 다소 생소한 개념일 수도 있습니다. 간단히 설명하자면, 불(bool)은 오직 참(True)과 거짓(False)만을 나타내는 개념입니다."
   ]
  },
  {
   "cell_type": "code",
   "execution_count": 107,
   "metadata": {},
   "outputs": [
    {
     "data": {
      "text/plain": [
       "True"
      ]
     },
     "execution_count": 107,
     "metadata": {},
     "output_type": "execute_result"
    }
   ],
   "source": [
    "# 파이썬에서는 True 라는 텍스트로 참을 표현할 수 있습니다.\n",
    "True"
   ]
  },
  {
   "cell_type": "code",
   "execution_count": 108,
   "metadata": {},
   "outputs": [
    {
     "data": {
      "text/plain": [
       "False"
      ]
     },
     "execution_count": 108,
     "metadata": {},
     "output_type": "execute_result"
    }
   ],
   "source": [
    "# 정 반대로 거짓은 False로 표현합니다.\n",
    "False"
   ]
  },
  {
   "cell_type": "markdown",
   "metadata": {},
   "source": [
    "프로그래밍 언어의 재미있는 관례가 하나 있는데, 대부분의 프로그래밍 언어에서 True와 1은 동일하다고 간주하고, False와 0은 동일하다고 간주합니다."
   ]
  },
  {
   "cell_type": "code",
   "execution_count": 109,
   "metadata": {},
   "outputs": [
    {
     "data": {
      "text/plain": [
       "True"
      ]
     },
     "execution_count": 109,
     "metadata": {},
     "output_type": "execute_result"
    }
   ],
   "source": [
    "# True와 1은 동일합니다. 반대로 True == 0을 하면 False가 나올 것입니다.\n",
    "True == 1"
   ]
  },
  {
   "cell_type": "code",
   "execution_count": 110,
   "metadata": {},
   "outputs": [
    {
     "data": {
      "text/plain": [
       "True"
      ]
     },
     "execution_count": 110,
     "metadata": {},
     "output_type": "execute_result"
    }
   ],
   "source": [
    "# False와 0은 동일합니다. 반대로 False == 1을 하면 False가 나올 것입니다.\n",
    "False == 0"
   ]
  },
  {
   "cell_type": "markdown",
   "metadata": {},
   "source": [
    "적지 않은 프로그래밍 초심자분들이 실수하는 것 중 하나는, True를 \"True\"로 잘못 표기하는 것입니다. 프로그래밍 언어에서 엄연히 따지면 True와 \"True\"는 동일하지 않습니다. 이 점을 주의하여야 합니다."
   ]
  },
  {
   "cell_type": "code",
   "execution_count": 111,
   "metadata": {},
   "outputs": [
    {
     "data": {
      "text/plain": [
       "False"
      ]
     },
     "execution_count": 111,
     "metadata": {},
     "output_type": "execute_result"
    }
   ],
   "source": [
    "# True와 \"True\"는 동일하지 않기 때문에 비교하면 False가 나옵니다.\n",
    "True == \"True\""
   ]
  },
  {
   "cell_type": "code",
   "execution_count": 112,
   "metadata": {},
   "outputs": [
    {
     "data": {
      "text/plain": [
       "False"
      ]
     },
     "execution_count": 112,
     "metadata": {},
     "output_type": "execute_result"
    }
   ],
   "source": [
    "# 비슷하게 False \"False\"는 동일하지 않기 때문에 False라고 나옵니다.\n",
    "False == \"False\""
   ]
  },
  {
   "cell_type": "markdown",
   "metadata": {},
   "source": [
    "## 에러 처리하기\n",
    "\n",
    "파이썬에서는 잘못된 프로그래밍 문법을 사용하였을 경우 **에러(Error)**가 납니다. 초심자 입장에서는 에러가 날 경우 굉장히 당황스러울 수 있는데, 에러가 났을 경우 가장 중요한 것은 **당황하지 않고 평정심을 유지하는 것**입니다."
   ]
  },
  {
   "cell_type": "code",
   "execution_count": 113,
   "metadata": {},
   "outputs": [
    {
     "ename": "TypeError",
     "evalue": "unsupported operand type(s) for +: 'int' and 'str'",
     "output_type": "error",
     "traceback": [
      "\u001b[0;31m---------------------------------------------------------\u001b[0m",
      "\u001b[0;31mTypeError\u001b[0m               Traceback (most recent call last)",
      "\u001b[0;32m<ipython-input-113-4cb17d43f7c6>\u001b[0m in \u001b[0;36m<module>\u001b[0;34m()\u001b[0m\n\u001b[1;32m      1\u001b[0m \u001b[0;31m# 가령 정수형(1)과 문자열(\"2\")를 더할 경우 에러가 납니다.\u001b[0m\u001b[0;34m\u001b[0m\u001b[0;34m\u001b[0m\u001b[0m\n\u001b[1;32m      2\u001b[0m \u001b[0;31m# 왜냐하면 정수형과 문자열을 덧셈을 할 수 없기 때문입니다.\u001b[0m\u001b[0;34m\u001b[0m\u001b[0;34m\u001b[0m\u001b[0m\n\u001b[0;32m----> 3\u001b[0;31m \u001b[0;36m1\u001b[0m \u001b[0;34m+\u001b[0m \u001b[0;34m\"2\"\u001b[0m\u001b[0;34m\u001b[0m\u001b[0m\n\u001b[0m",
      "\u001b[0;31mTypeError\u001b[0m: unsupported operand type(s) for +: 'int' and 'str'"
     ]
    }
   ],
   "source": [
    "# 가령 정수형(1)과 문자열(\"2\")를 더할 경우 에러가 납니다.\n",
    "# 왜냐하면 정수형과 문자열을 덧셈을 할 수 없기 때문입니다.\n",
    "1 + \"2\""
   ]
  },
  {
   "cell_type": "markdown",
   "metadata": {},
   "source": [
    "이렇게 생각하세요. 위 코드의 경우 엄연히 따지면 에러 없이 코드를 실행시킬 수도 있습니다. 1 + \"2\"의 결과를 3으로 출력해도 되고, 아니면 12로 출력하는 것도 가능합니다. 하지만 이 경우, 다른 프로그래머가 같은 코드를 봤을 때 결과가 3이 될지 12가 될지 판단하기 어렵습니다.\n",
    "\n",
    "프로그래밍 언어의 중요한 기능 중 하나는, 이렇게 하나의 코드를 여러 프로그래머가 보았을 때 헷갈리지 않도록 코드를 명시적으로 작성하는 것입니다. 그리고 코드가 명시적이지 않을 경우, 프로그래밍 언어는 1) 강제로 프로그램이 실행되지 않도록 멈춘 뒤, 2) 프로그래머에게 에러 메시지를 보여줌으로써 구체적으로 어떤 부분이 잘못되었는지 알려줍니다.\n",
    "\n",
    "가령 위 에러의 경우는 \"TypeError: unsupported operand type(s) for +: 'int' and 'str'\" 라는 메시지가 뜨는데, 이를 해석하자면 \"정수형(integer, int)과 문자열(string, str)을 덧셈(+)을 했는데 이는 지원하지 않는(unsupported) 연산 타입(operand type) 이다\" 라고 해석할 수 있습니다. 프로그래머는 이 에러 메시지를 확인한 뒤 에러를 수정하면 됩니다."
   ]
  },
  {
   "cell_type": "code",
   "execution_count": 114,
   "metadata": {},
   "outputs": [
    {
     "data": {
      "text/plain": [
       "3"
      ]
     },
     "execution_count": 114,
     "metadata": {},
     "output_type": "execute_result"
    }
   ],
   "source": [
    "# 가령 위 에러는 이렇게 수정할 수 있습니다.\n",
    "1 + 2"
   ]
  },
  {
   "cell_type": "code",
   "execution_count": 115,
   "metadata": {},
   "outputs": [
    {
     "data": {
      "text/plain": [
       "'12'"
      ]
     },
     "execution_count": 115,
     "metadata": {},
     "output_type": "execute_result"
    }
   ],
   "source": [
    "# 또는 이렇게도 수정할 수 있습니다.\n",
    "# (파이썬에서는 문자열끼리 덧셈(+)을 하면 두 문자열을 앞뒤로 붙입니다)\n",
    "\"1\" + \"2\""
   ]
  },
  {
   "cell_type": "markdown",
   "metadata": {},
   "source": [
    "요약하자면 다음과 같습니다.\n",
    "\n",
    "  * 프로그래머가 코드를 명시적으로 작성하지 않았을 때, 프로그래밍 언어는 강제로 실행을 멈춘 뒤 에러를 낸다.\n",
    "  * 에러가 났을 경우 언제나 에러 메시지를 먼저 보는 습관을 가져야 한다. (에러 메시지는 맨 밑에 있다) 많은 초심자들이 에러가 났을 경우 에러 메시지가 아닌 코드를 유심히 보는 습관을 갖고 있는데, 제일 먼저 에러메시지를 봐야 구체적으로 어떤 문제가 있는지 알 수 있다.\n",
    "  * 에러 메시지를 잘 이해하면 대부분의 문제는 해결할 수 있다. 만일 문제를 해결하지 못한다면? 당당하게 [구글에 검색해라](https://google.com)! 구글에 검색하는 것은 절대로 나쁜 습관이 아니다."
   ]
  },
  {
   "cell_type": "markdown",
   "metadata": {},
   "source": [
    "## 포메팅"
   ]
  },
  {
   "cell_type": "markdown",
   "metadata": {},
   "source": [
    "파이썬에서 문자열을 출력할 때, 그대로 출력하지 않고 몇몇 특수한 기능을 삽입하는 것을 포메팅(Fomatting)이라고 합니다. 포메팅은 파이썬이라는 프로그래밍 언어를 사용할 때 아주 중요한 기능이라고 볼 수는 없습니다. 하지만 문법이 어렵지 않고 활용도가 높기 때문에, 한 번 알아두면 굉장히 요긴하게 사용할 수 있습니다."
   ]
  },
  {
   "cell_type": "code",
   "execution_count": 116,
   "metadata": {},
   "outputs": [
    {
     "data": {
      "text/plain": [
       "'Shayne ate 3 bananas for 5 days'"
      ]
     },
     "execution_count": 116,
     "metadata": {},
     "output_type": "execute_result"
    }
   ],
   "source": [
    "# 먼저 bananas와 days라는 두 개의 변수를 할당합니다.\n",
    "bananas = 3\n",
    "days = 5\n",
    "\n",
    "# 파이썬의 format이라는 기능을 사용합니다.\n",
    "# .format() 안에 두 개의 변수(bananas, days)를 순서대로 넣고,\n",
    "# 이 순서를 중괄호를 활용해 {0}, {1} 로 문자열 안에 적습니다.\n",
    "# 단 프로그래밍 언어에서 모든 숫자의 시작은 0부터 시작한다는 것에 유의합니다.\n",
    "\"Shayne ate {0} bananas for {1} days\".format(bananas, days)"
   ]
  },
  {
   "cell_type": "code",
   "execution_count": 117,
   "metadata": {},
   "outputs": [
    {
     "data": {
      "text/plain": [
       "'Shayne ate 3 bananas for 5 days.'"
      ]
     },
     "execution_count": 117,
     "metadata": {},
     "output_type": "execute_result"
    }
   ],
   "source": [
    "# 새로운 버전의 파이썬(3.6+)은\n",
    "# 아래와 같이 더 간결한 방식으로 포메팅을 할 수 있습니다.\n",
    "f\"Shayne ate {bananas} bananas for {days} days.\""
   ]
  },
  {
   "cell_type": "markdown",
   "metadata": {},
   "source": [
    "데이터를 다룰 때 포메팅을 가장 많이 사용하는 경우는 소수점(float)을 출력할 때입니다.\n",
    "\n",
    "소수점은 기본적으로 자릿수가 굉장히 많은데(ex: 16자리, 32자리, 64자리) 높은 자릿수는 연산을 더 정밀하게 할 수 있다는 장점이 있지만 사람이 눈으로 보기에는 굉장히 불편합니다.\n",
    "\n",
    "이 경우에는 파이썬의 포메팅을 활용하여 자릿수를 줄여서 출력할 수 있습니다."
   ]
  },
  {
   "cell_type": "code",
   "execution_count": 118,
   "metadata": {},
   "outputs": [
    {
     "data": {
      "text/plain": [
       "'[Accuracy] Model A = 0.988 Model B = 0.12346'"
      ]
     },
     "execution_count": 118,
     "metadata": {},
     "output_type": "execute_result"
    }
   ],
   "source": [
    "# 두 개의 소수점 값을 변수에 할당합니다.\n",
    "model_a = 0.987654321\n",
    "model_b = 0.123456789\n",
    "\n",
    "# model_a 라는 변수에 할당한 값은 소수점 세 자리까지(0:.3)\n",
    "# model_b 에 할당한 값은 소수점 다섯 자리까지(1:.5) 출력합니다.\n",
    "\"[Accuracy] Model A = {0:.3} Model B = {1:.5}\".format(model_a, model_b)"
   ]
  },
  {
   "cell_type": "code",
   "execution_count": 119,
   "metadata": {},
   "outputs": [
    {
     "data": {
      "text/plain": [
       "'[Accuracy] Model A = 0.98765 Model B = 0.123'"
      ]
     },
     "execution_count": 119,
     "metadata": {},
     "output_type": "execute_result"
    }
   ],
   "source": [
    "# 당연하지만 신버전 포메팅을 사용해서 자릿수를 줄여서 출력할 수도 있습니다.\n",
    "f\"[Accuracy] Model A = {model_a:.5f} Model B = {model_b:.3f}\""
   ]
  },
  {
   "cell_type": "markdown",
   "metadata": {},
   "source": [
    "## 문자열(심화)\n",
    "\n",
    "이번에는 파이썬의 문자열(string)에 대해 조금 더 자세히 알아보겠습니다. 문자열은 정수형이나 소수점보다 더 다양한 기능을 보유하고 있는데, 이 기능을 숙지한다면 문자열을 지금보다 더 자유자재로 다룰 수 있습니다."
   ]
  },
  {
   "cell_type": "code",
   "execution_count": 120,
   "metadata": {},
   "outputs": [
    {
     "data": {
      "text/plain": [
       "'Hello World!'"
      ]
     },
     "execution_count": 120,
     "metadata": {},
     "output_type": "execute_result"
    }
   ],
   "source": [
    "# mesage라는 변수에 \"Hello World!\"라는 문자열을 할당합니다.\n",
    "message = \"Hello World!\"\n",
    "message"
   ]
  },
  {
   "cell_type": "code",
   "execution_count": 121,
   "metadata": {},
   "outputs": [
    {
     "name": "stdout",
     "output_type": "stream",
     "text": [
      "H\n",
      "e\n",
      "----\n",
      "!\n",
      "d\n"
     ]
    }
   ],
   "source": [
    "# 문자열의 n 번째 알파벳을 출력할 수 있습니다. 이를 인덱싱(Indexing)이라고 합니다.\n",
    "# 앞서 말씀 드린대로, 모든 프로그래밍 언어는 0부터 숫자를 셉니다.\n",
    "print(message[0])\n",
    "print(message[1])\n",
    "\n",
    "print(\"----\")\n",
    "\n",
    "# 뒤에서부터 문자를 출력할 때는 -1부터 시작합니다.\n",
    "print(message[-1])\n",
    "print(message[-2])"
   ]
  },
  {
   "cell_type": "code",
   "execution_count": 122,
   "metadata": {},
   "outputs": [
    {
     "data": {
      "text/plain": [
       "'Hell'"
      ]
     },
     "execution_count": 122,
     "metadata": {},
     "output_type": "execute_result"
    }
   ],
   "source": [
    "# 문자열의 특정 부분만 출력할 수 있습니다. 이를 슬라이싱(slicing)이라고 합니다.\n",
    "# 0:4는 0 번째부터 4번째의 바로 앞인 3 번째까지 출력합니다.\n",
    "message[0:4]"
   ]
  },
  {
   "cell_type": "code",
   "execution_count": 123,
   "metadata": {},
   "outputs": [
    {
     "data": {
      "text/plain": [
       "'Hell'"
      ]
     },
     "execution_count": 123,
     "metadata": {},
     "output_type": "execute_result"
    }
   ],
   "source": [
    "# 위 코드에서는 0을 생략할 수 있습니다.\n",
    "message[:4]"
   ]
  },
  {
   "cell_type": "code",
   "execution_count": 124,
   "metadata": {},
   "outputs": [
    {
     "data": {
      "text/plain": [
       "'o World!'"
      ]
     },
     "execution_count": 124,
     "metadata": {},
     "output_type": "execute_result"
    }
   ],
   "source": [
    "# 비슷한 원리로 끝나는 부분도 생략 가능합니다.\n",
    "# 이 경우는 자연스럽게 문자열의 맨 마지막까지 슬라이싱합니다.\n",
    "message[4:]"
   ]
  },
  {
   "cell_type": "code",
   "execution_count": 125,
   "metadata": {},
   "outputs": [
    {
     "name": "stdout",
     "output_type": "stream",
     "text": [
      "True\n",
      "False\n",
      "False\n",
      "True\n"
     ]
    }
   ],
   "source": [
    "# in 을 통해 문자열 안에 특정 문자 내지는 문자열이 있는지 확인 할 수 있습니다.\n",
    "# Hello World에는 H가 있기 때문에 참(True)이 나옵니다.\n",
    "print(\"H\" in message)\n",
    "\n",
    "# 하지만 Hello World에는 A가 없기 때문에 참(True)이 나옵니다.\n",
    "print(\"A\" in message)\n",
    "\n",
    "# 파이썬은 대소문자를 구분합니다.\n",
    "# 그러므로 \"H\"는 참(True)이 나오지만 \"h\"는 거짓(False)이 나옵니다.\n",
    "print(\"h\" in message)\n",
    "\n",
    "# 알파벳 뿐만 아니라 문장도 in 연산자를 사용할 수 있습니다.\n",
    "print(\"Hell\" in message)"
   ]
  },
  {
   "cell_type": "markdown",
   "metadata": {},
   "source": [
    "문자열에는 이외에도 다양한 기능이 있는데, 문자열에 점(.)을 사용하면 이 특수 기능을 뽑아낼 수 있습니다. 이 기능을 파이썬의 전문 용어로 메소드(method)라고 합니다. 문자열 메소드의 종류와 그 역할에 대해서는 [다음의 링크](http://withcoding.com/740)를 참고해주세요. 여기서는 메소드의 몇 가지 예시를 살펴보겠습니다."
   ]
  },
  {
   "cell_type": "code",
   "execution_count": 126,
   "metadata": {},
   "outputs": [
    {
     "data": {
      "text/plain": [
       "'HELLO WORLD!'"
      ]
     },
     "execution_count": 126,
     "metadata": {},
     "output_type": "execute_result"
    }
   ],
   "source": [
    "# upper() 메소드는 모든 문자를 대문자로 변환해주는 함수입니다.\n",
    "message.upper()"
   ]
  },
  {
   "cell_type": "code",
   "execution_count": 127,
   "metadata": {},
   "outputs": [
    {
     "data": {
      "text/plain": [
       "'hello world!'"
      ]
     },
     "execution_count": 127,
     "metadata": {},
     "output_type": "execute_result"
    }
   ],
   "source": [
    "# lower() 메소드는 모든 문자를 소문자로 변환해주는 함수입니다.\n",
    "message.lower()"
   ]
  },
  {
   "cell_type": "code",
   "execution_count": 128,
   "metadata": {},
   "outputs": [
    {
     "data": {
      "text/plain": [
       "2"
      ]
     },
     "execution_count": 128,
     "metadata": {},
     "output_type": "execute_result"
    }
   ],
   "source": [
    "# count() 메소드는 문자열 내에 특정 문자열/알파벳이 몇 개 있는지 세줍니다.\n",
    "# 아래 코드는 \"Hello World\"에서 \"o\"라는 알파벳이 몇 개 있는지를 세줍니다.\n",
    "message.count(\"o\")"
   ]
  },
  {
   "cell_type": "code",
   "execution_count": 129,
   "metadata": {},
   "outputs": [
    {
     "data": {
      "text/plain": [
       "'Jello World!'"
      ]
     },
     "execution_count": 129,
     "metadata": {},
     "output_type": "execute_result"
    }
   ],
   "source": [
    "# replace() 메소드는 문자열의 특정 부분을 교체할 수 있습니다.\n",
    "# 다음 코드는 \"Hello World\"에서 H를 J로 교체합니다.\n",
    "message.replace(\"H\", \"J\")"
   ]
  },
  {
   "cell_type": "code",
   "execution_count": 130,
   "metadata": {},
   "outputs": [
    {
     "data": {
      "text/plain": [
       "['Hello', 'World!']"
      ]
     },
     "execution_count": 130,
     "metadata": {},
     "output_type": "execute_result"
    }
   ],
   "source": [
    "# split() 메소드는 문자열을 쪼개서 리스트를 만들 수 있습니다.\n",
    "# split() 안에 특정 문자열을 지정하면 (ex: \" \") 해당 문자열을 기준으로 쪼갭니다.\n",
    "message.split(\" \")"
   ]
  },
  {
   "cell_type": "code",
   "execution_count": 131,
   "metadata": {},
   "outputs": [
    {
     "data": {
      "text/plain": [
       "'Hello World!'"
      ]
     },
     "execution_count": 131,
     "metadata": {},
     "output_type": "execute_result"
    }
   ],
   "source": [
    "# strip() 메소드는 문자열 좌우에 있는 공백을 제거해줍니다.\n",
    "# 결과적으로 \"   Hello World!  \" 문자열이 \"Hello World!\"로 바뀝니다.\n",
    "\"   Hello World!  \".strip()"
   ]
  },
  {
   "cell_type": "markdown",
   "metadata": {},
   "source": [
    "## 리스트\n",
    "\n",
    "이번에 배울 기능은 리스트(list)입니다. 파이썬의 리스트는 다른 언어에서 배열(array)이라고 부르는 기능과 거의 동일합니다. 리스트를 사용하면 여러 개의 값(숫자, 문자열 등)을 하나로 묶어서 하나의 변수에 할당해서 쓸 수 있습니다.\n",
    "\n",
    "리스트를 사용하면 어떤 장점이 있을까요? 가령 100여개의 다른 값을 100여개의 다른 변수에 할당하려고 하면 너무 긴 코드를 작성해야 합니다. 만일 파이썬의 리스트에 익숙하다면 이 코드를 단 몇 줄의 코드로 짧게 줄여서 사용할 수 있습니다."
   ]
  },
  {
   "cell_type": "code",
   "execution_count": 132,
   "metadata": {},
   "outputs": [
    {
     "data": {
      "text/plain": [
       "[1, 3, 5, 7, 9]"
      ]
     },
     "execution_count": 132,
     "metadata": {},
     "output_type": "execute_result"
    }
   ],
   "source": [
    "# odd라는 변수에 리스트를 할당해보겠습니다. 리스트 안에는 1, 3, 5, 7, 9를 할당합니다.\n",
    "# 리스트를 만들 때는 대괄호([])를 사용합니다.\n",
    "odd = [1, 3, 5, 7, 9]\n",
    "odd"
   ]
  },
  {
   "cell_type": "markdown",
   "metadata": {},
   "source": [
    "재미있는 사실은, 리스트와 문자열은 서로 공유하고 있는 기능이 많습니다. 앞서 문자열에서 사용한 인덱싱(indexing), 슬라이싱(slicing) 등을 리스트에서도 사용할 수 있습니다."
   ]
  },
  {
   "cell_type": "code",
   "execution_count": 133,
   "metadata": {},
   "outputs": [
    {
     "name": "stdout",
     "output_type": "stream",
     "text": [
      "1\n",
      "3\n",
      "----\n",
      "9\n",
      "7\n"
     ]
    }
   ],
   "source": [
    "# 문자열과 마찬가지로, 인덱싱을 통해 리스트의 n 번째 값을 출력할 수 있습니다.\n",
    "print(odd[0])\n",
    "print(odd[1])\n",
    "\n",
    "print(\"----\")\n",
    "\n",
    "# 뒤에서부터 값을 가져오는 것도 동일합니다.\n",
    "print(odd[-1])\n",
    "print(odd[-2])"
   ]
  },
  {
   "cell_type": "code",
   "execution_count": 134,
   "metadata": {},
   "outputs": [
    {
     "data": {
      "text/plain": [
       "[1, 3, 5, 7]"
      ]
     },
     "execution_count": 134,
     "metadata": {},
     "output_type": "execute_result"
    }
   ],
   "source": [
    "# 슬라이싱도 동일하게 사용할 수 있습니다.\n",
    "# 아래의 코드는 리스트에서 0번째 값과 4번째 바로 앞에 있는 값(=3번째 값)을 가져옵니다.\n",
    "odd[0:4]"
   ]
  },
  {
   "cell_type": "code",
   "execution_count": 135,
   "metadata": {},
   "outputs": [
    {
     "data": {
      "text/plain": [
       "[1, 3, 5, 7]"
      ]
     },
     "execution_count": 135,
     "metadata": {},
     "output_type": "execute_result"
    }
   ],
   "source": [
    "# 위 코드에서는 0을 생략할 수 있습니다.\n",
    "odd[:4]"
   ]
  },
  {
   "cell_type": "code",
   "execution_count": 136,
   "metadata": {},
   "outputs": [
    {
     "data": {
      "text/plain": [
       "[9]"
      ]
     },
     "execution_count": 136,
     "metadata": {},
     "output_type": "execute_result"
    }
   ],
   "source": [
    "# 비슷한 원리로 끝나는 부분도 생략 가능합니다.\n",
    "# 이 경우는 자연스럽게 문자열의 맨 마지막까지 슬라이싱합니다.\n",
    "odd[4:]"
   ]
  },
  {
   "cell_type": "code",
   "execution_count": 137,
   "metadata": {},
   "outputs": [
    {
     "name": "stdout",
     "output_type": "stream",
     "text": [
      "True\n",
      "False\n",
      "True\n"
     ]
    }
   ],
   "source": [
    "# 문자열과 마찬가지로 리스트에 특정값이 포함되어 있는지 확인할 수 있습니다.\n",
    "# 아래의 코드는 odd라는 리스트에 1이 들어가 있는지 확인합니다.\n",
    "print(1 in odd)\n",
    "\n",
    "# odd는 홀수이기 때문에 2는 들어가 있지 않습니다.\n",
    "print(2 in odd)\n",
    "\n",
    "# 하지만 3은 들어가 있는 것을 확인할 수 있습니다.\n",
    "print(3 in odd)"
   ]
  },
  {
   "cell_type": "markdown",
   "metadata": {},
   "source": [
    "하지만 리스트와 문자열은 근본적으로 다른 역할을 하기 위해 만들여졌기 때문에, 당연하지만 문자열에는 없는 리스트 고유의 기능도 존재합니다."
   ]
  },
  {
   "cell_type": "code",
   "execution_count": 138,
   "metadata": {},
   "outputs": [
    {
     "data": {
      "text/plain": [
       "[1, 3, 5, 7, 9, 11]"
      ]
     },
     "execution_count": 138,
     "metadata": {},
     "output_type": "execute_result"
    }
   ],
   "source": [
    "# .append() 라는 메소드를 이용하면 리스트에 값을 추가할 수 있습니다.\n",
    "# 다음의 코드는 odd라는 리스트에 11이라는 값을 추가합니다.\n",
    "odd.append(11)\n",
    "odd"
   ]
  },
  {
   "cell_type": "code",
   "execution_count": 139,
   "metadata": {},
   "outputs": [
    {
     "data": {
      "text/plain": [
       "[1, 3, 5, 7, 9]"
      ]
     },
     "execution_count": 139,
     "metadata": {},
     "output_type": "execute_result"
    }
   ],
   "source": [
    "# 정 반대의 기능을 담당하는 것은 .pop()입니다.\n",
    "# 이 기능을 사용하면 리스트의 마지막 값을 제거합니다.\n",
    "odd.pop()\n",
    "odd"
   ]
  },
  {
   "cell_type": "code",
   "execution_count": 140,
   "metadata": {},
   "outputs": [
    {
     "data": {
      "text/plain": [
       "[1, 3, 5, 9]"
      ]
     },
     "execution_count": 140,
     "metadata": {},
     "output_type": "execute_result"
    }
   ],
   "source": [
    "# 마지막이 아닌 특정 위치에 있는 값을 지우고 싶다면 del을 사용합니다.\n",
    "# 아래 코드는 odd 리스트에 있는 3번째 값(7)을 제거합니다.\n",
    "del odd[3]\n",
    "odd"
   ]
  },
  {
   "cell_type": "code",
   "execution_count": 141,
   "metadata": {},
   "outputs": [
    {
     "data": {
      "text/plain": [
       "[1, 5, 9]"
      ]
     },
     "execution_count": 141,
     "metadata": {},
     "output_type": "execute_result"
    }
   ],
   "source": [
    "# 만일 특정한 값을 지우고 싶다면 .remove() 라는 메소드를 사용합니다.\n",
    "# 아래 코드는 리스트에서 값이 3인 숫자만을 제거합니다.\n",
    "odd.remove(3)\n",
    "odd"
   ]
  },
  {
   "cell_type": "code",
   "execution_count": 142,
   "metadata": {},
   "outputs": [
    {
     "data": {
      "text/plain": [
       "[3, 1, 5, 9]"
      ]
     },
     "execution_count": 142,
     "metadata": {},
     "output_type": "execute_result"
    }
   ],
   "source": [
    "# 만일 맨 뒤가 아닌 특정 위치에 값을 넣고 싶다면 .insert()를 사용합니다.\n",
    "# 아래의 코드는 odd라는 리스트의 0번째에 3이라는 숫자를 집어넣습니다.\n",
    "odd.insert(0, 3)\n",
    "odd"
   ]
  },
  {
   "cell_type": "code",
   "execution_count": 143,
   "metadata": {},
   "outputs": [
    {
     "data": {
      "text/plain": [
       "[1, 3, 5, 9]"
      ]
     },
     "execution_count": 143,
     "metadata": {},
     "output_type": "execute_result"
    }
   ],
   "source": [
    "# .sort()는 리스트에 있는 값을 정렬합니다.\n",
    "# 숫자는 작은 순으로, 알파벳은 빠른 순으로('a' - 'z') 정렬합니다.\n",
    "odd.sort()\n",
    "odd"
   ]
  },
  {
   "cell_type": "code",
   "execution_count": 144,
   "metadata": {},
   "outputs": [
    {
     "data": {
      "text/plain": [
       "[1, 3, 5, 9, 13, 15, 17, 19]"
      ]
     },
     "execution_count": 144,
     "metadata": {},
     "output_type": "execute_result"
    }
   ],
   "source": [
    "# 리스트에서는 덧셈(+)을 사용해서 리스트와 리스트를 합쳐줄 수 있습니다.\n",
    "# 아래의 코드는 odd라는 리스트와 [13, 15, 17, 19] 라는 리스트를 앞뒤로 붙여줍니다.\n",
    "odd = odd + [13, 15, 17, 19]\n",
    "odd"
   ]
  },
  {
   "cell_type": "code",
   "execution_count": 145,
   "metadata": {},
   "outputs": [
    {
     "data": {
      "text/plain": [
       "[1, 3, 5, -1, 13, -1, 17, 19]"
      ]
     },
     "execution_count": 145,
     "metadata": {},
     "output_type": "execute_result"
    }
   ],
   "source": [
    "# 리스트의 인덱싱을 활용하면 특정한 위치에 있는 값을 바꿔줄 수 있습니다.\n",
    "# 아래의 코드는 odd라는 리스트의 3번째와 5번째에 있는 값을 -1로 변경해줍니다.\n",
    "odd[3] = -1\n",
    "odd[5] = -1\n",
    "odd"
   ]
  },
  {
   "cell_type": "markdown",
   "metadata": {},
   "source": [
    "## 딕셔너리\n",
    "\n",
    "이번에 살펴볼 것은 딕셔너리(Dictionary)라는 개념입니다. 딕셔너리는 리스트와 유사하게 여러 개의 값을 담을 수 있습니다. 리스트와의 차이점은, 1) 리스트는 여러 값(Value)을 순차적으로 담아서 가져오지만, 2) 딕셔너리는 키(Key)를 지정해주면 키에 해당하는 값(Value)을 가져올 수 있습니다.\n",
    "\n"
   ]
  },
  {
   "cell_type": "code",
   "execution_count": 146,
   "metadata": {},
   "outputs": [
    {
     "data": {
      "text/plain": [
       "{'apple': '사과', 'banana': '바나나', 'cherry': '체리', 'watermelon': '수박'}"
      ]
     },
     "execution_count": 146,
     "metadata": {},
     "output_type": "execute_result"
    }
   ],
   "source": [
    "# vocabulary라는 변수에 딕셔너리를 할당합니다.\n",
    "# 이 딕셔너리는 키(Key)와 값(Value)으로 이루어져 있는데,\n",
    "# 키는 특정 단어의 영어 표기, 값은 특정 단어의 한글 표기로 이루어져 있습니다.\n",
    "vocabulary = {\n",
    "    'apple': '사과',\n",
    "    'banana': '바나나',\n",
    "    'cherry': '체리',\n",
    "    'watermelon': '수박'\n",
    "}\n",
    "\n",
    "vocabulary"
   ]
  },
  {
   "cell_type": "code",
   "execution_count": 147,
   "metadata": {},
   "outputs": [
    {
     "name": "stdout",
     "output_type": "stream",
     "text": [
      "사과\n",
      "체리\n"
     ]
    }
   ],
   "source": [
    "# 'apple' 이라는 키로 검색하면 그에 해당하는 값(사과)가 나옵니다.\n",
    "print(vocabulary['apple'])\n",
    "\n",
    "# 마찬가지로 'cherry' 라는 키로 검색하면 그에 해당하는 값(체리)가 나옵니다.\n",
    "print(vocabulary['cherry'])"
   ]
  },
  {
   "cell_type": "markdown",
   "metadata": {},
   "source": [
    "이미 만들어둔 딕셔너리에 새로운 값을 추가하거나 기존 값을 제거할 수도 있습니다. 다음의 코드를 통해 ```vocabulary``` 라는 딕셔너리에 새로운 값을 넣거나 빼보겠습니다."
   ]
  },
  {
   "cell_type": "code",
   "execution_count": 148,
   "metadata": {},
   "outputs": [
    {
     "data": {
      "text/plain": [
       "{'apple': '사과',\n",
       " 'banana': '바나나',\n",
       " 'cherry': '체리',\n",
       " 'pineapple': '파인애플',\n",
       " 'watermelon': '수박'}"
      ]
     },
     "execution_count": 148,
     "metadata": {},
     "output_type": "execute_result"
    }
   ],
   "source": [
    "# vocabulary에 'pineapple'라는 키로 새로운 값을 추가합니다.\n",
    "# 새 값은 '파인애플' 로 지정합니다.\n",
    "vocabulary['pineapple'] = '파인애플'\n",
    "vocabulary"
   ]
  },
  {
   "cell_type": "code",
   "execution_count": 149,
   "metadata": {},
   "outputs": [
    {
     "data": {
      "text/plain": [
       "{'apple': '사과', 'banana': '바나나', 'cherry': '체리', 'pineapple': '파인애플'}"
      ]
     },
     "execution_count": 149,
     "metadata": {},
     "output_type": "execute_result"
    }
   ],
   "source": [
    "# 특정 값을 제거하고 싶다면 del 을 사용합니다.\n",
    "del vocabulary['watermelon']\n",
    "vocabulary"
   ]
  },
  {
   "cell_type": "markdown",
   "metadata": {},
   "source": [
    "이외에도 딕셔너리는 리스트, 문자열과 유사하게 다양한 추가 기능을 보유하고 있습니다. 보통은 이 기능을 메소드(method)를 통해 사용합니다."
   ]
  },
  {
   "cell_type": "code",
   "execution_count": 150,
   "metadata": {},
   "outputs": [
    {
     "data": {
      "text/plain": [
       "dict_keys(['apple', 'banana', 'cherry', 'pineapple'])"
      ]
     },
     "execution_count": 150,
     "metadata": {},
     "output_type": "execute_result"
    }
   ],
   "source": [
    "# .keys()는 딕셔너리의 키(Key)들의 리스트를 가져옵니다.\n",
    "vocabulary.keys()"
   ]
  },
  {
   "cell_type": "code",
   "execution_count": 151,
   "metadata": {},
   "outputs": [
    {
     "data": {
      "text/plain": [
       "dict_values(['사과', '바나나', '체리', '파인애플'])"
      ]
     },
     "execution_count": 151,
     "metadata": {},
     "output_type": "execute_result"
    }
   ],
   "source": [
    "# .values()는 딕셔너리의 값(Value)들의 리스트를 가져옵니다.\n",
    "vocabulary.values()"
   ]
  },
  {
   "cell_type": "code",
   "execution_count": 152,
   "metadata": {},
   "outputs": [
    {
     "name": "stdout",
     "output_type": "stream",
     "text": [
      "True\n",
      "False\n"
     ]
    }
   ],
   "source": [
    "# in 연산자로 딕셔너리 안에 특정 키가 있는지 검색할 수 있습니다.\n",
    "# 다음의 코드는 vocabulary 라는 딕셔너리 안에 apple 이라는 키가 있는지 검색합니다.\n",
    "# 결과는 당연하게도 참(True)이 나올 것입니다.\n",
    "print('apple' in vocabulary)\n",
    "\n",
    "# 반면 vocabulary 안에는 cake라는 키가 없으므로\n",
    "# 다음 코드의 결과는 거짓(False)이 나올 것입니다.\n",
    "print('cake' in vocabulary)"
   ]
  },
  {
   "cell_type": "markdown",
   "metadata": {},
   "source": [
    "## 제어문 \n",
    "\n",
    "이제부터는 무언가 프로그램으로서 동작하는 느낌이 드는 기능을 하나하나 추가해보겠습니다.\n",
    "\n",
    "이번에 배울 기능은 제어문입니다. (```if```문이라고도 부릅니다) 제어문은 우리가 이전에 엑셀(정확히는 [구글 스프레드시트](http://spreasheet.google.com/))을 사용할 때 배웠던 ```if```문과 거의 동일합니다. ```if```문 안에 조건을 넣은 뒤, 그 조건이 참일 경우와 거짓일 경우에 맞춰 다른 코드를 실행하는 기능이라고 이해하면 편합니다."
   ]
  },
  {
   "cell_type": "code",
   "execution_count": 153,
   "metadata": {},
   "outputs": [
    {
     "name": "stdout",
     "output_type": "stream",
     "text": [
      "아이\n"
     ]
    }
   ],
   "source": [
    "# age 변수에 3을 설정합니다.\n",
    "age = 3\n",
    "\n",
    "# if 문 안에 조건을 넣습니다.\n",
    "# age < 5 라는 조건은 \"age 변수 안에 있는 값이 5보다 작은가?\"로 이해하시면 됩니다.\n",
    "if age < 5:\n",
    "    # age < 5 조건이 참일 경우 \"아이\"라는 텍스트가 출력됩니다.\n",
    "    print(\"아이\")\n",
    "else:\n",
    "    # age < 5 조건이 거짓일 경우 \"아이\"라는 텍스트가 출력됩니다.\n",
    "    print(\"어른\")"
   ]
  },
  {
   "cell_type": "markdown",
   "metadata": {},
   "source": [
    "제어문에는 ```if```-```else``` 말고 ```elif```(```else if```의 축약어)를 사용할 수도 있습니다."
   ]
  },
  {
   "cell_type": "code",
   "execution_count": 154,
   "metadata": {},
   "outputs": [
    {
     "name": "stdout",
     "output_type": "stream",
     "text": [
      "학생\n"
     ]
    }
   ],
   "source": [
    "# age 변수에 10을 설정합니다.\n",
    "age = 10\n",
    "\n",
    "# if 문 안에 조건을 넣습니다.\n",
    "# age라는 변수 안에 있는 값이 5보다 작은지 체크합니다.\n",
    "if age < 5:\n",
    "    # age < 5 조건이 참이라면, \"아이\"라는 텍스트를 출력합니다.\n",
    "    print(\"아이\")\n",
    "# age 안에 있는 값이 5보다 크거나 같다면, elif를 통해 다시 한 번 조건을 넣습니다.\n",
    "# 이번에는 age라는 변수 안에 있는 값이 18보다 작은지 체크합니다.\n",
    "elif age < 18:\n",
    "    # age < 18 조건이 참이라면, \"학생\"라는 텍스트를 출력합니다.\n",
    "    print(\"학생\")\n",
    "# elif 조건 역시 거짓이라면, \"어른\"이라는 텍스트를 출력합니다.\n",
    "else:\n",
    "    print(\"어른\")"
   ]
  },
  {
   "cell_type": "markdown",
   "metadata": {},
   "source": [
    "```if```문이나 ```elif```문에는 ```not```이라는 기능을 사용할 수 있습니다. 이 경우 참은 거짓으로, 거짓은 참으로 뒤바뀝니다."
   ]
  },
  {
   "cell_type": "code",
   "execution_count": 155,
   "metadata": {},
   "outputs": [
    {
     "name": "stdout",
     "output_type": "stream",
     "text": [
      "3 exist\n"
     ]
    }
   ],
   "source": [
    "# odd라는 변수에 리스트를 할당합니다.\n",
    "# 리스트 안에는 1, 3, 5, 7, 9가 들어가 있습니다.\n",
    "odd = [1, 3, 5, 7, 9]\n",
    "\n",
    "# 3 in odd는 참(True)이지만\n",
    "# 앞에 not이 붙어있으므로 결과적으로 거짓(False)이 됩니다.\n",
    "if not 3 in odd:\n",
    "    print(\"3 doesn't exist\") \n",
    "else:\n",
    "    print(\"3 exist\") "
   ]
  },
  {
   "cell_type": "markdown",
   "metadata": {},
   "source": [
    "## 반복문\n",
    "\n",
    "이번에 배울 기능은 반복문입니다. (```for```문이라고도 부릅니다) 표현에서 알 수 있듯이, 반복문은 \"반복적으로 일어나는 행동을 하나로 묶어주는\" 기능을 합니다.\n",
    "\n",
    "가령 리스트 안에 여러 개의 값이 있고 해당 리스트에 있는 값을 전부 출력하고 싶다면, 리스트에 있는 값을 일일이 꺼내와 출력할 필요 없이 for문을 사용한 간략한 두 줄의 코드만 있으면 됩니다."
   ]
  },
  {
   "cell_type": "code",
   "execution_count": 156,
   "metadata": {
    "collapsed": true
   },
   "outputs": [],
   "source": [
    "# baskets 이라는 변수에 리스트를 할당합니다.\n",
    "# 리스트에는 다양한 상품(product)이 들어있습니다.\n",
    "baskets = ['apple', 'banana', 'chicken', 'pineapple', 'cherry']"
   ]
  },
  {
   "cell_type": "code",
   "execution_count": 157,
   "metadata": {},
   "outputs": [
    {
     "name": "stdout",
     "output_type": "stream",
     "text": [
      "apple\n",
      "banana\n",
      "chicken\n",
      "pineapple\n",
      "cherry\n"
     ]
    }
   ],
   "source": [
    "# baskets 리스트 안에 있는 상품을 전부 출력하고 싶다면 다음과 같이 코드를 작성합니다.\n",
    "# 이 코드는 매우 길며 비효율적입니다. (가령 baskets 안에 상품이 100여개면 어떻게 될까요?)\n",
    "product = baskets[0]\n",
    "print(product)\n",
    "product = baskets[1]\n",
    "print(product)\n",
    "product = baskets[2]\n",
    "print(product)\n",
    "product = baskets[3]\n",
    "print(product)\n",
    "product = baskets[4]\n",
    "print(product)"
   ]
  },
  {
   "cell_type": "code",
   "execution_count": 158,
   "metadata": {},
   "outputs": [
    {
     "name": "stdout",
     "output_type": "stream",
     "text": [
      "apple\n",
      "banana\n",
      "chicken\n",
      "pineapple\n",
      "cherry\n"
     ]
    }
   ],
   "source": [
    "# 위 코드와 동일한 역할을 하는 다른 코드입니다.\n",
    "# 단 두 줄의 코드만으로, baskets 안에 있는 모든 상품을 print로 출력할 수 있습니다.\n",
    "for product in baskets:\n",
    "    print(product)"
   ]
  },
  {
   "cell_type": "markdown",
   "metadata": {},
   "source": [
    "이번에는 리스트 없이 반복문을 돌리는 법에 대해서 배워보겠습니다. 가령 별도의 리스트를 보유하지 않고, 단순히 0에서부터 9까지를 출력하고 싶다면 ```for``` 문과 함께 ```range``` 문을 사용합니다.\n"
   ]
  },
  {
   "cell_type": "code",
   "execution_count": 159,
   "metadata": {},
   "outputs": [
    {
     "name": "stdout",
     "output_type": "stream",
     "text": [
      "0\n",
      "1\n",
      "2\n",
      "3\n",
      "4\n",
      "5\n",
      "6\n",
      "7\n",
      "8\n",
      "9\n"
     ]
    }
   ],
   "source": [
    "# range 안에 숫자를 넣어주면 0부터 해당 숫자 직전(가령 10을 넣어줬다면 9) 까지의 값을 반복합니다.\n",
    "for i in range(10):\n",
    "    print(i)"
   ]
  },
  {
   "cell_type": "code",
   "execution_count": 160,
   "metadata": {},
   "outputs": [
    {
     "name": "stdout",
     "output_type": "stream",
     "text": [
      "1\n",
      "2\n",
      "3\n",
      "4\n",
      "5\n",
      "6\n",
      "7\n",
      "8\n",
      "9\n"
     ]
    }
   ],
   "source": [
    "# range 안에 숫자를 두 개 넣어주면 (ex: range(start, stop))\n",
    "# start부터 stop 직전(가령 10을 넣어줬다면 9) 까지의 값을 반복합니다.\n",
    "for i in range(1, 10):\n",
    "    print(i)"
   ]
  },
  {
   "cell_type": "markdown",
   "metadata": {},
   "source": [
    "여기에 추가로 반복문에서만 쓸 수 있는 특수 기능이 있습니다. 바로 ```break```와 ```continue``` 입니다.\n",
    "\n",
    "먼저 ```break```는 루프를 강제로 종료시키는 기능입니다. for문 안에서 반복을 돌다가 ```break```와 마주친다면 루프를 강제로 종료합니다."
   ]
  },
  {
   "cell_type": "code",
   "execution_count": 161,
   "metadata": {},
   "outputs": [
    {
     "name": "stdout",
     "output_type": "stream",
     "text": [
      "1\n",
      "2\n",
      "3\n",
      "4\n"
     ]
    }
   ],
   "source": [
    "# 1부터 10까지 순서대로 실행됩니다.\n",
    "for i in range(1, 10):\n",
    "    # 반복문 안에서 제어문(if)을 실행할 수 있습니다.\n",
    "    # 이 제어문 안에 있는 코드는 i가 5일 경우에만 동작합니다.\n",
    "    if i == 5:\n",
    "        # i가 5일 경우에 루프를 강제로 종료시킵니다.\n",
    "        # 즉, 이 경우는(i == 5) 바로 아래에 있는 print(i)가 실행되지 않는 것은 물론,\n",
    "        # i가 6, 7, 8, 9인 상황도 일어나지 않습니다.\n",
    "        break\n",
    "\n",
    "    # i값을 출력합니다.\n",
    "    # 앞서 언급한대로, 이 코드는 i가 5, 6, 7, 8, 9일때는 실행되지 않습니다.\n",
    "    print(i)"
   ]
  },
  {
   "cell_type": "markdown",
   "metadata": {},
   "source": [
    "이와 비슷하게 ```continue```는 루프를 한 번만 skip하는 기능입니다.\n",
    "\n",
    "```break```와의 차이점은, 가령 반복문 안에서 i가 2일때 ```break``` 문구를 마주쳤을 시에는 루프가 강제 종료되지만, (=```break```를 마주친 상황은 물론, i가 3인 상황부터 전부 실행되지 않습니다) ```continue``` 문구를 마주쳤을 경우에는 i가 2인 경우만 skip하고 i가 3인 경우부터 재시작합니다."
   ]
  },
  {
   "cell_type": "code",
   "execution_count": 162,
   "metadata": {},
   "outputs": [
    {
     "name": "stdout",
     "output_type": "stream",
     "text": [
      "1\n",
      "3\n",
      "4\n"
     ]
    }
   ],
   "source": [
    "# 1부터 10까지 순서대로 실행됩니다.\n",
    "for i in range(1, 10):\n",
    "    # 반복문 안에서 제어문(if)을 실행할 수 있습니다.\n",
    "    # 이 제어문 안에 있는 코드는 i가 2일 경우에만 동작합니다.\n",
    "    if i == 2:\n",
    "        # i가 2일 경우에 루프를 한 번 skip 합니다.\n",
    "        # 즉, 이 경우는(i == 2) print(i)를 실행하지 않지만 i가 3인 경우부터 루프를 재시작합니다.\n",
    "        continue\n",
    "\n",
    "    # 반복문 안에서 제어문(if)을 실행할 수 있습니다.\n",
    "    # 이 제어문 안에 있는 코드는 i가 5일 경우에만 동작합니다.\n",
    "    if i == 5:\n",
    "        # i가 5일 경우에 루프를 강제로 종료시킵니다.\n",
    "        # 즉, 이 경우는(i == 5) 바로 아래에 있는 print(i)가 실행되지 않는 것은 물론,\n",
    "        # i가 6, 7, 8, 9인 상황도 일어나지 않습니다.\n",
    "        break\n",
    "\n",
    "    # i값을 출력합니다.\n",
    "    # 앞서 언급한대로, 이 코드는 i가 2, 5, 6, 7, 8, 9일때는 실행되지 않습니다.\n",
    "    print(i)"
   ]
  },
  {
   "cell_type": "markdown",
   "metadata": {},
   "source": [
    "그럼 지금까지 배운 내용을 조합하여 간단한 코드를 하나 작성해보겠습니다. 다음과 같은 기능을 하는 코드를 작성하고 싶습니다.\n",
    "\n",
    "1. 루프를 1부터 10까지 반복합니다. (=i에는 1부터 10까지의 값이 반복해서 들어갑니다)\n",
    "1. i를 그대로 출력하지 않고, 두 배로 늘려서 출력합니다. (```i * 2```)\n",
    "1. 반복문 안에서 출력하지 않고, 반복문 안에서 값을 모아뒀다가 반복문이 끝나면 밖에서 출력합니다. 이를 위해서는 빈 리스트를 만든 뒤(```double_list = []```), 리스트의 ```.append``` 기능을 사용해서 값을 집어넣어야 합니다.\n",
    "1. 여기서 i가 5일 경우는 반복을 한 번만 skip하고 다음 반복(i가 6일 경우)을 재시작합니다.\n",
    "1. 그리고 i가 8일 경우는 반복문을 강제로 종료시킵니다.\n",
    "\n",
    "위 내용을 코드로 구현하면 다음과 같습니다."
   ]
  },
  {
   "cell_type": "code",
   "execution_count": 163,
   "metadata": {},
   "outputs": [
    {
     "data": {
      "text/plain": [
       "[2, 4, 6, 8, 12, 14]"
      ]
     },
     "execution_count": 163,
     "metadata": {},
     "output_type": "execute_result"
    }
   ],
   "source": [
    "# double_list라는 변수에 빈 리스트를 하나 할당합니다.\n",
    "double_list = []\n",
    "\n",
    "# 1부터 10까지 루프를 반복합니다.\n",
    "for i in range(1, 11):\n",
    "    # i가 5이면 현재 루프를 skip하고 다음 루프(i가 6인 경우)를 실행합니다.\n",
    "    if i == 5:\n",
    "        continue\n",
    "    \n",
    "    # i가 8이면 반복문을 강제로 종료시킵니다.\n",
    "    if i == 8:\n",
    "        break\n",
    "    \n",
    "    # i 값에 2를 곱한 뒤, 그 결과를 double이라는 이름의 변수에 할당합니다.\n",
    "    double = i * 2\n",
    "    \n",
    "    # doublie_list에 double 변수에 들어있는 값을 할당합니다.\n",
    "    double_list.append(double)\n",
    "\n",
    "# 반복문이 끝난 다음의 결과를 모두 출력합니다.\n",
    "double_list"
   ]
  },
  {
   "cell_type": "markdown",
   "metadata": {},
   "source": [
    "## 함수\n",
    "\n",
    "마지막으로 배울 기능은 함수(function)입니다. 함수를 사용하는 이유는 반복문을 사용하는 이유와 마찬가지입니다. 만일 비슷한 코드를 여러번 작성하는 중복 현상이 자주 일어난다면, 이를 함수로 묶어주면 좋습니다.\n",
    "\n",
    "함수를 사용하는 기본적인 방식은 다음과 같습니다."
   ]
  },
  {
   "cell_type": "code",
   "execution_count": 164,
   "metadata": {},
   "outputs": [
    {
     "name": "stdout",
     "output_type": "stream",
     "text": [
      "6\n",
      "12\n"
     ]
    }
   ],
   "source": [
    "# def는 define의 약자입니다. 파이썬에는 def를 통해 함수를 정의합니다.\n",
    "# 함수의 이름은 multiply로 하겠습니다. (사용자가 임의로 지정 가능합니다)\n",
    "# multiply 함수에서는 a라는 이름의 인자와 b라는 이름의 인자를 받습니다. (인자는 변수와 거의 동일하다고 보시면 됩니다)\n",
    "def multiply(a, b):\n",
    "    # a 변수의 값과 b변수의 값을 곱한 뒤, c 변수에 할당합니다.\n",
    "    c = a * b\n",
    "    \n",
    "    # 이후 c 변수의 값을 반환합니다. \n",
    "    return c\n",
    "\n",
    "# 이제 우리는 multiply라는 이름의 함수를 사용할 수 있습니다.\n",
    "# 가령 multiply(2, 3)은 a라는 변수에 2를 할당하고, b라는 변수에 3을 할당한 뒤\n",
    "# multiply 안에 있는 코드를 실행하고, 그 결과를 return 문으로 반환받는다고 이해하시면 됩니다.\n",
    "print(multiply(2, 3))\n",
    "\n",
    "# 다시 한 번 multiply 함수를 실행합니다.\n",
    "# 이번에는 a에 3을 할당하고, b에 4를 할당합니다.\n",
    "# 이런 방식으로 긴 코드를 함수로 묶어서 한 줄로 사용할 수 있습니다.\n",
    "print(multiply(3, 4))"
   ]
  },
  {
   "cell_type": "markdown",
   "metadata": {},
   "source": [
    "함수를 사용하는 다른 예를 살펴보겠습니다. 이번에는 음수/양수/0을 반환하는 ```sign``` 이라는 이름의 함수를 만들어보겠습니다."
   ]
  },
  {
   "cell_type": "code",
   "execution_count": 165,
   "metadata": {},
   "outputs": [
    {
     "name": "stdout",
     "output_type": "stream",
     "text": [
      "음수\n",
      "0\n",
      "양수\n"
     ]
    }
   ],
   "source": [
    "# sign이라는 이름의 함수를 만듭니다. n이라는 이름의 인자를 받습니다.\n",
    "def sign(n):\n",
    "    # n이 0보다 크면 \"양수\"라는 텍스트를 반환합니다.\n",
    "    if n > 0:\n",
    "        return \"양수\"\n",
    "    # 반면 n이 0보다 작으면 \"음수\"라는 텍스트를 반환합니다.\n",
    "    elif n < 0:\n",
    "        return \"음수\"\n",
    "    # n이 0이라면 \"0\"이라는 텍스트를 반환합니다.\n",
    "    else:\n",
    "        return \"0\"\n",
    "\n",
    "# 위의 복잡한 여섯 줄의 코드를, 이제는 sign이라는 이름의 함수를 활용해 한 줄로 줄여서 사용할 수 있습니다.\n",
    "print(sign(-1))\n",
    "print(sign(0))\n",
    "print(sign(+1))"
   ]
  },
  {
   "cell_type": "markdown",
   "metadata": {},
   "source": [
    "## 파이썬을 활용한 간단한 문제 풀이\n",
    "\n",
    "마지막으로 위에서 배운 내용을 활용해서 간단한 프로그래밍 문제를 풀어보는걸로 하겠습니다. 지금까지 배운 문법만 잘 활용하더라도, 다음에 나오는 문제들을 쉽게 풀 수 있습니다."
   ]
  },
  {
   "cell_type": "markdown",
   "metadata": {},
   "source": [
    "### 팩토리얼\n",
    "\n",
    "수학 시간에 배운 팩토리얼입니다. 기억이 나지 않는 분들을 위해 예시를 들자면\n",
    "\n",
    "  * 3! = 3 x 2 x 1 = 6\n",
    "  * 4! = 4 x 3 x 2 x 1 = 24\n",
    "  * 5! = 5 x 4 x 3 x 2 x 1 = 120\n",
    "  \n",
    "와 같이 동작합니다. 파이썬에서는 간단한 몇 줄의 코드만으로 팩토리얼을 구현할 수 있습니다."
   ]
  },
  {
   "cell_type": "code",
   "execution_count": 166,
   "metadata": {},
   "outputs": [
    {
     "name": "stdout",
     "output_type": "stream",
     "text": [
      "6\n",
      "24\n",
      "120\n"
     ]
    }
   ],
   "source": [
    "# factorial 함수를 만듭니다.\n",
    "def factorial(n):\n",
    "    # result 변수에 1을 할당합니다.\n",
    "    result = 1\n",
    "    \n",
    "    # 반복문을 이용해서 1 부터 n까지를 반복합니다..\n",
    "    for i in range(1, n + 1):\n",
    "        # result 변수와 i 변수를 곱하여 다시 result 변수에 할당합니다.\n",
    "        result = result * i\n",
    "    \n",
    "    # 마지막으로 result 값을 반환합니다.\n",
    "    return result\n",
    "\n",
    "print(factorial(3))\n",
    "print(factorial(4))\n",
    "print(factorial(5))"
   ]
  },
  {
   "cell_type": "markdown",
   "metadata": {},
   "source": [
    "비슷하지만 이러한 방식으로도 팩토리얼을 구현할 수 있습니다."
   ]
  },
  {
   "cell_type": "code",
   "execution_count": 167,
   "metadata": {},
   "outputs": [
    {
     "name": "stdout",
     "output_type": "stream",
     "text": [
      "6\n",
      "24\n",
      "120\n"
     ]
    }
   ],
   "source": [
    "# factorial이라는 이름의 함수를 만듭니다. 인자로 n을 받습니다.\n",
    "def factorial(n):\n",
    "    # n이 1일 경우 1을 반환합니다.\n",
    "    if n == 1:\n",
    "        return 1\n",
    "    # n이 1이 아닐 경우, n과 factorial(n - 1)의 결과값을 곱합니다.\n",
    "    # factorial 함수 안에서 factorial을 다시 한 번 호출하는 것이 포인트입니다.\n",
    "    else:\n",
    "        return n * factorial(n - 1)\n",
    "\n",
    "# 팩토리얼 3, 4, 5를 계산합니다.\n",
    "print(factorial(3))\n",
    "print(factorial(4))\n",
    "print(factorial(5))"
   ]
  },
  {
   "cell_type": "markdown",
   "metadata": {},
   "source": [
    "위와 같이 함수에서 자기 자신을 호출하는 것을 **재귀 함수**라고 부릅니다. 재미있는 기능이지만 현실에서는 잘 쓰이지 않으므로, 평범하게 반복문(```for```문)으로 푸셔도 무방합니다."
   ]
  },
  {
   "cell_type": "markdown",
   "metadata": {
    "collapsed": true
   },
   "source": [
    "### 3n + 1\n",
    "\n",
    "3n + 1 문제는 다음과 같습니다.\n",
    "\n",
    "  * n이 홀수면 3을 곱한 뒤 1을 더하고\n",
    "  * n이 짝수면 2로 나눕니다.\n",
    "  * 마지막으로 n이 1이 되면 프로그램을 종료합니다.\n",
    "\n",
    "이 문제 역시 재귀 함수를 사용하면 간단하게 풀 수 있습니다."
   ]
  },
  {
   "cell_type": "code",
   "execution_count": 168,
   "metadata": {},
   "outputs": [
    {
     "name": "stdout",
     "output_type": "stream",
     "text": [
      "[1]\n",
      "[2, 1]\n",
      "[3, 10, 5.0, 16.0, 8.0, 4.0, 2.0, 1]\n",
      "[4, 2.0, 1]\n",
      "[5, 16, 8.0, 4.0, 2.0, 1]\n"
     ]
    }
   ],
   "source": [
    "# cycle이라는 이름의 함수를 만듭니다. 인자로 n을 받습니다.\n",
    "def cycle(n):\n",
    "    # n이 1이면 1이 하나 들어간 리스트를 반환합니다.\n",
    "    if n == 1:\n",
    "        return [1]\n",
    "\n",
    "    # n이 짝수이면 n이 하나 들어간 리스트와, cycle(n / 2)의 결과값을 더해서 반환합니다.\n",
    "    if n % 2 == 0:\n",
    "        return [n] + cycle(n / 2)\n",
    "    # n이 홀수이면 n이 하나 들어간 리스트와, cycle(3 * n + 2)의 결과값을 더해서 반환합니다.\n",
    "    else:\n",
    "        return [n] + cycle(3 * n + 1)\n",
    "    \n",
    "# 1번부터 5번까지 3n + 1 문제를 실행합니다.\n",
    "print(cycle(1))\n",
    "print(cycle(2))\n",
    "print(cycle(3))\n",
    "print(cycle(4))\n",
    "print(cycle(5))"
   ]
  },
  {
   "cell_type": "markdown",
   "metadata": {},
   "source": [
    "### 369 게임\n",
    "\n",
    "다음은 369게임입니다. 369게임은 다음과 같습니다.\n",
    "\n",
    "1. 1부터 시작해 숫자를 하나씩 센다.\n",
    "2. 숫자에 3이나 6이나 9가 있을 경우 박수(clap)를 친다.\n",
    "3. 지정한 최대 숫자까지 도달하면 프로그램을 종료한다.\n",
    "\n",
    "단, 이번에 작성할 프로그램에서는 3, 6, 9가 두 번 이상 발생하는 경우는 고려하지 않습니다. (가령 33은 박수를 두 번 치지 않고 한 번만 칩니다."
   ]
  },
  {
   "cell_type": "code",
   "execution_count": 169,
   "metadata": {},
   "outputs": [
    {
     "name": "stdout",
     "output_type": "stream",
     "text": [
      "1\n",
      "2\n",
      "clap!\n",
      "4\n",
      "5\n",
      "clap!\n",
      "7\n",
      "8\n",
      "clap!\n",
      "10\n",
      "11\n",
      "12\n",
      "clap!\n",
      "14\n",
      "15\n",
      "clap!\n",
      "17\n",
      "18\n",
      "clap!\n",
      "20\n",
      "21\n",
      "22\n",
      "clap!\n",
      "24\n",
      "25\n",
      "clap!\n",
      "27\n",
      "28\n",
      "clap!\n",
      "clap!\n",
      "clap!\n",
      "clap!\n",
      "clap!\n",
      "clap!\n",
      "clap!\n",
      "clap!\n",
      "clap!\n",
      "clap!\n",
      "clap!\n",
      "40\n",
      "41\n",
      "42\n",
      "clap!\n",
      "44\n",
      "45\n",
      "clap!\n",
      "47\n",
      "48\n",
      "clap!\n",
      "50\n",
      "51\n",
      "52\n",
      "clap!\n",
      "54\n",
      "55\n",
      "clap!\n",
      "57\n",
      "58\n",
      "clap!\n",
      "clap!\n",
      "clap!\n",
      "clap!\n",
      "clap!\n",
      "clap!\n",
      "clap!\n",
      "clap!\n",
      "clap!\n",
      "clap!\n",
      "clap!\n",
      "70\n",
      "71\n",
      "72\n",
      "clap!\n",
      "74\n",
      "75\n",
      "clap!\n",
      "77\n",
      "78\n",
      "clap!\n",
      "80\n",
      "81\n",
      "82\n",
      "clap!\n",
      "84\n",
      "85\n",
      "clap!\n",
      "87\n",
      "88\n",
      "clap!\n",
      "clap!\n",
      "clap!\n",
      "clap!\n",
      "clap!\n",
      "clap!\n",
      "clap!\n",
      "clap!\n",
      "clap!\n",
      "clap!\n",
      "clap!\n",
      "100\n"
     ]
    }
   ],
   "source": [
    "# game369라는 이름의 함수를 만듭니다.\n",
    "# 인자로는 finish라는 값을 반습니다.\n",
    "def game369(finish):\n",
    "    # 1부터 finish까지 반복을 돌며, 매 번 반복하는 값을 n이라는 이름의 변수에 할당합니다.\n",
    "    for n in range(1, finish + 1):\n",
    "        # 여기가 이 프로그램의 핵심입니다. n을 문자열(텍스트)로 변환합니다.\n",
    "        # 가령 3은 \"3\"으로, 33은 \"33\"으로 변환합니다.\n",
    "        n_text = str(n)\n",
    "\n",
    "        # 텍스트로 된 n에 3이나 6이나 9가 있는지 체크합니다.\n",
    "        if \"3\" in n_text or \"6\" in n_text or \"9\" in n_text:\n",
    "            # 3, 6, 9가 있으면 박수를 칩니다.\n",
    "            print(\"clap!\")\n",
    "        else:\n",
    "            # 3, 6, 9가 없으면 숫자를 그대로 출력합니다.\n",
    "            print(n)\n",
    "\n",
    "# 1번부터 100번까지 369게임을 실행합니다.\n",
    "game369(100)"
   ]
  },
  {
   "cell_type": "markdown",
   "metadata": {},
   "source": [
    "## 마무리하며\n",
    "\n",
    "지금까지 프로그래밍 언어 파이썬(Python)의 주요 기능에 대해 살펴보았습니다. 위 기능만 잘 숙지한다면 앞으로 파이썬으로 데이터 분석을 하는데 큰 문제는 없을 겁니다.\n",
    "\n",
    "물론 현장에서 일을 하다보면 위 내용에 없는 새로운 기능들이 필요할 때가 있습니다. 그럴 경우에는 1) 파이썬의 주요 기능이 잘 정리되어있는 서적을 찾아 색인하시거나, 2) 구글에 검색해서 그 때 그 때 학습하시면 됩니다.\n",
    "\n",
    "혹시라도 파이썬에 대해 더 공부하고 싶은 마음이 있는 분들은, [점프 투 파이썬](https://wikidocs.net/book/1)이라는 책을 추천드립니다. 데이터 분석을 하기 위해서는 위 링크의 4장 정도의 내용이면 충분하며, 4장 이후의 내용이 궁금하시다면 시간을 내서 살펴보시는 것도 좋습니다."
   ]
  },
  {
   "cell_type": "code",
   "execution_count": null,
   "metadata": {
    "collapsed": true
   },
   "outputs": [],
   "source": []
  }
 ],
 "metadata": {
  "kernelspec": {
   "display_name": "Python 3",
   "language": "python",
   "name": "python3"
  },
  "language_info": {
   "codemirror_mode": {
    "name": "ipython",
    "version": 3
   },
   "file_extension": ".py",
   "mimetype": "text/x-python",
   "name": "python",
   "nbconvert_exporter": "python",
   "pygments_lexer": "ipython3",
   "version": "3.6.4"
  }
 },
 "nbformat": 4,
 "nbformat_minor": 2
}
